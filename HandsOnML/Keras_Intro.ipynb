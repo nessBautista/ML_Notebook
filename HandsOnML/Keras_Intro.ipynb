{
 "cells": [
  {
   "cell_type": "code",
   "execution_count": 9,
   "metadata": {},
   "outputs": [],
   "source": [
    "import tensorflow as tf\n",
    "from tensorflow import keras\n",
    "import numpy as np"
   ]
  },
  {
   "cell_type": "code",
   "execution_count": 2,
   "metadata": {},
   "outputs": [],
   "source": [
    "fashion_mnist = keras.datasets.fashion_mnist\n",
    "(X_train_full, y_train_full), (X_test, y_test) = fashion_mnist.load_data()"
   ]
  },
  {
   "cell_type": "code",
   "execution_count": 3,
   "metadata": {},
   "outputs": [
    {
     "data": {
      "text/plain": [
       "(60000, 28, 28)"
      ]
     },
     "execution_count": 3,
     "metadata": {},
     "output_type": "execute_result"
    }
   ],
   "source": [
    "X_train_full.shape"
   ]
  },
  {
   "cell_type": "code",
   "execution_count": 8,
   "metadata": {},
   "outputs": [
    {
     "data": {
      "text/plain": [
       "dtype('uint8')"
      ]
     },
     "execution_count": 8,
     "metadata": {},
     "output_type": "execute_result"
    }
   ],
   "source": [
    "X_train_full.dtype"
   ]
  },
  {
   "cell_type": "code",
   "execution_count": 20,
   "metadata": {},
   "outputs": [],
   "source": [
    "#Create Validation set\n",
    "#You should have sets for: Training, validation and test\n",
    "#First 5000 samples for validation, the rest for training\n",
    "X_valid, X_train = X_train_full[:5000] / 255.0, X_train_full[5000:] / 255.0\n",
    "y_valid, y_train = y_train_full[:5000], y_train_full[5000:]\n",
    "X_test = X_test / 255.0\n"
   ]
  },
  {
   "cell_type": "code",
   "execution_count": 21,
   "metadata": {},
   "outputs": [],
   "source": [
    "#Prepare the class names\n",
    "class_names = [\"T-shirt/top\", \"Trouser\", \"Pullover\", \"Dress\", \"Coat\",\n",
    "               \"Sandal\", \"Shirt\", \"Sneaker\", \"Bag\", \"Ankle boot\"]"
   ]
  },
  {
   "cell_type": "code",
   "execution_count": 24,
   "metadata": {},
   "outputs": [
    {
     "data": {
      "text/plain": [
       "'Coat'"
      ]
     },
     "execution_count": 24,
     "metadata": {},
     "output_type": "execute_result"
    }
   ],
   "source": [
    "#You can check the labels in the training data:\n",
    "class_names[y_train[0]]"
   ]
  },
  {
   "cell_type": "markdown",
   "metadata": {},
   "source": [
    "### Here is an example of how the data sets looks like\n",
    "<img src=\"fashion_mnist_sample.png\">\n",
    "\n",
    "# Now lets build the neural network.\n",
    "## We will be using a MLP with 2 hidden layers"
   ]
  },
  {
   "cell_type": "code",
   "execution_count": 25,
   "metadata": {},
   "outputs": [],
   "source": [
    "model = keras.models.Sequential()\n",
    "model.add(keras.layers.Flatten(input_shape=[28, 28]))\n",
    "model.add(keras.layers.Dense(300, activation=\"relu\"))\n",
    "model.add(keras.layers.Dense(100, activation=\"relu\"))\n",
    "model.add(keras.layers.Dense(10, activation=\"softmax\"))\n",
    "\n",
    "\"\"\"\n",
    "You could also initialize the model as:\n",
    "model = keras.models.Sequential([\n",
    "    keras.layers.Flatten(input_shape=[28, 28]),\n",
    "    keras.layers.Dense(300, activation=\"relu\"),\n",
    "    keras.layers.Dense(100, activation=\"relu\"),\n",
    "    keras.layers.Dense(10, activation=\"softmax\")\n",
    "])\n",
    "\"\"\""
   ]
  },
  {
   "cell_type": "markdown",
   "metadata": {},
   "source": [
    "Each layer will be executing this function: $h_{W,b} = ø(XW + b)$"
   ]
  },
  {
   "cell_type": "code",
   "execution_count": 27,
   "metadata": {},
   "outputs": [
    {
     "name": "stdout",
     "output_type": "stream",
     "text": [
      "Model: \"sequential\"\n",
      "_________________________________________________________________\n",
      "Layer (type)                 Output Shape              Param #   \n",
      "=================================================================\n",
      "flatten (Flatten)            (None, 784)               0         \n",
      "_________________________________________________________________\n",
      "dense (Dense)                (None, 300)               235500    \n",
      "_________________________________________________________________\n",
      "dense_1 (Dense)              (None, 100)               30100     \n",
      "_________________________________________________________________\n",
      "dense_2 (Dense)              (None, 10)                1010      \n",
      "=================================================================\n",
      "Total params: 266,610\n",
      "Trainable params: 266,610\n",
      "Non-trainable params: 0\n",
      "_________________________________________________________________\n"
     ]
    }
   ],
   "source": [
    "model.summary()"
   ]
  },
  {
   "cell_type": "code",
   "execution_count": 29,
   "metadata": {},
   "outputs": [
    {
     "data": {
      "text/plain": [
       "[<tensorflow.python.keras.layers.core.Flatten at 0x10643e450>,\n",
       " <tensorflow.python.keras.layers.core.Dense at 0x10643e050>,\n",
       " <tensorflow.python.keras.layers.core.Dense at 0x13208e550>,\n",
       " <tensorflow.python.keras.layers.core.Dense at 0x1354f9f90>]"
      ]
     },
     "execution_count": 29,
     "metadata": {},
     "output_type": "execute_result"
    }
   ],
   "source": [
    "model.layers"
   ]
  },
  {
   "cell_type": "code",
   "execution_count": 31,
   "metadata": {},
   "outputs": [
    {
     "data": {
      "text/plain": [
       "'dense'"
      ]
     },
     "execution_count": 31,
     "metadata": {},
     "output_type": "execute_result"
    }
   ],
   "source": [
    "hidden1 = model.layers[1]\n",
    "hidden1.name"
   ]
  },
  {
   "cell_type": "code",
   "execution_count": 32,
   "metadata": {},
   "outputs": [
    {
     "data": {
      "text/plain": [
       "True"
      ]
     },
     "execution_count": 32,
     "metadata": {},
     "output_type": "execute_result"
    }
   ],
   "source": [
    "model.get_layer('dense') is hidden1"
   ]
  },
  {
   "cell_type": "code",
   "execution_count": 40,
   "metadata": {},
   "outputs": [
    {
     "data": {
      "text/plain": [
       "(784, 300)"
      ]
     },
     "execution_count": 40,
     "metadata": {},
     "output_type": "execute_result"
    }
   ],
   "source": [
    "weights, biases = hidden1.get_weights()\n",
    "weights.shape"
   ]
  },
  {
   "cell_type": "code",
   "execution_count": 41,
   "metadata": {},
   "outputs": [
    {
     "data": {
      "text/plain": [
       "(300,)"
      ]
     },
     "execution_count": 41,
     "metadata": {},
     "output_type": "execute_result"
    }
   ],
   "source": [
    "biases.shape"
   ]
  },
  {
   "cell_type": "code",
   "execution_count": 42,
   "metadata": {},
   "outputs": [],
   "source": [
    "# After the model is created you must call its compile() method\n",
    "# to specify the loss function and optimizer to use.\n",
    "model.compile(loss=\"sparse_categorical_crossentropy\",\n",
    "              optimizer=\"sgd\",\n",
    "              metrics=[\"accuracy\"]) #you can specify a list of metrics to compute during training"
   ]
  },
  {
   "cell_type": "code",
   "execution_count": 43,
   "metadata": {},
   "outputs": [
    {
     "name": "stdout",
     "output_type": "stream",
     "text": [
      "Train on 55000 samples, validate on 5000 samples\n",
      "Epoch 1/30\n",
      "55000/55000 [==============================] - 3s 64us/sample - loss: 0.7124 - accuracy: 0.7681 - val_loss: 0.5117 - val_accuracy: 0.8260\n",
      "Epoch 2/30\n",
      "55000/55000 [==============================] - 3s 59us/sample - loss: 0.4833 - accuracy: 0.8317 - val_loss: 0.4743 - val_accuracy: 0.8390\n",
      "Epoch 3/30\n",
      "55000/55000 [==============================] - 3s 63us/sample - loss: 0.4393 - accuracy: 0.8463 - val_loss: 0.4212 - val_accuracy: 0.8580\n",
      "Epoch 4/30\n",
      "55000/55000 [==============================] - 3s 62us/sample - loss: 0.4123 - accuracy: 0.8556 - val_loss: 0.4409 - val_accuracy: 0.8434\n",
      "Epoch 5/30\n",
      "55000/55000 [==============================] - 3s 61us/sample - loss: 0.3922 - accuracy: 0.8610 - val_loss: 0.3770 - val_accuracy: 0.8696\n",
      "Epoch 6/30\n",
      "55000/55000 [==============================] - 3s 62us/sample - loss: 0.3762 - accuracy: 0.8685 - val_loss: 0.3995 - val_accuracy: 0.8628\n",
      "Epoch 7/30\n",
      "55000/55000 [==============================] - 3s 60us/sample - loss: 0.3634 - accuracy: 0.8723 - val_loss: 0.3587 - val_accuracy: 0.8758\n",
      "Epoch 8/30\n",
      "55000/55000 [==============================] - 3s 59us/sample - loss: 0.3521 - accuracy: 0.8759 - val_loss: 0.3718 - val_accuracy: 0.8716\n",
      "Epoch 9/30\n",
      "55000/55000 [==============================] - 3s 61us/sample - loss: 0.3411 - accuracy: 0.8793 - val_loss: 0.3740 - val_accuracy: 0.8680\n",
      "Epoch 10/30\n",
      "55000/55000 [==============================] - 3s 61us/sample - loss: 0.3327 - accuracy: 0.8827 - val_loss: 0.3714 - val_accuracy: 0.8650\n",
      "Epoch 11/30\n",
      "55000/55000 [==============================] - 3s 62us/sample - loss: 0.3249 - accuracy: 0.8837 - val_loss: 0.3375 - val_accuracy: 0.8800\n",
      "Epoch 12/30\n",
      "55000/55000 [==============================] - 3s 59us/sample - loss: 0.3167 - accuracy: 0.8871 - val_loss: 0.3292 - val_accuracy: 0.8822\n",
      "Epoch 13/30\n",
      "55000/55000 [==============================] - 3s 62us/sample - loss: 0.3091 - accuracy: 0.8897 - val_loss: 0.3427 - val_accuracy: 0.8780\n",
      "Epoch 14/30\n",
      "55000/55000 [==============================] - 3s 61us/sample - loss: 0.3014 - accuracy: 0.8918 - val_loss: 0.3226 - val_accuracy: 0.8852\n",
      "Epoch 15/30\n",
      "55000/55000 [==============================] - 3s 60us/sample - loss: 0.2954 - accuracy: 0.8942 - val_loss: 0.3141 - val_accuracy: 0.8872\n",
      "Epoch 16/30\n",
      "55000/55000 [==============================] - 3s 60us/sample - loss: 0.2896 - accuracy: 0.8959 - val_loss: 0.3506 - val_accuracy: 0.8718\n",
      "Epoch 17/30\n",
      "55000/55000 [==============================] - 3s 60us/sample - loss: 0.2836 - accuracy: 0.8995 - val_loss: 0.3124 - val_accuracy: 0.8876\n",
      "Epoch 18/30\n",
      "55000/55000 [==============================] - 3s 62us/sample - loss: 0.2788 - accuracy: 0.8998 - val_loss: 0.3236 - val_accuracy: 0.8858\n",
      "Epoch 19/30\n",
      "55000/55000 [==============================] - 3s 60us/sample - loss: 0.2734 - accuracy: 0.9014 - val_loss: 0.3183 - val_accuracy: 0.8862\n",
      "Epoch 20/30\n",
      "55000/55000 [==============================] - 3s 60us/sample - loss: 0.2686 - accuracy: 0.9034 - val_loss: 0.3106 - val_accuracy: 0.8920\n",
      "Epoch 21/30\n",
      "55000/55000 [==============================] - 3s 63us/sample - loss: 0.2645 - accuracy: 0.9048 - val_loss: 0.3166 - val_accuracy: 0.8858\n",
      "Epoch 22/30\n",
      "55000/55000 [==============================] - 3s 63us/sample - loss: 0.2591 - accuracy: 0.9068 - val_loss: 0.3196 - val_accuracy: 0.8830\n",
      "Epoch 23/30\n",
      "55000/55000 [==============================] - 3s 61us/sample - loss: 0.2544 - accuracy: 0.9088 - val_loss: 0.3220 - val_accuracy: 0.8844\n",
      "Epoch 24/30\n",
      "55000/55000 [==============================] - 3s 61us/sample - loss: 0.2510 - accuracy: 0.9091 - val_loss: 0.3168 - val_accuracy: 0.8868\n",
      "Epoch 25/30\n",
      "55000/55000 [==============================] - 3s 61us/sample - loss: 0.2462 - accuracy: 0.9121 - val_loss: 0.3253 - val_accuracy: 0.8798\n",
      "Epoch 26/30\n",
      "55000/55000 [==============================] - 6s 105us/sample - loss: 0.2425 - accuracy: 0.9133 - val_loss: 0.3044 - val_accuracy: 0.8934\n",
      "Epoch 27/30\n",
      "55000/55000 [==============================] - 4s 66us/sample - loss: 0.2391 - accuracy: 0.9128 - val_loss: 0.2976 - val_accuracy: 0.8922\n",
      "Epoch 28/30\n",
      "55000/55000 [==============================] - 3s 62us/sample - loss: 0.2347 - accuracy: 0.9153 - val_loss: 0.3174 - val_accuracy: 0.8844\n",
      "Epoch 29/30\n",
      "55000/55000 [==============================] - 3s 62us/sample - loss: 0.2309 - accuracy: 0.9170 - val_loss: 0.2965 - val_accuracy: 0.8916\n",
      "Epoch 30/30\n",
      "55000/55000 [==============================] - 3s 62us/sample - loss: 0.2265 - accuracy: 0.9185 - val_loss: 0.2921 - val_accuracy: 0.8908\n"
     ]
    }
   ],
   "source": [
    "# now the model is ready to be trained\n",
    "history = model.fit(X_train, y_train, epochs=30,\n",
    "                   validation_data=(X_valid, y_valid))"
   ]
  },
  {
   "cell_type": "code",
   "execution_count": 45,
   "metadata": {},
   "outputs": [
    {
     "data": {
      "image/png": "[encoded data removed]",
      "text/plain": [
       "<Figure size 576x360 with 1 Axes>"
      ]
     },
     "metadata": {
      "needs_background": "light"
     },
     "output_type": "display_data"
    }
   ],
   "source": [
    "import pandas as pd \n",
    "import matplotlib.pyplot as plt \n",
    "\n",
    "history_dataframe = pd.DataFrame(history.history)\n",
    "history_dataframe.plot(figsize=(8,5))\n",
    "plt.grid(True)\n",
    "plt.gca().set_ylim(0,1)\n",
    "plt.show()\n"
   ]
  },
  {
   "cell_type": "code",
   "execution_count": 46,
   "metadata": {},
   "outputs": [
    {
     "name": "stdout",
     "output_type": "stream",
     "text": [
      "10000/10000 [==============================] - 0s 35us/sample - loss: 0.3264 - accuracy: 0.8836\n"
     ]
    },
    {
     "data": {
      "text/plain": [
       "[0.3263827322602272, 0.8836]"
      ]
     },
     "execution_count": 46,
     "metadata": {},
     "output_type": "execute_result"
    }
   ],
   "source": [
    "model.evaluate(X_test,y_test)"
   ]
  },
  {
   "cell_type": "markdown",
   "metadata": {},
   "source": [
    "## Using the model to make predictions"
   ]
  },
  {
   "cell_type": "code",
   "execution_count": 47,
   "metadata": {},
   "outputs": [
    {
     "data": {
      "text/plain": [
       "array([[0.  , 0.  , 0.  , 0.  , 0.  , 0.  , 0.  , 0.01, 0.  , 0.99],\n",
       "       [0.  , 0.  , 1.  , 0.  , 0.  , 0.  , 0.  , 0.  , 0.  , 0.  ],\n",
       "       [0.  , 1.  , 0.  , 0.  , 0.  , 0.  , 0.  , 0.  , 0.  , 0.  ]],\n",
       "      dtype=float32)"
      ]
     },
     "execution_count": 47,
     "metadata": {},
     "output_type": "execute_result"
    }
   ],
   "source": [
    "#Using predict, allows you see the output layer completely\n",
    "X_new = X_test[:3]\n",
    "y_proba = model.predict(X_new)\n",
    "y_proba.round(2)"
   ]
  },
  {
   "cell_type": "code",
   "execution_count": 50,
   "metadata": {},
   "outputs": [
    {
     "data": {
      "text/plain": [
       "array([9, 2, 1])"
      ]
     },
     "execution_count": 50,
     "metadata": {},
     "output_type": "execute_result"
    }
   ],
   "source": [
    "#If you are only interested in the class with the highest estimated probability\n",
    "#you could use predict_classes, you get the index of the \n",
    "#output layer array with the highest score.\n",
    "y_pred = model.predict_classes(X_new)\n",
    "y_pred"
   ]
  },
  {
   "cell_type": "code",
   "execution_count": 51,
   "metadata": {},
   "outputs": [
    {
     "data": {
      "text/plain": [
       "array(['Ankle boot', 'Pullover', 'Trouser'], dtype='<U11')"
      ]
     },
     "execution_count": 51,
     "metadata": {},
     "output_type": "execute_result"
    }
   ],
   "source": [
    "#you can use these indexes to get the class names\n",
    "np.array(class_names)[y_pred]"
   ]
  },
  {
   "cell_type": "code",
   "execution_count": 53,
   "metadata": {},
   "outputs": [
    {
     "data": {
      "text/plain": [
       "array([9, 2, 1], dtype=uint8)"
      ]
     },
     "execution_count": 53,
     "metadata": {},
     "output_type": "execute_result"
    }
   ],
   "source": [
    "#Which is the correct answer\n",
    "y_new = y_test[:3]\n",
    "y_new"
   ]
  },
  {
   "cell_type": "markdown",
   "metadata": {},
   "source": [
    "# Building a Regression MLP with the Sequential API"
   ]
  },
  {
   "cell_type": "code",
   "execution_count": null,
   "metadata": {},
   "outputs": [],
   "source": []
  },
  {
   "cell_type": "code",
   "execution_count": null,
   "metadata": {},
   "outputs": [],
   "source": []
  },
  {
   "cell_type": "markdown",
   "metadata": {},
   "source": [
    "# Saving and restoring the Model"
   ]
  },
  {
   "cell_type": "code",
   "execution_count": 54,
   "metadata": {},
   "outputs": [],
   "source": [
    "model.save(\"my_keras_model.h5\")"
   ]
  },
  {
   "cell_type": "code",
   "execution_count": 55,
   "metadata": {},
   "outputs": [],
   "source": [
    "my_loaded_model = keras.models.load_model(\"my_keras_model.h5\")"
   ]
  },
  {
   "cell_type": "code",
   "execution_count": 57,
   "metadata": {},
   "outputs": [
    {
     "data": {
      "text/plain": [
       "array([9, 2, 1])"
      ]
     },
     "execution_count": 57,
     "metadata": {},
     "output_type": "execute_result"
    }
   ],
   "source": [
    "y_pred = model.predict_classes(X_new)\n",
    "y_pred"
   ]
  },
  {
   "cell_type": "code",
   "execution_count": null,
   "metadata": {},
   "outputs": [],
   "source": []
  }
 ],
 "metadata": {
  "kernelspec": {
   "display_name": "Python 3",
   "language": "python",
   "name": "python3"
  },
  "language_info": {
   "codemirror_mode": {
    "name": "ipython",
    "version": 3
   },
   "file_extension": ".py",
   "mimetype": "text/x-python",
   "name": "python",
   "nbconvert_exporter": "python",
   "pygments_lexer": "ipython3",
   "version": "3.7.6"
  }
 },
 "nbformat": 4,
 "nbformat_minor": 4
}
