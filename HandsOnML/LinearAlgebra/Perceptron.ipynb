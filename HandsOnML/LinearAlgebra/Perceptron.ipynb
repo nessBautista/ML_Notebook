{
 "cells": [
  {
   "cell_type": "code",
   "execution_count": 2,
   "metadata": {},
   "outputs": [],
   "source": [
    "from vector import Vector\n",
    "from line import Line"
   ]
  },
  {
   "cell_type": "code",
   "execution_count": 5,
   "metadata": {},
   "outputs": [
    {
     "name": "stdout",
     "output_type": "stream",
     "text": [
      "Vector: (Decimal('2'), Decimal('4'), Decimal('6'))\n"
     ]
    }
   ],
   "source": [
    "v1 = Vector([1,2,3])\n",
    "v2 = Vector([1,2,3])\n",
    "print(v1.plus(v2))"
   ]
  },
  {
   "cell_type": "markdown",
   "metadata": {},
   "source": [
    "# Threshold Logic Unit (TLU) / Linear Threshold Unit(LTU)\n",
    "\n",
    "\n",
    "<img src=\"LTU.png\">"
   ]
  },
  {
   "cell_type": "code",
   "execution_count": 5,
   "metadata": {},
   "outputs": [
    {
     "name": "stdout",
     "output_type": "stream",
     "text": [
      "---X---\n",
      "[[0.1 0.1 0.1]]\n",
      "---W---\n",
      "[[0.01]\n",
      " [0.01]\n",
      " [0.01]]\n",
      "---Weighted Sum Z---\n",
      "[[0.003]]\n",
      "---Output---\n",
      "1\n"
     ]
    }
   ],
   "source": [
    "import numpy as np\n",
    "import matplotlib.pyplot as plt\n",
    "X = np.array([  [0.1, 0.1, 0.1] ])\n",
    "W = np.array([  [0.01],[0.01], [0.01] ])\n",
    "\n",
    "print('---X---')\n",
    "print(X)\n",
    "print('---W---')\n",
    "print(W)\n",
    "\n",
    "def step_heaviside(z):\n",
    "    if z >= 0:\n",
    "        return 1\n",
    "    else:\n",
    "        return 0\n",
    "\n",
    "print('---Weighted Sum Z---')\n",
    "z = np.dot(X,W)\n",
    "print(z)\n",
    "print('---Output---')\n",
    "output = step_heaviside(z)\n",
    "print(output)"
   ]
  },
  {
   "cell_type": "code",
   "execution_count": 18,
   "metadata": {},
   "outputs": [
    {
     "name": "stdout",
     "output_type": "stream",
     "text": [
      "[[17 25  6  2]]\n",
      "[[ 3]\n",
      " [32]\n",
      " [19]\n",
      " [27]]\n"
     ]
    }
   ],
   "source": [
    "\n",
    "\n",
    "X = np.array([  [17,25,6,2] ])\n",
    "print(X)\n",
    "W = np.array([[3],[32], [19], [27]])\n",
    "print(W)"
   ]
  },
  {
   "cell_type": "code",
   "execution_count": 24,
   "metadata": {},
   "outputs": [
    {
     "name": "stdout",
     "output_type": "stream",
     "text": [
      "[[1019]]\n"
     ]
    }
   ],
   "source": [
    "M = np.dot(X,W)\n",
    "print(M)"
   ]
  },
  {
   "cell_type": "code",
   "execution_count": 35,
   "metadata": {},
   "outputs": [
    {
     "name": "stdout",
     "output_type": "stream",
     "text": [
      "---X---\n",
      "[[1 1 1 1]\n",
      " [2 2 2 2]\n",
      " [3 3 3 3]]\n",
      "---W---\n",
      "[[1 2 3 4 5]\n",
      " [1 2 3 4 5]\n",
      " [1 2 3 4 5]\n",
      " [1 2 3 4 5]]\n",
      "Z\n",
      "[[ 4  8 12 16 20]\n",
      " [ 8 16 24 32 40]\n",
      " [12 24 36 48 60]]\n"
     ]
    }
   ],
   "source": [
    "x = np.array([ [1,1,1,1], [2,2,2,2], [3,3,3,3]] )\n",
    "w =  np.array([[1,2,3,4,5],[1,2,3,4,5], [1,2,3,4,5], [1,2,3,4,5]])\n",
    "print('---X---')\n",
    "print(x)\n",
    "print('---W---')\n",
    "print(w)\n",
    "print('Z')\n",
    "dot = np.dot(x,w)\n",
    "print(dot)"
   ]
  },
  {
   "cell_type": "markdown",
   "metadata": {},
   "source": [
    "# The Perceptron\n",
    "<img src=\"perceptron.png\">"
   ]
  },
  {
   "cell_type": "code",
   "execution_count": 46,
   "metadata": {},
   "outputs": [
    {
     "name": "stdout",
     "output_type": "stream",
     "text": [
      "---X---\n",
      "[[0.1 0.1]]\n",
      "---W---\n",
      "[[0.1 0.2 0.3]\n",
      " [0.1 0.2 0.3]]\n"
     ]
    }
   ],
   "source": [
    "\"\"\"\n",
    "As always, X represents the matrix of input features. \n",
    "It has one row per instance and one column per feature.\n",
    "\"\"\"\n",
    "X = np.array([ [0.1,0.1] ] )\n",
    "\"\"\"\n",
    "The weight matrix W contains all the connection weights except for the ones from the bias neuron.\n",
    "It has one row per input neuron and one column per artificial neuron in the layer.\n",
    "\"\"\"\n",
    "W =  np.array([  [0.1,0.2,0.3],[0.1,0.2,0.3] ])\n",
    "\n",
    "\"\"\"\n",
    "The bias vector b contains all the connection weights between the bias neuron and the artificial neurons.\n",
    "It has one bias term per artificial neuron\n",
    "\"\"\"\n",
    "b = 1\n",
    "\n",
    "\n",
    "print('---X---')\n",
    "print(X)\n",
    "print('---W---')\n",
    "print(W)"
   ]
  },
  {
   "cell_type": "code",
   "execution_count": 47,
   "metadata": {},
   "outputs": [
    {
     "name": "stdout",
     "output_type": "stream",
     "text": [
      "ø([[1.02 1.04 1.06]])\n"
     ]
    }
   ],
   "source": [
    "XW= np.dot(X,W)\n",
    "input_to_Activation_function = XW + b\n",
    "print(f'ø({input_to_Activation_function})')"
   ]
  },
  {
   "cell_type": "markdown",
   "metadata": {},
   "source": [
    "## When The Artificial Neurons are TLU, the  activation function  is a step function (but this can accomodate other types of activation)"
   ]
  },
  {
   "cell_type": "code",
   "execution_count": 55,
   "metadata": {},
   "outputs": [],
   "source": [
    "from sklearn.datasets import load_iris\n",
    "from sklearn.linear_model import Perceptron\n",
    "\n",
    "iris = load_iris()\n",
    "X = iris.data[:, (2, 3)]  # petal length, petal width\n",
    "y = (iris.target == 0).astype(np.int)  # Iris setosa?"
   ]
  },
  {
   "cell_type": "code",
   "execution_count": 57,
   "metadata": {},
   "outputs": [
    {
     "name": "stdout",
     "output_type": "stream",
     "text": [
      "(150, 2)\n",
      "(150,)\n"
     ]
    }
   ],
   "source": [
    "print(X.shape)\n",
    "print(y.shape)"
   ]
  },
  {
   "cell_type": "code",
   "execution_count": 60,
   "metadata": {},
   "outputs": [],
   "source": [
    "per_clf = Perceptron()\n",
    "per_clf.fit(X, y)\n",
    "\n",
    "y_pred = per_clf.predict([[2, 0.5]])"
   ]
  },
  {
   "cell_type": "code",
   "execution_count": 64,
   "metadata": {},
   "outputs": [
    {
     "name": "stdout",
     "output_type": "stream",
     "text": [
      "None\n"
     ]
    }
   ],
   "source": [
    "print(per_clf.class_weight)"
   ]
  },
  {
   "cell_type": "markdown",
   "metadata": {},
   "source": [
    "# XOR using multilayer perceptron\n",
    "\n",
    "<img src=\"XOR_MLP.png\">"
   ]
  },
  {
   "cell_type": "code",
   "execution_count": 9,
   "metadata": {},
   "outputs": [
    {
     "data": {
      "text/plain": [
       "[<matplotlib.lines.Line2D at 0x11323aa10>]"
      ]
     },
     "execution_count": 9,
     "metadata": {},
     "output_type": "execute_result"
    },
    {
     "data": {
      "image/png": "[encoded data removed]",
      "text/plain": [
       "<Figure size 432x288 with 1 Axes>"
      ]
     },
     "metadata": {
      "needs_background": "light"
     },
     "output_type": "display_data"
    }
   ],
   "source": [
    "#Let's start by defining the activation function\n",
    "def sigmoid(z):\n",
    "    return 1/(1 + np.exp(-z))\n",
    "\n",
    "x = np.arange(-8,8,0.5)\n",
    "z = sigmoid(x)\n",
    "\n",
    "plt.plot(x, z)"
   ]
  },
  {
   "cell_type": "code",
   "execution_count": 56,
   "metadata": {},
   "outputs": [
    {
     "name": "stdout",
     "output_type": "stream",
     "text": [
      "[[1 1]]\n",
      "[0.]\n",
      "-----XOR-----\n",
      "0 | 0 -> 0.0\n",
      "0 | 1 -> 1.0\n",
      "1 | 0 -> 1.0\n",
      "1 | 1 -> 0.0\n"
     ]
    }
   ],
   "source": [
    "#Define the Weights and Biases\n",
    "W1 = np.array([[20],[20]])\n",
    "B1= -10\n",
    "W2 = np.array([[-20],[-20]])\n",
    "B2= 30\n",
    "YW = np.array([[20],[20]])\n",
    "YB = -30\n",
    "\n",
    "#Start with inputs = [1,1] which XOR is 0\n",
    "X =np.array([  [1,1]  ])\n",
    "\n",
    "#First Layer\n",
    "layer1_perceptron1 = sigmoid(np.dot(X,W1) + B1)\n",
    "layer1_perceptron2 = sigmoid(np.dot(X,W2) + B2)\n",
    "\n",
    "first_layer_output = np.concatenate((layer1_perceptron1,layer1_perceptron2)).flatten()\n",
    "\n",
    "#Output Layer\n",
    "Y = sigmoid(np.dot(first_layer_output, YW) + YB)\n",
    "print(X)\n",
    "print(np.round(Y))\n",
    "\n",
    "#Encapsulate in function \n",
    "def xor_mlp(X):\n",
    "    #Define the Weights and Biases\n",
    "    W1 = np.array([[20],[20]])\n",
    "    B1= -10\n",
    "    W2 = np.array([[-20],[-20]])\n",
    "    B2= 30\n",
    "    YW = np.array([[20],[20]])\n",
    "    YB = -30\n",
    "\n",
    "    #First Layer\n",
    "    layer1_perceptron1 = sigmoid(np.dot(X,W1) + B1)\n",
    "    layer1_perceptron2 = sigmoid(np.dot(X,W2) + B2)\n",
    "\n",
    "    first_layer_output = np.concatenate((layer1_perceptron1,layer1_perceptron2)).flatten()\n",
    "\n",
    "    #Output Layer\n",
    "    Y = sigmoid(np.dot(first_layer_output, YW) + YB)\n",
    "    return np.round(Y[0])\n",
    "\n",
    "print('-----XOR-----')\n",
    "xor_0_0 = xor_mlp(np.array([[0,0]]))\n",
    "print(f'0 | 0 -> {xor_0_0}')\n",
    "\n",
    "xor_0_1 = xor_mlp(np.array([[0,1]]))\n",
    "print(f'0 | 1 -> {xor_0_1}')\n",
    "\n",
    "xor_1_0 = xor_mlp(np.array([[1,0]]))\n",
    "print(f'1 | 0 -> {xor_1_0}')\n",
    "\n",
    "xor_1_1 = xor_mlp(np.array([[1,1]]))\n",
    "print(f'1 | 1 -> {xor_1_1}')\n"
   ]
  },
  {
   "cell_type": "code",
   "execution_count": null,
   "metadata": {},
   "outputs": [],
   "source": []
  }
 ],
 "metadata": {
  "kernelspec": {
   "display_name": "Python 3",
   "language": "python",
   "name": "python3"
  },
  "language_info": {
   "codemirror_mode": {
    "name": "ipython",
    "version": 3
   },
   "file_extension": ".py",
   "mimetype": "text/x-python",
   "name": "python",
   "nbconvert_exporter": "python",
   "pygments_lexer": "ipython3",
   "version": "3.7.6"
  }
 },
 "nbformat": 4,
 "nbformat_minor": 4
}
