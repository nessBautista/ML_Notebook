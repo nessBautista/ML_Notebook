{
 "cells": [
  {
   "cell_type": "markdown",
   "metadata": {},
   "source": [
    "# Building an image classifier using Sequential API\n",
    "\n",
    "### Objectives:\n",
    "    - Build an image classifier using the MNIST dataset\n",
    "    - Export the resulting model to CoreML "
   ]
  },
  {
   "cell_type": "code",
   "execution_count": 2,
   "metadata": {},
   "outputs": [
    {
     "name": "stderr",
     "output_type": "stream",
     "text": [
      "WARNING:root:scikit-learn version 0.23.1 is not supported. Minimum required version: 0.17. Maximum required version: 0.19.2. Disabling scikit-learn conversion API.\n"
     ]
    }
   ],
   "source": [
    "#Start by importing all tools \n",
    "import tensorflow as tf\n",
    "from tensorflow import keras\n",
    "import numpy as np\n",
    "\n",
    "import pandas as pd \n",
    "import matplotlib.pyplot as plt \n",
    "\n",
    "import coremltools as ct"
   ]
  },
  {
   "cell_type": "markdown",
   "metadata": {},
   "source": [
    "## Import the data"
   ]
  },
  {
   "cell_type": "code",
   "execution_count": 3,
   "metadata": {},
   "outputs": [],
   "source": [
    "#The data set is already obtained from Keras\n",
    "fashion_mnist = keras.datasets.fashion_mnist"
   ]
  },
  {
   "cell_type": "markdown",
   "metadata": {},
   "source": [
    "## Exploring the dataset\n",
    "***\n",
    "* Check the shape and type of the data\n",
    "* plot some of the images in the dataset\n",
    "* you think this data is already pre-processed and ready to use?\n",
    "***"
   ]
  },
  {
   "cell_type": "code",
   "execution_count": 4,
   "metadata": {},
   "outputs": [],
   "source": [
    "#Lets take a look to the shape of the dataset\n",
    "#What type is?\n",
    "type(fashion_mnist) #type: module\n",
    "#We still need to extract data.\n",
    "#Notice that the data is already split in training and test data\n",
    "(X_train_full, y_train_full) , (X_test, y_test) = fashion_mnist.load_data()"
   ]
  },
  {
   "cell_type": "code",
   "execution_count": null,
   "metadata": {},
   "outputs": [],
   "source": []
  },
  {
   "cell_type": "code",
   "execution_count": 5,
   "metadata": {},
   "outputs": [
    {
     "name": "stdout",
     "output_type": "stream",
     "text": [
      "shape of training data: (60000, 28, 28)\n",
      "dtype of training data: uint8\n",
      "shape of test data: (10000, 28, 28)\n",
      "dtype of test data: uint8\n",
      "shape of labeled data: (60000,)\n",
      "dtype of labeled data: uint8\n",
      "Max value in data: 255\n"
     ]
    }
   ],
   "source": [
    "#Let's see what we got to work with\n",
    "print(f'shape of training data: {X_train_full.shape}')\n",
    "print(f'dtype of training data: {X_train_full.dtype}')\n",
    "print(f'shape of test data: {X_test.shape}')\n",
    "print(f'dtype of test data: {X_test.dtype}')\n",
    "print(f'shape of labeled data: {y_train_full.shape}')\n",
    "print(f'dtype of labeled data: {y_train_full.dtype}')\n",
    "print(f'Max value in data: {(X_train_full.max())}')"
   ]
  },
  {
   "cell_type": "code",
   "execution_count": 6,
   "metadata": {},
   "outputs": [
    {
     "data": {
      "image/png": "[encoded data removed]",
      "text/plain": [
       "<Figure size 432x288 with 9 Axes>"
      ]
     },
     "metadata": {
      "needs_background": "light"
     },
     "output_type": "display_data"
    }
   ],
   "source": [
    "for i in range(9):\n",
    "    #define subplot\n",
    "    plt.subplot(330 + 1 + i)\n",
    "    #plot the raw data \n",
    "    plt.imshow(X_train_full[i], cmap= plt.get_cmap('gray'))\n",
    "\n"
   ]
  },
  {
   "cell_type": "markdown",
   "metadata": {},
   "source": [
    "**TO continue We need also a validation set, that we can extract from the trainingset** <br>\n",
    "**We also need to define the output labels. This is just a string array containing the names of the classes in the dataset**"
   ]
  },
  {
   "cell_type": "code",
   "execution_count": 7,
   "metadata": {},
   "outputs": [],
   "source": [
    "#Get validation data from training data\n",
    "\n",
    "#Create Validation set\n",
    "#You should have sets for: Training, validation and test\n",
    "#First 5000 samples for validation, the rest for training\n",
    "X_valid, X_train = X_train_full[:5000] / 255.0, X_train_full[5000:] / 255.0\n",
    "y_valid, y_train = y_train_full[:5000], y_train_full[5000:]\n",
    "#Notice that the values in the datasets are from 0-255.\n",
    "#We want to perform a Gradient Descent, so we have to scale.\n",
    "#For simplicity lest scale it to its maximun\n",
    "X_test = X_test / 255.0\n",
    "\n",
    "#Prepare the class names\n",
    "class_names = [\"T-shirt/top\", \"Trouser\", \"Pullover\", \"Dress\", \"Coat\",\n",
    "               \"Sandal\", \"Shirt\", \"Sneaker\", \"Bag\", \"Ankle boot\"]"
   ]
  },
  {
   "cell_type": "code",
   "execution_count": 8,
   "metadata": {},
   "outputs": [
    {
     "data": {
      "text/plain": [
       "'Coat'"
      ]
     },
     "execution_count": 8,
     "metadata": {},
     "output_type": "execute_result"
    }
   ],
   "source": [
    "#You can check the labels in the training data:\n",
    "class_names[y_train[0]]"
   ]
  },
  {
   "cell_type": "markdown",
   "metadata": {},
   "source": [
    "### Here is an example of how the data sets looks like\n",
    "<img src=\"fashion_mnist_sample.png\">\n",
    "\n",
    "***\n",
    "# Now lets build the neural network.\n",
    "***\n",
    "**We will be using a MLP with 2 hidden layers**"
   ]
  },
  {
   "cell_type": "code",
   "execution_count": 9,
   "metadata": {},
   "outputs": [
    {
     "name": "stdout",
     "output_type": "stream",
     "text": [
      "Model: \"sequential\"\n",
      "_________________________________________________________________\n",
      "Layer (type)                 Output Shape              Param #   \n",
      "=================================================================\n",
      "flatten (Flatten)            (None, 784)               0         \n",
      "_________________________________________________________________\n",
      "dense (Dense)                (None, 300)               235500    \n",
      "_________________________________________________________________\n",
      "dense_1 (Dense)              (None, 100)               30100     \n",
      "_________________________________________________________________\n",
      "dense_2 (Dense)              (None, 10)                1010      \n",
      "=================================================================\n",
      "Total params: 266,610\n",
      "Trainable params: 266,610\n",
      "Non-trainable params: 0\n",
      "_________________________________________________________________\n"
     ]
    }
   ],
   "source": [
    "model = keras.models.Sequential()\n",
    "model.add(keras.layers.Flatten(input_shape=[28, 28]))\n",
    "model.add(keras.layers.Dense(300, activation=\"relu\"))\n",
    "model.add(keras.layers.Dense(100, activation=\"relu\"))\n",
    "model.add(keras.layers.Dense(10, activation=\"softmax\"))\n",
    "model.summary()\n",
    "\n"
   ]
  },
  {
   "cell_type": "markdown",
   "metadata": {},
   "source": [
    "*  First lines create a sequenctial model. This is the simplest kind of keras model for a neural network. \n",
    "<a href= \"https://keras.io/guides/sequential_model/\"> More Info.</a>\n",
    "\n",
    "* The Flatten layer convert each input image (28,28) into a 1D array. If it reaceives X input data, it computes X.reshape(-1,1). Since it is the first layer in the model, you should specify the input_shape, which doesn't include the batch size, only the shape of the instances.\n",
    "<a href=\"https://keras.io/api/layers/reshaping_layers/flatten/\"> More Info</a>\n",
    "\n",
    "* Now lets add a Dense (fully conected) layer. You need to specify the number of neurons in the layer and the activation function. Each Dense layer manages its own weight matrix, containing all the connection weights between the neurons and their inputs. It also manage a vector of bias terms (one per neuron). When receives input data it executes:  $h_{W,b} = ø(XW + b)$\n",
    " * Then we add a second Dense hidden layer with 100 neurons, also using the ReLU activation function.\n",
    " \n",
    " *  Finally we add another Dense OUTPUT layer, with 10 neurons (one per class). We use softmax activation function because the classes are exclusive\n",
    " \n",
    " <a href=\"https://keras.io/api/layers/activations/\">Check for more activation functions</a>\n",
    "\n"
   ]
  },
  {
   "cell_type": "code",
   "execution_count": 10,
   "metadata": {},
   "outputs": [
    {
     "name": "stdout",
     "output_type": "stream",
     "text": [
      "layer hidden1 = dense\n"
     ]
    },
    {
     "ename": "ValueError",
     "evalue": "No such layer: dense_9",
     "output_type": "error",
     "traceback": [
      "\u001b[0;31m---------------------------------------------------------------------------\u001b[0m",
      "\u001b[0;31mValueError\u001b[0m                                Traceback (most recent call last)",
      "\u001b[0;32m<ipython-input-10-28fec18ed58d>\u001b[0m in \u001b[0;36m<module>\u001b[0;34m\u001b[0m\n\u001b[1;32m      3\u001b[0m \u001b[0mhidden1\u001b[0m \u001b[0;34m=\u001b[0m \u001b[0mmodel\u001b[0m\u001b[0;34m.\u001b[0m\u001b[0mlayers\u001b[0m\u001b[0;34m[\u001b[0m\u001b[0;36m1\u001b[0m\u001b[0;34m]\u001b[0m\u001b[0;34m\u001b[0m\u001b[0;34m\u001b[0m\u001b[0m\n\u001b[1;32m      4\u001b[0m \u001b[0mprint\u001b[0m\u001b[0;34m(\u001b[0m\u001b[0;34mf'layer hidden1 = {hidden1.name}'\u001b[0m\u001b[0;34m)\u001b[0m\u001b[0;34m\u001b[0m\u001b[0;34m\u001b[0m\u001b[0m\n\u001b[0;32m----> 5\u001b[0;31m \u001b[0mmodel\u001b[0m\u001b[0;34m.\u001b[0m\u001b[0mget_layer\u001b[0m\u001b[0;34m(\u001b[0m\u001b[0;34m'dense_9'\u001b[0m\u001b[0;34m)\u001b[0m \u001b[0;32mis\u001b[0m \u001b[0mhidden1\u001b[0m\u001b[0;34m\u001b[0m\u001b[0;34m\u001b[0m\u001b[0m\n\u001b[0m",
      "\u001b[0;32m/Volumes/ness/Workspace/Code/envs/tf101/lib/python3.7/site-packages/tensorflow_core/python/keras/engine/network.py\u001b[0m in \u001b[0;36mget_layer\u001b[0;34m(self, name, index)\u001b[0m\n\u001b[1;32m    546\u001b[0m       \u001b[0;32mif\u001b[0m \u001b[0mlayer\u001b[0m\u001b[0;34m.\u001b[0m\u001b[0mname\u001b[0m \u001b[0;34m==\u001b[0m \u001b[0mname\u001b[0m\u001b[0;34m:\u001b[0m\u001b[0;34m\u001b[0m\u001b[0;34m\u001b[0m\u001b[0m\n\u001b[1;32m    547\u001b[0m         \u001b[0;32mreturn\u001b[0m \u001b[0mlayer\u001b[0m\u001b[0;34m\u001b[0m\u001b[0;34m\u001b[0m\u001b[0m\n\u001b[0;32m--> 548\u001b[0;31m     \u001b[0;32mraise\u001b[0m \u001b[0mValueError\u001b[0m\u001b[0;34m(\u001b[0m\u001b[0;34m'No such layer: '\u001b[0m \u001b[0;34m+\u001b[0m \u001b[0mname\u001b[0m\u001b[0;34m)\u001b[0m\u001b[0;34m\u001b[0m\u001b[0;34m\u001b[0m\u001b[0m\n\u001b[0m\u001b[1;32m    549\u001b[0m \u001b[0;34m\u001b[0m\u001b[0m\n\u001b[1;32m    550\u001b[0m   \u001b[0;34m@\u001b[0m\u001b[0mproperty\u001b[0m\u001b[0;34m\u001b[0m\u001b[0;34m\u001b[0m\u001b[0m\n",
      "\u001b[0;31mValueError\u001b[0m: No such layer: dense_9"
     ]
    }
   ],
   "source": [
    "# You can get a reference to the model's layer list by:\n",
    "model.layers\n",
    "hidden1 = model.layers[1]\n",
    "print(f'layer hidden1 = {hidden1.name}')\n",
    "model.get_layer('dense_9') is hidden1"
   ]
  },
  {
   "cell_type": "markdown",
   "metadata": {},
   "source": [
    "All parameters of a layer can be accessed using its get_weights() and set_weights() methods. For example, for this specific neural network the first hidden layer would have 235500 parameters, this will be accommodated in the matrix W and the vector of Biases<br>\n",
    "\n",
    "where rows match the input number: $m =784$, and there is one column per neuron in the layer $n = 300$ <br>\n",
    "$ W = \\begin{bmatrix} \n",
    "    w_{0,0} & w_{0,1}&w_{0,2}&...&w_{0,n}\\\\\n",
    "    w_{1,0}& w_{1,1}&w_{1,2}&...&w_{1,n}\\\\\n",
    "    & &...& \\\\\n",
    "    w_{m,0}&w_{m,1}&w_{m,2}&...&w_{m,n}\n",
    "       \\end{bmatrix}$\n",
    "<br>\n",
    "<br>\n",
    "There will be 1 bias per neuron in the layer, $n = 300$\n",
    "<br>\n",
    "$B = \\begin{bmatrix}\n",
    "b_{0} & b_{1} & ... & b_{n}\n",
    "\\end{bmatrix}\n",
    "$\n",
    "<br>\n",
    "<br>\n"
   ]
  },
  {
   "cell_type": "code",
   "execution_count": null,
   "metadata": {},
   "outputs": [],
   "source": [
    "weights, biases = hidden1.get_weights()\n",
    "print(f'weights matrix: {weights.shape}')\n",
    "print(f'biases vector: {biases.shape}')\n",
    "\n"
   ]
  },
  {
   "cell_type": "markdown",
   "metadata": {},
   "source": [
    "*Notice that the Dense layer initialized the connection weights randomly (which is needed to break symmetry, as we discussed earlier), and the biases were initialized to zeros, which is fine. If you ever want to use a different initialization method, you can set kernel_initializer (kernel is another name for the matrix of connection weights) or bias_initializer when creating the layer*\n",
    "## Now is time to compile the model"
   ]
  },
  {
   "cell_type": "code",
   "execution_count": 11,
   "metadata": {},
   "outputs": [],
   "source": [
    "model.compile(loss = \"sparse_categorical_crossentropy\",\n",
    "              optimizer=\"sgd\",\n",
    "              metrics=[\"accuracy\"])\n"
   ]
  },
  {
   "cell_type": "markdown",
   "metadata": {},
   "source": [
    "* We use the *sparse_categorical_crossentropy*  because we have sparse labels and the classes are exclusive \n",
    "* If instead we had one target probability per class for each instance ((such as one-hot vectors, e.g. [0., 0., 0., 1., 0., 0., 0., 0., 0., 0.] to represent class 3) the we would need to use *categorical_crossentropy*\n",
    "* If we were doing binary classification (with one or more binary labels), then we would use the *sigmoid* (i.e., logistic) activation function in the output layer instead of the *softmax* activation function, and we would use the *binary_crossentropy* loss.\n",
    "* the **SDG**  means that we will using the simple Stochastic Gradient Descent. When using the SGD optimizer, it is important to tune the learning rate. So, you will generally want to use optimizer=keras.optimizers.SGD(lr=???) to set the learning rate, rather than optimizer=\"sgd\", which defaults to lr=0.01.\n",
    "* Finally, since this is a classifier, it's useful to measure its **accuracy** during the traning evaluation"
   ]
  },
  {
   "cell_type": "code",
   "execution_count": 12,
   "metadata": {},
   "outputs": [],
   "source": [
    "# After the model is created you must call its compile() method\n",
    "# to specify the loss function and optimizer to use.\n",
    "model.compile(loss=\"sparse_categorical_crossentropy\",\n",
    "              optimizer=\"sgd\",\n",
    "              metrics=[\"accuracy\"]) #you can specify a list of metrics to compute during training"
   ]
  },
  {
   "cell_type": "code",
   "execution_count": 13,
   "metadata": {},
   "outputs": [
    {
     "name": "stdout",
     "output_type": "stream",
     "text": [
      "Train on 55000 samples, validate on 5000 samples\n",
      "Epoch 1/30\n",
      "55000/55000 [==============================] - 4s 65us/sample - loss: 0.7041 - accuracy: 0.7699 - val_loss: 0.5239 - val_accuracy: 0.8200\n",
      "Epoch 2/30\n",
      "55000/55000 [==============================] - 3s 60us/sample - loss: 0.4837 - accuracy: 0.8322 - val_loss: 0.4270 - val_accuracy: 0.8566\n",
      "Epoch 3/30\n",
      "55000/55000 [==============================] - 3s 61us/sample - loss: 0.4397 - accuracy: 0.8469 - val_loss: 0.4204 - val_accuracy: 0.8544\n",
      "Epoch 4/30\n",
      "55000/55000 [==============================] - 3s 60us/sample - loss: 0.4129 - accuracy: 0.8554 - val_loss: 0.3844 - val_accuracy: 0.8718\n",
      "Epoch 5/30\n",
      "55000/55000 [==============================] - 3s 61us/sample - loss: 0.3936 - accuracy: 0.8615 - val_loss: 0.3775 - val_accuracy: 0.8676\n",
      "Epoch 6/30\n",
      "55000/55000 [==============================] - 3s 61us/sample - loss: 0.3772 - accuracy: 0.8674 - val_loss: 0.3660 - val_accuracy: 0.8744\n",
      "Epoch 7/30\n",
      "55000/55000 [==============================] - 3s 61us/sample - loss: 0.3638 - accuracy: 0.8709 - val_loss: 0.3602 - val_accuracy: 0.8734\n",
      "Epoch 8/30\n",
      "55000/55000 [==============================] - 3s 60us/sample - loss: 0.3512 - accuracy: 0.8753 - val_loss: 0.3547 - val_accuracy: 0.8738\n",
      "Epoch 9/30\n",
      "55000/55000 [==============================] - 3s 62us/sample - loss: 0.3419 - accuracy: 0.8775 - val_loss: 0.3458 - val_accuracy: 0.8800\n",
      "Epoch 10/30\n",
      "55000/55000 [==============================] - 3s 64us/sample - loss: 0.3326 - accuracy: 0.8822 - val_loss: 0.3317 - val_accuracy: 0.8786\n",
      "Epoch 11/30\n",
      "55000/55000 [==============================] - 3s 61us/sample - loss: 0.3229 - accuracy: 0.8842 - val_loss: 0.3295 - val_accuracy: 0.8836\n",
      "Epoch 12/30\n",
      "55000/55000 [==============================] - 4s 64us/sample - loss: 0.3149 - accuracy: 0.8871 - val_loss: 0.3289 - val_accuracy: 0.8842\n",
      "Epoch 13/30\n",
      "55000/55000 [==============================] - 3s 60us/sample - loss: 0.3073 - accuracy: 0.8900 - val_loss: 0.3362 - val_accuracy: 0.8804\n",
      "Epoch 14/30\n",
      "55000/55000 [==============================] - 4s 64us/sample - loss: 0.3007 - accuracy: 0.8916 - val_loss: 0.3550 - val_accuracy: 0.8752\n",
      "Epoch 15/30\n",
      "55000/55000 [==============================] - 3s 60us/sample - loss: 0.2940 - accuracy: 0.8941 - val_loss: 0.3141 - val_accuracy: 0.8872\n",
      "Epoch 16/30\n",
      "55000/55000 [==============================] - 3s 60us/sample - loss: 0.2885 - accuracy: 0.8959 - val_loss: 0.3055 - val_accuracy: 0.8870\n",
      "Epoch 17/30\n",
      "55000/55000 [==============================] - 3s 60us/sample - loss: 0.2819 - accuracy: 0.8991 - val_loss: 0.3094 - val_accuracy: 0.8868\n",
      "Epoch 18/30\n",
      "55000/55000 [==============================] - 3s 60us/sample - loss: 0.2768 - accuracy: 0.9002 - val_loss: 0.3057 - val_accuracy: 0.8882\n",
      "Epoch 19/30\n",
      "55000/55000 [==============================] - 3s 60us/sample - loss: 0.2711 - accuracy: 0.9026 - val_loss: 0.2980 - val_accuracy: 0.8902\n",
      "Epoch 20/30\n",
      "55000/55000 [==============================] - 3s 60us/sample - loss: 0.2666 - accuracy: 0.9046 - val_loss: 0.3124 - val_accuracy: 0.8876\n",
      "Epoch 21/30\n",
      "55000/55000 [==============================] - 3s 59us/sample - loss: 0.2624 - accuracy: 0.9063 - val_loss: 0.2993 - val_accuracy: 0.8950\n",
      "Epoch 22/30\n",
      "55000/55000 [==============================] - 3s 60us/sample - loss: 0.2577 - accuracy: 0.9080 - val_loss: 0.3163 - val_accuracy: 0.8814\n",
      "Epoch 23/30\n",
      "55000/55000 [==============================] - 4s 64us/sample - loss: 0.2538 - accuracy: 0.9081 - val_loss: 0.2995 - val_accuracy: 0.8926\n",
      "Epoch 24/30\n",
      "55000/55000 [==============================] - 4s 65us/sample - loss: 0.2484 - accuracy: 0.9113 - val_loss: 0.3023 - val_accuracy: 0.8912\n",
      "Epoch 25/30\n",
      "55000/55000 [==============================] - 10s 180us/sample - loss: 0.2449 - accuracy: 0.9117 - val_loss: 0.2917 - val_accuracy: 0.8962\n",
      "Epoch 26/30\n",
      "55000/55000 [==============================] - 3s 61us/sample - loss: 0.2411 - accuracy: 0.9124 - val_loss: 0.2936 - val_accuracy: 0.8950\n",
      "Epoch 27/30\n",
      "55000/55000 [==============================] - 3s 57us/sample - loss: 0.2352 - accuracy: 0.9151 - val_loss: 0.2926 - val_accuracy: 0.8948\n",
      "Epoch 28/30\n",
      "55000/55000 [==============================] - 3s 57us/sample - loss: 0.2327 - accuracy: 0.9168 - val_loss: 0.2993 - val_accuracy: 0.8912\n",
      "Epoch 29/30\n",
      "55000/55000 [==============================] - 3s 57us/sample - loss: 0.2286 - accuracy: 0.9174 - val_loss: 0.2960 - val_accuracy: 0.8922\n",
      "Epoch 30/30\n",
      "55000/55000 [==============================] - 3s 57us/sample - loss: 0.2252 - accuracy: 0.9185 - val_loss: 0.2980 - val_accuracy: 0.8938\n"
     ]
    }
   ],
   "source": [
    "# now the model is ready to be trained\n",
    "history = model.fit(X_train, y_train, epochs=30,\n",
    "                   validation_data=(X_valid, y_valid))"
   ]
  },
  {
   "cell_type": "markdown",
   "metadata": {},
   "source": [
    "**Notice how keras displays training information at each epoch**\n",
    "* the number of instances processed so far along with a progress bar \n",
    "* mean training time per sample\n",
    "* loss\n",
    "* accuracy(or any other extra metrics you asked for )"
   ]
  },
  {
   "cell_type": "code",
   "execution_count": 14,
   "metadata": {},
   "outputs": [
    {
     "data": {
      "image/png": "[encoded data removed]",
      "text/plain": [
       "<Figure size 576x360 with 1 Axes>"
      ]
     },
     "metadata": {
      "needs_background": "light"
     },
     "output_type": "display_data"
    }
   ],
   "source": [
    "import pandas as pd \n",
    "import matplotlib.pyplot as plt \n",
    "\n",
    "history_dataframe = pd.DataFrame(history.history)\n",
    "history_dataframe.plot(figsize=(8,5))\n",
    "plt.grid(True)\n",
    "plt.gca().set_ylim(0,1)\n",
    "plt.show()\n"
   ]
  },
  {
   "cell_type": "code",
   "execution_count": 46,
   "metadata": {},
   "outputs": [
    {
     "name": "stdout",
     "output_type": "stream",
     "text": [
      "10000/10000 [==============================] - 0s 35us/sample - loss: 0.3264 - accuracy: 0.8836\n"
     ]
    },
    {
     "data": {
      "text/plain": [
       "[0.3263827322602272, 0.8836]"
      ]
     },
     "execution_count": 46,
     "metadata": {},
     "output_type": "execute_result"
    }
   ],
   "source": [
    "model.evaluate(X_test,y_test)"
   ]
  },
  {
   "cell_type": "markdown",
   "metadata": {},
   "source": [
    "## Using the model to make predictions"
   ]
  },
  {
   "cell_type": "code",
   "execution_count": 15,
   "metadata": {},
   "outputs": [
    {
     "data": {
      "text/plain": [
       "array([[0.  , 0.  , 0.  , 0.  , 0.  , 0.  , 0.  , 0.03, 0.  , 0.97],\n",
       "       [0.  , 0.  , 0.99, 0.  , 0.01, 0.  , 0.  , 0.  , 0.  , 0.  ],\n",
       "       [0.  , 1.  , 0.  , 0.  , 0.  , 0.  , 0.  , 0.  , 0.  , 0.  ]],\n",
       "      dtype=float32)"
      ]
     },
     "execution_count": 15,
     "metadata": {},
     "output_type": "execute_result"
    }
   ],
   "source": [
    "#Using predict, allows you see the output layer completely\n",
    "X_new = X_test[:3]\n",
    "y_proba = model.predict(X_new)\n",
    "y_proba.round(2)"
   ]
  },
  {
   "cell_type": "code",
   "execution_count": 16,
   "metadata": {},
   "outputs": [
    {
     "data": {
      "text/plain": [
       "array([9, 2, 1])"
      ]
     },
     "execution_count": 16,
     "metadata": {},
     "output_type": "execute_result"
    }
   ],
   "source": [
    "#If you are only interested in the class with the highest estimated probability\n",
    "#you could use predict_classes, you get the index of the \n",
    "#output layer array with the highest score.\n",
    "y_pred = model.predict_classes(X_new)\n",
    "y_pred"
   ]
  },
  {
   "cell_type": "code",
   "execution_count": 17,
   "metadata": {},
   "outputs": [
    {
     "data": {
      "text/plain": [
       "array(['Ankle boot', 'Pullover', 'Trouser'], dtype='<U11')"
      ]
     },
     "execution_count": 17,
     "metadata": {},
     "output_type": "execute_result"
    }
   ],
   "source": [
    "#you can use these indexes to get the class names\n",
    "np.array(class_names)[y_pred]"
   ]
  },
  {
   "cell_type": "code",
   "execution_count": 18,
   "metadata": {},
   "outputs": [
    {
     "data": {
      "text/plain": [
       "array([9, 2, 1], dtype=uint8)"
      ]
     },
     "execution_count": 18,
     "metadata": {},
     "output_type": "execute_result"
    }
   ],
   "source": [
    "#Which is the correct answer\n",
    "y_new = y_test[:3]\n",
    "y_new"
   ]
  },
  {
   "cell_type": "markdown",
   "metadata": {},
   "source": [
    "# Saving and restoring the Model"
   ]
  },
  {
   "cell_type": "code",
   "execution_count": 19,
   "metadata": {},
   "outputs": [],
   "source": [
    "model.save(\"keras_model_classifier_fashion_mnist.h5\")"
   ]
  },
  {
   "cell_type": "code",
   "execution_count": 21,
   "metadata": {},
   "outputs": [],
   "source": [
    "keras_model = keras.models.load_model(\"keras_model_classifier_fashion_mnist.h5\")"
   ]
  },
  {
   "cell_type": "code",
   "execution_count": 35,
   "metadata": {
    "scrolled": true
   },
   "outputs": [
    {
     "name": "stdout",
     "output_type": "stream",
     "text": [
      "<class 'coremltools.converters.mil.input_types.ImageType'>\n"
     ]
    },
    {
     "name": "stderr",
     "output_type": "stream",
     "text": [
      "Running TensorFlow Graph Passes: 100%|██████████| 5/5 [00:00<00:00, 47.23 passes/s]\n",
      "Converting Frontend ==> MIL Ops: 100%|██████████| 19/19 [00:00<00:00, 1136.64 ops/s]\n",
      "Running MIL optimization passes: 100%|██████████| 14/14 [00:00<00:00, 835.28 passes/s]\n",
      "Translating MIL ==> MLModel Ops: 100%|██████████| 15/15 [00:00<00:00, 387.25 ops/s]\n"
     ]
    }
   ],
   "source": [
    "import coremltools as ct\n",
    "# Define the input type as image, \n",
    "# set pre-processing parameters to normalize the image \n",
    "# to have its values in the interval [-1,1] \n",
    "# as expected by the mobilenet model\n",
    "image_input = ct.ImageType(name=\"input_image\",\n",
    "                            shape=(28, 28, 1),\n",
    "                            scale=1/255,\n",
    "                          color_layout = 'G')\n",
    "\n",
    "print(type(image_input))\n",
    "# set class labels\n",
    "classifier_config = ct.ClassifierConfig(class_names)\n",
    "\n",
    "# Convert the model using the Unified Conversion API\n",
    "model = ct.convert(\n",
    "     keras_model, inputs=[image_input], classifier_config=classifier_config,\n",
    ")"
   ]
  },
  {
   "cell_type": "code",
   "execution_count": 37,
   "metadata": {},
   "outputs": [],
   "source": [
    "# Set feature descriptions (these show up as comments in XCode)\n",
    "#model.input_description[\"input_image\"] = \"A gray scale image of 28x28 (28,28,1)\"\n",
    "model.output_description[\"classLabel\"] = \"An class label from the Fashion MNIST dataset\"\n",
    "\n",
    "# Set model author name\n",
    "model.author = '\"From HandsOnMachineLearning book'\n",
    "\n",
    "# Set the license of the model\n",
    "model.license = \"\"\n",
    "\n",
    "# Set a short description for the Xcode UI\n",
    "model.short_description = \"Basic implementation of a Teras Image Classifier using the Fashion MNIST\"\n",
    "\n",
    "# Set a version for the model\n",
    "model.version = \"1.0\""
   ]
  },
  {
   "cell_type": "code",
   "execution_count": 38,
   "metadata": {},
   "outputs": [],
   "source": [
    "model.save(\"keras_basic_image_classifer.mlmodel\")"
   ]
  },
  {
   "cell_type": "code",
   "execution_count": 39,
   "metadata": {},
   "outputs": [
    {
     "data": {
      "text/plain": [
       "Features(flatten_input)"
      ]
     },
     "execution_count": 39,
     "metadata": {},
     "output_type": "execute_result"
    }
   ],
   "source": [
    "model.input_description"
   ]
  },
  {
   "cell_type": "code",
   "execution_count": 40,
   "metadata": {},
   "outputs": [
    {
     "data": {
      "text/plain": [
       "''"
      ]
     },
     "execution_count": 40,
     "metadata": {},
     "output_type": "execute_result"
    }
   ],
   "source": [
    "model.input_description[\"flatten_input\"]"
   ]
  },
  {
   "cell_type": "code",
   "execution_count": 66,
   "metadata": {},
   "outputs": [],
   "source": [
    "example_image = X_test[0:1]\n",
    "out_dict = model.predict({\"flatten_input\": example_image})"
   ]
  },
  {
   "cell_type": "code",
   "execution_count": 67,
   "metadata": {},
   "outputs": [
    {
     "name": "stdout",
     "output_type": "stream",
     "text": [
      "Ankle boot\n"
     ]
    }
   ],
   "source": [
    "print(out_dict[\"classLabel\"])"
   ]
  },
  {
   "cell_type": "code",
   "execution_count": 70,
   "metadata": {},
   "outputs": [
    {
     "data": {
      "text/plain": [
       "(10000, 28, 28)"
      ]
     },
     "execution_count": 70,
     "metadata": {},
     "output_type": "execute_result"
    }
   ],
   "source": [
    "X_test.shape"
   ]
  },
  {
   "cell_type": "code",
   "execution_count": null,
   "metadata": {},
   "outputs": [],
   "source": []
  },
  {
   "cell_type": "code",
   "execution_count": null,
   "metadata": {},
   "outputs": [],
   "source": []
  }
 ],
 "metadata": {
  "kernelspec": {
   "display_name": "Python 3",
   "language": "python",
   "name": "python3"
  },
  "language_info": {
   "codemirror_mode": {
    "name": "ipython",
    "version": 3
   },
   "file_extension": ".py",
   "mimetype": "text/x-python",
   "name": "python",
   "nbconvert_exporter": "python",
   "pygments_lexer": "ipython3",
   "version": "3.7.6"
  }
 },
 "nbformat": 4,
 "nbformat_minor": 4
}
