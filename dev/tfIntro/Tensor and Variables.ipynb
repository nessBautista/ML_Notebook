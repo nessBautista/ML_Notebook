{
 "cells": [
  {
   "cell_type": "code",
   "execution_count": 2,
   "id": "1b841537",
   "metadata": {},
   "outputs": [
    {
     "name": "stdout",
     "output_type": "stream",
     "text": [
      "TensorFlow version:  2.6.0\n"
     ]
    }
   ],
   "source": [
    "import tensorflow as tf\n",
    "import numpy as np\n",
    "\n",
    "print(\"TensorFlow version: \",tf.version.VERSION)"
   ]
  },
  {
   "cell_type": "markdown",
   "id": "289973f2",
   "metadata": {},
   "source": [
    "# Lab Task 1: Understand Basic and Advanced Tensor Concepts\n",
    "\n",
    "## Lets create some basic tensors"
   ]
  },
  {
   "cell_type": "code",
   "execution_count": 17,
   "id": "8c64c9e7",
   "metadata": {},
   "outputs": [
    {
     "name": "stdout",
     "output_type": "stream",
     "text": [
      "rank_0_tensor----> tf.Tensor(4, shape=(), dtype=int32)\n",
      "rank_1_tensor----> tf.Tensor([3 5 7], shape=(3,), dtype=int32)\n",
      "rank_2_tensor----> tf.Tensor(\n",
      "[[1 2 3]\n",
      " [4 5 6]], shape=(2, 3), dtype=int32)\n",
      "rank_3_tensor----> tf.Tensor(\n",
      "[[[1 2 3]\n",
      "  [4 5 6]]\n",
      "\n",
      " [[1 2 3]\n",
      "  [4 5 6]]], shape=(2, 2, 3), dtype=int32)\n",
      "rank_4_tensor----> tf.Tensor(\n",
      "[[[[1 2 3]\n",
      "   [4 5 6]]\n",
      "\n",
      "  [[1 2 3]\n",
      "   [4 5 6]]]\n",
      "\n",
      "\n",
      " [[[1 2 3]\n",
      "   [4 5 6]]\n",
      "\n",
      "  [[1 2 3]\n",
      "   [4 5 6]]]], shape=(2, 2, 2, 3), dtype=int32)\n"
     ]
    },
    {
     "data": {
      "text/plain": [
       "'\\nWe start to see a pattern on the shape attribute. \\n\\nRank   |  Shape\\n--------------------\\n0      | ()\\n1      | (1,)\\n2      | (n2, n1)\\n3      | (n3, n2, n1)\\n4      | (n4,n3,n2, n1)\\nn      | (n.....n5, n4,n3,n2, n1)\\n'"
      ]
     },
     "execution_count": 17,
     "metadata": {},
     "output_type": "execute_result"
    }
   ],
   "source": [
    "# a rank 0 tensor is also a Scaler\n",
    "rank_0_tensor = tf.constant(4)\n",
    "print(\"rank_0_tensor---->\",rank_0_tensor)\n",
    "\n",
    "# a rank 1 tensor is a vector\n",
    "rank_1_tensor = tf.constant([3,5,7])\n",
    "print(\"rank_1_tensor---->\", rank_1_tensor)\n",
    "\n",
    "# a rank 2 tensor is a Matrix\n",
    "rank_2_tensor = tf.constant([[1,2,3],[4,5,6]])\n",
    "print(\"rank_2_tensor---->\", rank_2_tensor)\n",
    "\n",
    "# a rank 3 tensor is a 3D Tensor \n",
    "rank_3_tensor = tf.constant([\n",
    "    [[1,2,3],[4,5,6]],\n",
    "    [[1,2,3],[4,5,6]]\n",
    "])\n",
    "print(\"rank_3_tensor---->\", rank_3_tensor)\n",
    "\n",
    "# a rank 4 tensor is a nD tensor\n",
    "rank_4_tensor = tf.stack([rank_3_tensor, rank_3_tensor])\n",
    "print(\"rank_4_tensor---->\", rank_4_tensor)\n",
    "\n",
    "\"\"\"\n",
    "We start to see a pattern on the shape attribute. \n",
    "\n",
    "Rank   |  Shape\n",
    "--------------------\n",
    "0      | ()\n",
    "1      | (1,)\n",
    "2      | (n2, n1)\n",
    "3      | (n3, n2, n1)\n",
    "4      | (n4,n3,n2, n1)\n",
    "n      | (n.....n5, n4,n3,n2, n1)\n",
    "\"\"\""
   ]
  },
  {
   "cell_type": "markdown",
   "id": "f8165664",
   "metadata": {},
   "source": [
    "I would like to draw the attention to how this image describes the order of the shape indexes:\n",
    "![Index Order](figs/indexOrder.png)\n",
    "Remember how the RNN the batch was understood as Stream, the width was the mini-batches, the Height was the mini-batch size and the Features were vectors with only 1 element inside describing the value in the Time Series.\n",
    "\n",
    "\n",
    "Notice how the features are represented for the most inner vector, this is because the intention is: \"This way feature vectors are contiguous regions of memory.\"\n",
    "Here is another visualization of the ranks\n",
    "![Visualization of Ranks](figs/rankShapes.png)\n",
    "\n",
    "**You can think in the ranks as the number of AXES a tensor has**\n",
    "\n",
    "\n",
    "Here is another visualization of a rank 4.\n",
    "Tip: You know rank 3 tensors looks like 3d square shapes, well, when you think about a rank 4, you maybe are expecting to see a pile of 3d objects\n",
    "\n",
    "![rank 4 tensor visualization](figs/rank4visualization.png)"
   ]
  },
  {
   "cell_type": "code",
   "execution_count": 18,
   "id": "5bbb345b",
   "metadata": {},
   "outputs": [
    {
     "name": "stdout",
     "output_type": "stream",
     "text": [
      "Type of every element: <dtype: 'int32'>\n",
      "Number of dimensions: 4\n",
      "Shape of tensor: (2, 2, 2, 3)\n",
      "Elements along axis 0 of tensor: 2\n",
      "Elements along the last axis of tensor: 3\n",
      "Total number of elements (3*2*4*5):  24\n"
     ]
    }
   ],
   "source": [
    "# These are some other properties you can extract from a tensor that help to describe it\n",
    "print(\"Type of every element:\", rank_4_tensor.dtype)\n",
    "print(\"Number of dimensions:\", rank_4_tensor.ndim)\n",
    "print(\"Shape of tensor:\", rank_4_tensor.shape)\n",
    "print(\"Elements along axis 0 of tensor:\", rank_4_tensor.shape[0])\n",
    "print(\"Elements along the last axis of tensor:\", rank_4_tensor.shape[-1])\n",
    "print(\"Total number of elements (3*2*4*5): \", tf.size(rank_4_tensor).numpy())"
   ]
  }
 ],
 "metadata": {
  "kernelspec": {
   "display_name": "Python 3.9 (tensorflow)",
   "language": "python",
   "name": "tensorflow"
  },
  "language_info": {
   "codemirror_mode": {
    "name": "ipython",
    "version": 3
   },
   "file_extension": ".py",
   "mimetype": "text/x-python",
   "name": "python",
   "nbconvert_exporter": "python",
   "pygments_lexer": "ipython3",
   "version": "3.9.7"
  }
 },
 "nbformat": 4,
 "nbformat_minor": 5
}
