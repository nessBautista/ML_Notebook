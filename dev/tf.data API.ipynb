{
 "cells": [
  {
   "cell_type": "markdown",
   "id": "202eff22",
   "metadata": {},
   "source": [
    "# tf.data API"
   ]
  },
  {
   "cell_type": "code",
   "execution_count": 1,
   "id": "ae351a00",
   "metadata": {},
   "outputs": [],
   "source": [
    "import tensorflow as tf"
   ]
  },
  {
   "cell_type": "code",
   "execution_count": 2,
   "id": "c2420ace",
   "metadata": {},
   "outputs": [],
   "source": [
    "daily_sales_numbers = [21,22,-108, 31, 1, 32,24,31]"
   ]
  },
  {
   "cell_type": "markdown",
   "id": "a0d58008",
   "metadata": {},
   "source": [
    "# Simple tf.data.Dataset object\n",
    "\n",
    "- **from_tensor_slices** creates a dataset with a separate element  for each row of the input tensor\n",
    "- **from_tensors** Combines the input and returns a dataset with a single element\n"
   ]
  },
  {
   "cell_type": "code",
   "execution_count": 3,
   "id": "05675330",
   "metadata": {},
   "outputs": [
    {
     "name": "stdout",
     "output_type": "stream",
     "text": [
      "Metal device set to: Apple M1\n",
      "<TensorDataset shapes: (8,), types: tf.int32>\n",
      "<TensorDataset shapes: (2, 8), types: tf.int32>\n"
     ]
    },
    {
     "name": "stderr",
     "output_type": "stream",
     "text": [
      "2021-11-04 13:25:28.774458: I tensorflow/core/common_runtime/pluggable_device/pluggable_device_factory.cc:305] Could not identify NUMA node of platform GPU ID 0, defaulting to 0. Your kernel may not have been built with NUMA support.\n",
      "2021-11-04 13:25:28.774595: I tensorflow/core/common_runtime/pluggable_device/pluggable_device_factory.cc:271] Created TensorFlow device (/job:localhost/replica:0/task:0/device:GPU:0 with 0 MB memory) -> physical PluggableDevice (device: 0, name: METAL, pci bus id: <undefined>)\n"
     ]
    }
   ],
   "source": [
    "# from tensors\n",
    "array1 = [21,22,-108, 31, 1, 32,24,31]\n",
    "from_tensors_dataset = tf.data.Dataset.from_tensors(array1)\n",
    "print(from_tensors_dataset)\n",
    "array2 = [[21,22,-108, 31, 1, 32,24,31],[21,22,-108, 31, 1, 32,24,31]]\n",
    "from_tensors_dataset2 = tf.data.Dataset.from_tensors(array2)\n",
    "print(from_tensors_dataset2)"
   ]
  },
  {
   "cell_type": "code",
   "execution_count": 4,
   "id": "1367ea56",
   "metadata": {},
   "outputs": [
    {
     "data": {
      "text/plain": [
       "<TensorSliceDataset shapes: (), types: tf.int32>"
      ]
     },
     "execution_count": 4,
     "metadata": {},
     "output_type": "execute_result"
    }
   ],
   "source": [
    "tf_dataset = tf.data.Dataset.from_tensor_slices(daily_sales_numbers)\n",
    "tf_dataset"
   ]
  },
  {
   "cell_type": "code",
   "execution_count": 5,
   "id": "dde4af51",
   "metadata": {},
   "outputs": [
    {
     "name": "stdout",
     "output_type": "stream",
     "text": [
      "you can iterate through out your dataset\n",
      "21\n",
      "22\n",
      "-108\n",
      "31\n",
      "1\n",
      "32\n",
      "24\n",
      "31\n",
      "you can use a numpy iterator\n",
      "21\n",
      "22\n",
      "-108\n",
      "31\n",
      "1\n",
      "32\n",
      "24\n",
      "31\n",
      "you can select only a number of elements\n",
      "tf.Tensor(21, shape=(), dtype=int32)\n",
      "tf.Tensor(22, shape=(), dtype=int32)\n",
      "tf.Tensor(-108, shape=(), dtype=int32)\n"
     ]
    }
   ],
   "source": [
    "print(\"you can iterate through out your dataset\")\n",
    "for sales in tf_dataset:\n",
    "    print(sales.numpy())\n",
    "\n",
    "print(\"you can use a numpy iterator\")\n",
    "for sales in tf_dataset.as_numpy_iterator():\n",
    "    print(sales)\n",
    "\n",
    "print(\"you can select only a number of elements\")\n",
    "for sales in tf_dataset.take(3):\n",
    "    print(sales)\n",
    "    \n"
   ]
  },
  {
   "cell_type": "markdown",
   "id": "be76ee89",
   "metadata": {},
   "source": [
    "## Filter values from your dataset"
   ]
  },
  {
   "cell_type": "code",
   "execution_count": 6,
   "id": "c0226239",
   "metadata": {},
   "outputs": [
    {
     "name": "stdout",
     "output_type": "stream",
     "text": [
      "Filter negative values\n",
      "tf.Tensor(21, shape=(), dtype=int32)\n",
      "tf.Tensor(22, shape=(), dtype=int32)\n",
      "tf.Tensor(31, shape=(), dtype=int32)\n",
      "tf.Tensor(1, shape=(), dtype=int32)\n",
      "tf.Tensor(32, shape=(), dtype=int32)\n",
      "tf.Tensor(24, shape=(), dtype=int32)\n",
      "tf.Tensor(31, shape=(), dtype=int32)\n"
     ]
    },
    {
     "name": "stderr",
     "output_type": "stream",
     "text": [
      "2021-11-04 13:25:28.808328: I tensorflow/compiler/mlir/mlir_graph_optimization_pass.cc:185] None of the MLIR Optimization Passes are enabled (registered 2)\n",
      "2021-11-04 13:25:28.808451: W tensorflow/core/platform/profile_utils/cpu_utils.cc:128] Failed to get CPU frequency: 0 Hz\n"
     ]
    }
   ],
   "source": [
    "print(\"Filter negative values\")\n",
    "tf_dataset_non_negative = tf_dataset.filter(lambda x: x>0)\n",
    "for sales in tf_dataset_non_negative:\n",
    "    print(sales)"
   ]
  },
  {
   "cell_type": "markdown",
   "id": "859f7f9a",
   "metadata": {},
   "source": [
    "# Map values from your dataset"
   ]
  },
  {
   "cell_type": "code",
   "execution_count": 7,
   "id": "74628662",
   "metadata": {},
   "outputs": [
    {
     "name": "stdout",
     "output_type": "stream",
     "text": [
      "tf.Tensor(420, shape=(), dtype=int32)\n",
      "tf.Tensor(440, shape=(), dtype=int32)\n",
      "tf.Tensor(620, shape=(), dtype=int32)\n",
      "tf.Tensor(20, shape=(), dtype=int32)\n",
      "tf.Tensor(640, shape=(), dtype=int32)\n",
      "tf.Tensor(480, shape=(), dtype=int32)\n",
      "tf.Tensor(620, shape=(), dtype=int32)\n"
     ]
    }
   ],
   "source": [
    "def currency_mx(input_val):\n",
    "    return input_val * 20\n",
    "\n",
    "tf_dataset_mx = tf_dataset_non_negative.map(currency_mx)\n",
    "for sales in tf_dataset_mx:\n",
    "    print(sales)"
   ]
  },
  {
   "cell_type": "markdown",
   "id": "06547cf8",
   "metadata": {},
   "source": [
    "# Shuffle\n",
    "how it works: https://stackoverflow.com/questions/53514495/what-does-batch-repeat-and-shuffle-do-with-tensorflow-dataset"
   ]
  },
  {
   "cell_type": "code",
   "execution_count": 8,
   "id": "d92bacc4",
   "metadata": {},
   "outputs": [
    {
     "name": "stdout",
     "output_type": "stream",
     "text": [
      "tf.Tensor(620, shape=(), dtype=int32)\n",
      "tf.Tensor(20, shape=(), dtype=int32)\n",
      "tf.Tensor(640, shape=(), dtype=int32)\n",
      "tf.Tensor(480, shape=(), dtype=int32)\n",
      "tf.Tensor(420, shape=(), dtype=int32)\n",
      "tf.Tensor(440, shape=(), dtype=int32)\n",
      "tf.Tensor(620, shape=(), dtype=int32)\n"
     ]
    }
   ],
   "source": [
    "tf_dataset_shuffled = tf_dataset_mx.shuffle(3)\n",
    "for sales in tf_dataset_shuffled:\n",
    "    print(sales)"
   ]
  },
  {
   "cell_type": "markdown",
   "id": "721c763e",
   "metadata": {},
   "source": [
    "# Batching\n",
    "Great for distributed environments"
   ]
  },
  {
   "cell_type": "code",
   "execution_count": 9,
   "id": "f37e8d42",
   "metadata": {},
   "outputs": [
    {
     "name": "stdout",
     "output_type": "stream",
     "text": [
      "[420 440 620]\n",
      "[ 20 640 480]\n",
      "[620]\n"
     ]
    }
   ],
   "source": [
    "tf_dataset_batched = tf_dataset_mx.batch(3)\n",
    "for sales_batch in tf_dataset_batched:\n",
    "    print(sales_batch.numpy())"
   ]
  },
  {
   "cell_type": "markdown",
   "id": "448ae239",
   "metadata": {},
   "source": [
    "# Putting everything together"
   ]
  },
  {
   "cell_type": "code",
   "execution_count": 10,
   "id": "7ad22540",
   "metadata": {},
   "outputs": [
    {
     "name": "stdout",
     "output_type": "stream",
     "text": [
      "[440 620]\n",
      "[420  20]\n",
      "[640 480]\n",
      "[620]\n"
     ]
    }
   ],
   "source": [
    "tf_dataset_processed = tf.data.Dataset.from_tensor_slices(daily_sales_numbers)\n",
    "tf_dataset_processed = tf_dataset_processed.filter(lambda x: x>0).map(currency_mx).shuffle(2).batch(2)\n",
    "for sales in tf_dataset_processed:\n",
    "    print(sales.numpy())"
   ]
  },
  {
   "cell_type": "markdown",
   "id": "7b57ce3e",
   "metadata": {},
   "source": [
    "# Prepare Images "
   ]
  },
  {
   "cell_type": "code",
   "execution_count": 11,
   "id": "4783621f",
   "metadata": {},
   "outputs": [
    {
     "name": "stdout",
     "output_type": "stream",
     "text": [
      "b'../datasets/pets/cat/Cartoon Cat_ im\\xc3\\xa1genes_ fotos de stock y vectores_yy.jpg'\n",
      "b'../datasets/pets/cat/Cat _ Traductor de ingl\\xc3\\xa9s a espa\\xc3\\xb1ol - ingl\\xc3\\xa9s.com.jpg'\n",
      "b'../datasets/pets/cat/Cat definici\\xc3\\xb3n y significado _ Diccionario Ingl\\xc3\\xa9s C.jpg'\n",
      "b'../datasets/pets/cat/Cat returns home after family believe they cremated.jpg'\n",
      "b'../datasets/pets/cat/Grumpy Cat - Wikipedia_ la enciclopedia libre.jpg'\n",
      "b'../datasets/pets/cat/Grumpy Cat_ muere la leyenda felina de internet_yyt.jpg'\n",
      "b'../datasets/pets/cat/How the Cat Gets Its Stripes_ It_s Genetics__yythkg.jpg'\n",
      "b'../datasets/pets/cat/cat en espa\\xc3\\xb1ol _ Traductor ingl\\xc3\\xa9s-espa\\xc3\\xb1ol _ Nglish_.jpg'\n",
      "b'../datasets/pets/dog/45 Best Large Dog Breeds - Top Big Dogs_yyth.jpg'\n",
      "b'../datasets/pets/dog/9 Reasons to Own a Dog.jpg'\n",
      "b'../datasets/pets/dog/Dog _ Traductor de ingl\\xc3\\xa9s a espa\\xc3\\xb1ol - ingl\\xc3\\xa9s.com.jpg'\n",
      "b'../datasets/pets/dog/Dog breeds_ Most popular in America.jpg'\n",
      "b'../datasets/pets/dog/Dog definici\\xc3\\xb3n y significado _ Diccionario Ingl\\xc3\\xa9s C.jpg'\n",
      "b'../datasets/pets/dog/How dogs contribute to your health and happiness.jpg'\n",
      "b'../datasets/pets/dog/The Science-Backed Benefits of Being a Dog Owner.jpg'\n",
      "b'../datasets/pets/dog/dog-puppy-on-garden-royalty-free-image-1586966191 - Soolide.jpg'\n",
      "b'../datasets/pets/dog/dogs en espa\\xc3\\xb1ol _ Traductor ingl\\xc3\\xa9s-espa\\xc3\\xb1ol _ Nglish.jpg'\n"
     ]
    }
   ],
   "source": [
    "# Create image dataet without shuffle\n",
    "image_ds = tf.data.Dataset.list_files(\"../datasets/pets/*/*\", shuffle=False)\n",
    "for file in image_ds.take(20):\n",
    "    print(file.numpy())"
   ]
  },
  {
   "cell_type": "code",
   "execution_count": 12,
   "id": "22928862",
   "metadata": {},
   "outputs": [
    {
     "name": "stdout",
     "output_type": "stream",
     "text": [
      "b'../datasets/pets/dog/45 Best Large Dog Breeds - Top Big Dogs_yyth.jpg'\n",
      "b'../datasets/pets/dog/Dog _ Traductor de ingl\\xc3\\xa9s a espa\\xc3\\xb1ol - ingl\\xc3\\xa9s.com.jpg'\n",
      "b'../datasets/pets/dog/dog-puppy-on-garden-royalty-free-image-1586966191 - Soolide.jpg'\n"
     ]
    }
   ],
   "source": [
    "# Shuffle\n",
    "image_ds = image_ds.shuffle(200)\n",
    "for file in image_ds.take(3):\n",
    "    print(file.numpy())"
   ]
  },
  {
   "cell_type": "code",
   "execution_count": 13,
   "id": "c443efc9",
   "metadata": {},
   "outputs": [
    {
     "name": "stdout",
     "output_type": "stream",
     "text": [
      "image_count 17\n",
      "train_size 13\n",
      "size of training dataset:13, size of test dataset:4\n"
     ]
    }
   ],
   "source": [
    "# Now less divide\n",
    "class_names = [\"cat\", \"dog\"]\n",
    "image_count = len(image_ds)\n",
    "print(\"image_count\", image_count)\n",
    "\n",
    "# size of training dataset\n",
    "train_size = int(image_count * 0.8)\n",
    "print(\"train_size\", train_size)\n",
    "\n",
    "# Create the training dataset\n",
    "train_ds = image_ds.take(train_size)\n",
    "test_ds = image_ds.skip(train_size) #skip is the opposite of take\n",
    "\n",
    "print(f'size of training dataset:{len(train_ds)}, size of test dataset:{len(test_ds)}' )"
   ]
  },
  {
   "cell_type": "code",
   "execution_count": 14,
   "id": "2a85b8ac",
   "metadata": {},
   "outputs": [
    {
     "data": {
      "text/plain": [
       "<tf.Tensor: shape=(), dtype=string, numpy=b'cat'>"
      ]
     },
     "execution_count": 14,
     "metadata": {},
     "output_type": "execute_result"
    }
   ],
   "source": [
    "import os\n",
    "def get_label(path): #path is a tensor\n",
    "    return tf.strings.split(path, os.path.sep)[3]\n",
    "\n",
    "s='../datasets/pets/cat/Cat returns home after family believe they cremated.jpg'\n",
    "label = get_label(s)\n",
    "label"
   ]
  },
  {
   "cell_type": "code",
   "execution_count": 15,
   "id": "06b032f2",
   "metadata": {},
   "outputs": [
    {
     "name": "stdout",
     "output_type": "stream",
     "text": [
      "tf.Tensor(b'dog', shape=(), dtype=string)\n",
      "tf.Tensor(b'dog', shape=(), dtype=string)\n",
      "tf.Tensor(b'cat', shape=(), dtype=string)\n",
      "tf.Tensor(b'dog', shape=(), dtype=string)\n",
      "tf.Tensor(b'dog', shape=(), dtype=string)\n",
      "tf.Tensor(b'cat', shape=(), dtype=string)\n",
      "tf.Tensor(b'dog', shape=(), dtype=string)\n",
      "tf.Tensor(b'cat', shape=(), dtype=string)\n",
      "tf.Tensor(b'cat', shape=(), dtype=string)\n",
      "tf.Tensor(b'dog', shape=(), dtype=string)\n",
      "tf.Tensor(b'dog', shape=(), dtype=string)\n",
      "tf.Tensor(b'dog', shape=(), dtype=string)\n",
      "tf.Tensor(b'cat', shape=(), dtype=string)\n"
     ]
    }
   ],
   "source": [
    "for item in train_ds.map(get_label):\n",
    "    print(item)"
   ]
  },
  {
   "cell_type": "code",
   "execution_count": 18,
   "id": "861c557a",
   "metadata": {},
   "outputs": [
    {
     "name": "stdout",
     "output_type": "stream",
     "text": [
      "label: b'dog'\n",
      "image_shape: (1000, 825, 3)\n",
      "label: b'dog'\n",
      "image_shape: (635, 640, 3)\n",
      "label: b'cat'\n",
      "image_shape: (280, 310, 3)\n",
      "label: b'cat'\n",
      "image_shape: (886, 1000, 3)\n",
      "label: b'dog'\n",
      "image_shape: (455, 600, 3)\n",
      "label: b'dog'\n",
      "image_shape: (1437, 2560, 3)\n",
      "label: b'dog'\n",
      "image_shape: (254, 380, 3)\n",
      "label: b'dog'\n",
      "image_shape: (1414, 2121, 3)\n",
      "label: b'dog'\n",
      "image_shape: (216, 324, 3)\n",
      "label: b'cat'\n",
      "image_shape: (360, 640, 3)\n",
      "label: b'dog'\n",
      "image_shape: (602, 1200, 3)\n",
      "label: b'cat'\n",
      "image_shape: (253, 380, 3)\n",
      "label: b'dog'\n",
      "image_shape: (825, 800, 3)\n"
     ]
    }
   ],
   "source": [
    "import numpy as np\n",
    "def process_image(filepath):\n",
    "    label = get_label(filepath)\n",
    "    image = tf.io.read_file(filepath)\n",
    "    #decode jpg image\n",
    "    image = tf.image.decode_jpeg(image)\n",
    "    #resize\n",
    "    #mage = tf.image.resize(image, [128,128])\n",
    "    return image, label\n",
    "\n",
    "for (image, label) in train_ds.map(process_image):\n",
    "    print(f'label: {label}')\n",
    "    print(f'image_shape: {np.shape(image.numpy())}')\n"
   ]
  },
  {
   "cell_type": "markdown",
   "id": "5498d210",
   "metadata": {},
   "source": [
    "# Exercise with textfiles"
   ]
  },
  {
   "cell_type": "code",
   "execution_count": 75,
   "id": "0040e612",
   "metadata": {},
   "outputs": [
    {
     "name": "stdout",
     "output_type": "stream",
     "text": [
      "tf.Tensor(b'../datasets/ex01/reviews/positive/pos_3.txt', shape=(), dtype=string)\n",
      "tf.Tensor(b'../datasets/ex01/reviews/negative/neg_1.txt', shape=(), dtype=string)\n",
      "tf.Tensor(b'../datasets/ex01/reviews/negative/neg_3.txt', shape=(), dtype=string)\n",
      "tf.Tensor(b'../datasets/ex01/reviews/positive/pos_1.txt', shape=(), dtype=string)\n",
      "tf.Tensor(b'../datasets/ex01/reviews/positive/pos_2.txt', shape=(), dtype=string)\n",
      "tf.Tensor(b'../datasets/ex01/reviews/negative/neg_2.txt', shape=(), dtype=string)\n"
     ]
    }
   ],
   "source": [
    "# Create a dataset\n",
    "texts_ds = tf.data.Dataset.list_files(\"../datasets/ex01/reviews/*/*.txt\")\n",
    "for text in texts_ds:\n",
    "    print(text)\n"
   ]
  },
  {
   "cell_type": "markdown",
   "id": "330149d1",
   "metadata": {},
   "source": [
    "# Filter -> remove empty text datasets"
   ]
  },
  {
   "cell_type": "code",
   "execution_count": 62,
   "id": "91457862",
   "metadata": {},
   "outputs": [],
   "source": [
    "# filtering has a problem: https://github.com/tensorflow/tensorflow/issues/46685\n",
    "# Basically you can't transform to numpy()\n",
    "def to_numpy(x):\n",
    "    print(x)\n",
    "    return x.numpy()\n",
    "\n",
    "# You can't do this\n",
    "#texts_ds = texts_ds.map(to_numpy)"
   ]
  },
  {
   "cell_type": "code",
   "execution_count": 83,
   "id": "75a8f7c6",
   "metadata": {},
   "outputs": [
    {
     "name": "stdout",
     "output_type": "stream",
     "text": [
      "tf.Tensor(b'positive', shape=(), dtype=string)\n",
      "tf.Tensor(b'A wonderful little production. <br /><br />The filming technique is very unassuming- very old-time-BBC fashion and gives a comforting, and sometimes discomforting, sense of realism to the entire piece. <br /><br />The actors are extremely well chosen- Michael Sheen not only \"has got all the polari\" but he has all the voices down pat too! You can truly see the seamless editing guided by the references to Williams\\' diary entries, not only is it well worth the watching but it is a terrificly written and performed piece. A masterful production about one of the great master\\'s of comedy and his life. <br /><br />The realism really comes home with the little things: the fantasy of the guard which, rather than use the traditional \\'dream\\' techniques remains solid then disappears. It plays on our knowledge and our senses, particularly with the scenes concerning Orton and Halliwell and the sets (particularly of their flat with Halliwell\\'s murals decorating every surface) are terribly well done.\\n', shape=(), dtype=string)\n",
      "tf.Tensor(b'negative', shape=(), dtype=string)\n",
      "tf.Tensor(b\"This show was an amazing, fresh & innovative idea in the 70's when it first aired. The first 7 or 8 years were brilliant, but things dropped off after that. By 1990, the show was not really funny anymore, and it's continued its decline further to the complete waste of time it is today.<br /><br />It's truly disgraceful how far this show has fallen. The writing is painfully bad, the performances are almost as bad - if not for the mildly entertaining respite of the guest-hosts, this show probably wouldn't still be on the air. I find it so hard to believe that the same creator that hand-selected the original cast also chose the band of hacks that followed. How can one recognize such brilliance and then see fit to replace it with such mediocrity? I felt I must give 2 stars out of respect for the original cast that made this show such a huge success. As it is now, the show is just awful. I can't believe it's still on the air.\\n\", shape=(), dtype=string)\n",
      "tf.Tensor(b'positive', shape=(), dtype=string)\n",
      "tf.Tensor(b\"One of the other reviewers has mentioned that after watching just 1 Oz episode you'll be hooked. They are right, as this is exactly what happened with me.<br /><br />The first thing that struck me about Oz was its brutality and unflinching scenes of violence, which set in right from the word GO. Trust me, this is not a show for the faint hearted or timid. This show pulls no punches with regards to drugs, sex or violence. Its is hardcore, in the classic use of the word.<br /><br />It is called OZ as that is the nickname given to the Oswald Maximum Security State Penitentary. It focuses mainly on Emerald City, an experimental section of the prison where all the cells have glass fronts and face inwards, so privacy is not high on the agenda. Em City is home to many..Aryans, Muslims, gangstas, Latinos, Christians, Italians, Irish and more....so scuffles, death stares, dodgy dealings and shady agreements are never far away.<br /><br />I would say the main appeal of the show is due to the fact that it goes where other shows wouldn't dare. Forget pretty pictures painted for mainstream audiences, forget charm, forget romance...OZ doesn't mess around. The first episode I ever saw struck me as so nasty it was surreal, I couldn't say I was ready for it, but as I watched more, I developed a taste for Oz, and got accustomed to the high levels of graphic violence. Not just violence, but injustice (crooked guards who'll be sold out for a nickel, inmates who'll kill on order and get away with it, well mannered, middle class inmates being turned into prison bitches due to their lack of street skills or prison experience) Watching Oz, you may become comfortable with what is uncomfortable viewing....thats if you can get in touch with your darker side.\\n\", shape=(), dtype=string)\n",
      "tf.Tensor(b'negative', shape=(), dtype=string)\n",
      "tf.Tensor(b\"Basically there's a family where a little boy (Jake) thinks there's a zombie in his closet & his parents are fighting all the time.<br /><br />This movie is slower than a soap opera... and suddenly, Jake decides to become Rambo and kill the zombie.<br /><br />OK, first of all when you're going to make a film you must Decide if its a thriller or a drama! As a drama the movie is watchable. Parents are divorcing & arguing like in real life. And then we have Jake with his closet which totally ruins all the film! I expected to see a BOOGEYMAN similar movie, and instead i watched a drama with some meaningless thriller spots.<br /><br />3 out of 10 just for the well playing parents & descent dialogs. As for the shots with Jake: just ignore them.\\n\", shape=(), dtype=string)\n",
      "tf.Tensor(b'positive', shape=(), dtype=string)\n",
      "tf.Tensor(b'', shape=(), dtype=string)\n",
      "tf.Tensor(b'negative', shape=(), dtype=string)\n",
      "tf.Tensor(b'', shape=(), dtype=string)\n",
      "label----->b'positive'\n",
      "tf.Tensor(b'A wonderful little production. <br /><br />The filming technique is very unassuming- very old-time-BBC fashion and gives a comforting, and sometimes discomforting, sense of realism to the entire piece. <br /><br />The actors are extremely well chosen- Michael Sheen not only \"has got all the polari\" but he has all the voices down pat too! You can truly see the seamless editing guided by the references to Williams\\' diary entries, not only is it well worth the watching but it is a terrificly written and performed piece. A masterful production about one of the great master\\'s of comedy and his life. <br /><br />The realism really comes home with the little things: the fantasy of the guard which, rather than use the traditional \\'dream\\' techniques remains solid then disappears. It plays on our knowledge and our senses, particularly with the scenes concerning Orton and Halliwell and the sets (particularly of their flat with Halliwell\\'s murals decorating every surface) are terribly well done.\\n', shape=(), dtype=string)\n",
      "label----->b'negative'\n",
      "tf.Tensor(b\"Basically there's a family where a little boy (Jake) thinks there's a zombie in his closet & his parents are fighting all the time.<br /><br />This movie is slower than a soap opera... and suddenly, Jake decides to become Rambo and kill the zombie.<br /><br />OK, first of all when you're going to make a film you must Decide if its a thriller or a drama! As a drama the movie is watchable. Parents are divorcing & arguing like in real life. And then we have Jake with his closet which totally ruins all the film! I expected to see a BOOGEYMAN similar movie, and instead i watched a drama with some meaningless thriller spots.<br /><br />3 out of 10 just for the well playing parents & descent dialogs. As for the shots with Jake: just ignore them.\\n\", shape=(), dtype=string)\n",
      "label----->b'negative'\n",
      "tf.Tensor(b\"This show was an amazing, fresh & innovative idea in the 70's when it first aired. The first 7 or 8 years were brilliant, but things dropped off after that. By 1990, the show was not really funny anymore, and it's continued its decline further to the complete waste of time it is today.<br /><br />It's truly disgraceful how far this show has fallen. The writing is painfully bad, the performances are almost as bad - if not for the mildly entertaining respite of the guest-hosts, this show probably wouldn't still be on the air. I find it so hard to believe that the same creator that hand-selected the original cast also chose the band of hacks that followed. How can one recognize such brilliance and then see fit to replace it with such mediocrity? I felt I must give 2 stars out of respect for the original cast that made this show such a huge success. As it is now, the show is just awful. I can't believe it's still on the air.\\n\", shape=(), dtype=string)\n",
      "label----->b'positive'\n",
      "tf.Tensor(b\"One of the other reviewers has mentioned that after watching just 1 Oz episode you'll be hooked. They are right, as this is exactly what happened with me.<br /><br />The first thing that struck me about Oz was its brutality and unflinching scenes of violence, which set in right from the word GO. Trust me, this is not a show for the faint hearted or timid. This show pulls no punches with regards to drugs, sex or violence. Its is hardcore, in the classic use of the word.<br /><br />It is called OZ as that is the nickname given to the Oswald Maximum Security State Penitentary. It focuses mainly on Emerald City, an experimental section of the prison where all the cells have glass fronts and face inwards, so privacy is not high on the agenda. Em City is home to many..Aryans, Muslims, gangstas, Latinos, Christians, Italians, Irish and more....so scuffles, death stares, dodgy dealings and shady agreements are never far away.<br /><br />I would say the main appeal of the show is due to the fact that it goes where other shows wouldn't dare. Forget pretty pictures painted for mainstream audiences, forget charm, forget romance...OZ doesn't mess around. The first episode I ever saw struck me as so nasty it was surreal, I couldn't say I was ready for it, but as I watched more, I developed a taste for Oz, and got accustomed to the high levels of graphic violence. Not just violence, but injustice (crooked guards who'll be sold out for a nickel, inmates who'll kill on order and get away with it, well mannered, middle class inmates being turned into prison bitches due to their lack of street skills or prison experience) Watching Oz, you may become comfortable with what is uncomfortable viewing....thats if you can get in touch with your darker side.\\n\", shape=(), dtype=string)\n"
     ]
    }
   ],
   "source": [
    "def process_texts_dataset(filepath):    \n",
    "    # get label\n",
    "    label = tf.strings.split(filepath, os.path.sep)[4]\n",
    "    #read file\n",
    "    text = tf.io.read_file(filepath)    \n",
    "    return (label, text)\n",
    "\n",
    "# Extract: create labels and reviews\n",
    "reviews_labels_ds = texts_ds.map(process_texts_dataset)    \n",
    "for (label, review) in reviews_labels_ds:\n",
    "    print(label)\n",
    "    print(review)\n",
    "\n",
    "# filter here\n",
    "reviews_labels_ds = reviews_labels_ds.filter(lambda label, review : review!='')\n",
    "for (label, review) in reviews_labels_ds:\n",
    "    print(f'label----->{label}, size: {}}')\n",
    "    print(review)"
   ]
  },
  {
   "cell_type": "code",
   "execution_count": 30,
   "id": "36342061",
   "metadata": {},
   "outputs": [
    {
     "data": {
      "text/plain": [
       "5"
      ]
     },
     "execution_count": 30,
     "metadata": {},
     "output_type": "execute_result"
    }
   ],
   "source": []
  }
 ],
 "metadata": {
  "kernelspec": {
   "display_name": "Python 3.9 (tensorflow)",
   "language": "python",
   "name": "tensorflow"
  },
  "language_info": {
   "codemirror_mode": {
    "name": "ipython",
    "version": 3
   },
   "file_extension": ".py",
   "mimetype": "text/x-python",
   "name": "python",
   "nbconvert_exporter": "python",
   "pygments_lexer": "ipython3",
   "version": "3.9.7"
  }
 },
 "nbformat": 4,
 "nbformat_minor": 5
}
