{
 "cells": [
  {
   "cell_type": "markdown",
   "id": "dec6d34d",
   "metadata": {},
   "source": [
    "# tf.data API"
   ]
  },
  {
   "cell_type": "code",
   "execution_count": 1,
   "id": "40cd6170",
   "metadata": {},
   "outputs": [],
   "source": [
    "import tensorflow as tf"
   ]
  },
  {
   "cell_type": "code",
   "execution_count": 3,
   "id": "a9dc413f",
   "metadata": {},
   "outputs": [],
   "source": [
    "daily_sales_numbers = [21,22,-108, 31, 1, 32,24,31]"
   ]
  },
  {
   "cell_type": "markdown",
   "id": "fece278f",
   "metadata": {},
   "source": [
    "# Simple tf.data.Dataset object\n"
   ]
  },
  {
   "cell_type": "code",
   "execution_count": 13,
   "id": "4da3f52a",
   "metadata": {},
   "outputs": [
    {
     "data": {
      "text/plain": [
       "<TensorSliceDataset shapes: (), types: tf.int32>"
      ]
     },
     "execution_count": 13,
     "metadata": {},
     "output_type": "execute_result"
    }
   ],
   "source": [
    "tf_dataset = tf.data.Dataset.from_tensor_slices(daily_sales_numbers)\n",
    "tf_dataset"
   ]
  },
  {
   "cell_type": "code",
   "execution_count": 14,
   "id": "74b9cd1b",
   "metadata": {},
   "outputs": [
    {
     "name": "stdout",
     "output_type": "stream",
     "text": [
      "you can iterate through out your dataset\n",
      "21\n",
      "22\n",
      "-108\n",
      "31\n",
      "1\n",
      "32\n",
      "24\n",
      "31\n",
      "you can use a numpy iterator\n",
      "21\n",
      "22\n",
      "-108\n",
      "31\n",
      "1\n",
      "32\n",
      "24\n",
      "31\n",
      "you can select only a number of elements\n",
      "tf.Tensor(21, shape=(), dtype=int32)\n",
      "tf.Tensor(22, shape=(), dtype=int32)\n",
      "tf.Tensor(-108, shape=(), dtype=int32)\n"
     ]
    }
   ],
   "source": [
    "print(\"you can iterate through out your dataset\")\n",
    "for sales in tf_dataset:\n",
    "    print(sales.numpy())\n",
    "\n",
    "print(\"you can use a numpy iterator\")\n",
    "for sales in tf_dataset.as_numpy_iterator():\n",
    "    print(sales)\n",
    "\n",
    "print(\"you can select only a number of elements\")\n",
    "for sales in tf_dataset.take(3):\n",
    "    print(sales)\n",
    "    \n"
   ]
  },
  {
   "cell_type": "markdown",
   "id": "44de231d",
   "metadata": {},
   "source": [
    "## Filter values from your dataset"
   ]
  },
  {
   "cell_type": "code",
   "execution_count": 16,
   "id": "33595704",
   "metadata": {},
   "outputs": [
    {
     "name": "stdout",
     "output_type": "stream",
     "text": [
      "Filter negative values\n",
      "tf.Tensor(21, shape=(), dtype=int32)\n",
      "tf.Tensor(22, shape=(), dtype=int32)\n",
      "tf.Tensor(31, shape=(), dtype=int32)\n",
      "tf.Tensor(1, shape=(), dtype=int32)\n",
      "tf.Tensor(32, shape=(), dtype=int32)\n",
      "tf.Tensor(24, shape=(), dtype=int32)\n",
      "tf.Tensor(31, shape=(), dtype=int32)\n"
     ]
    }
   ],
   "source": [
    "print(\"Filter negative values\")\n",
    "tf_dataset_non_negative = tf_dataset.filter(lambda x: x>0)\n",
    "for sales in tf_dataset_non_negative:\n",
    "    print(sales)"
   ]
  },
  {
   "cell_type": "markdown",
   "id": "116faf31",
   "metadata": {},
   "source": [
    "# Map values from your dataset"
   ]
  },
  {
   "cell_type": "code",
   "execution_count": 20,
   "id": "210a6314",
   "metadata": {},
   "outputs": [
    {
     "name": "stdout",
     "output_type": "stream",
     "text": [
      "tf.Tensor(420, shape=(), dtype=int32)\n",
      "tf.Tensor(440, shape=(), dtype=int32)\n",
      "tf.Tensor(620, shape=(), dtype=int32)\n",
      "tf.Tensor(20, shape=(), dtype=int32)\n",
      "tf.Tensor(640, shape=(), dtype=int32)\n",
      "tf.Tensor(480, shape=(), dtype=int32)\n",
      "tf.Tensor(620, shape=(), dtype=int32)\n"
     ]
    }
   ],
   "source": [
    "def currency_mx(input_val):\n",
    "    return input_val * 20\n",
    "\n",
    "tf_dataset_mx = tf_dataset_non_negative.map(currency_mx)\n",
    "for sales in tf_dataset_mx:\n",
    "    print(sales)"
   ]
  },
  {
   "cell_type": "markdown",
   "id": "b1c8ddaa",
   "metadata": {},
   "source": [
    "# Shuffle\n",
    "how it works: https://stackoverflow.com/questions/53514495/what-does-batch-repeat-and-shuffle-do-with-tensorflow-dataset"
   ]
  },
  {
   "cell_type": "code",
   "execution_count": 21,
   "id": "0750c6ce",
   "metadata": {},
   "outputs": [
    {
     "name": "stdout",
     "output_type": "stream",
     "text": [
      "tf.Tensor(420, shape=(), dtype=int32)\n",
      "tf.Tensor(440, shape=(), dtype=int32)\n",
      "tf.Tensor(20, shape=(), dtype=int32)\n",
      "tf.Tensor(480, shape=(), dtype=int32)\n",
      "tf.Tensor(640, shape=(), dtype=int32)\n",
      "tf.Tensor(620, shape=(), dtype=int32)\n",
      "tf.Tensor(620, shape=(), dtype=int32)\n"
     ]
    }
   ],
   "source": [
    "tf_dataset_shuffled = tf_dataset_mx.shuffle(3)\n",
    "for sales in tf_dataset_shuffled:\n",
    "    print(sales)"
   ]
  },
  {
   "cell_type": "markdown",
   "id": "ddc5fa65",
   "metadata": {},
   "source": [
    "# Batching\n",
    "Great for distributed environments"
   ]
  },
  {
   "cell_type": "code",
   "execution_count": 24,
   "id": "11228a31",
   "metadata": {},
   "outputs": [
    {
     "name": "stdout",
     "output_type": "stream",
     "text": [
      "[420 440 620]\n",
      "[ 20 640 480]\n",
      "[620]\n"
     ]
    }
   ],
   "source": [
    "tf_dataset_batched = tf_dataset_mx.batch(3)\n",
    "for sales_batch in tf_dataset_batched:\n",
    "    print(sales_batch.numpy())"
   ]
  },
  {
   "cell_type": "markdown",
   "id": "4fcc7e1c",
   "metadata": {},
   "source": [
    "# Putting everything together"
   ]
  },
  {
   "cell_type": "code",
   "execution_count": 25,
   "id": "e954543a",
   "metadata": {},
   "outputs": [],
   "source": [
    "tf_dataset_processed = tf.data.Dataset.from_tensor_slices(daily_sales_numbers)\n",
    "tf_dataset_processed = tf_dataset_processed.filter(lambda x: x>0).map"
   ]
  },
  {
   "cell_type": "code",
   "execution_count": null,
   "id": "8fbd9c3b",
   "metadata": {},
   "outputs": [],
   "source": []
  },
  {
   "cell_type": "code",
   "execution_count": null,
   "id": "115f8ba6",
   "metadata": {},
   "outputs": [],
   "source": []
  },
  {
   "cell_type": "code",
   "execution_count": null,
   "id": "fc442500",
   "metadata": {},
   "outputs": [],
   "source": []
  }
 ],
 "metadata": {
  "kernelspec": {
   "display_name": "Python 3.9 (tensorflow)",
   "language": "python",
   "name": "tensorflow"
  },
  "language_info": {
   "codemirror_mode": {
    "name": "ipython",
    "version": 3
   },
   "file_extension": ".py",
   "mimetype": "text/x-python",
   "name": "python",
   "nbconvert_exporter": "python",
   "pygments_lexer": "ipython3",
   "version": "3.9.7"
  }
 },
 "nbformat": 4,
 "nbformat_minor": 5
}
