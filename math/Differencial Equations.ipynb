{
 "cells": [
  {
   "cell_type": "code",
   "execution_count": 13,
   "id": "b05954c1",
   "metadata": {},
   "outputs": [
    {
     "name": "stdout",
     "output_type": "stream",
     "text": [
      "[[-2  4 -2 -1  4]\n",
      " [ 4 -8  3 -3  1]\n",
      " [ 1 -2  1 -1  1]\n",
      " [ 1 -2  0 -3  4]]\n",
      "[[ 1 -2  1 -1  1]\n",
      " [ 4 -8  3 -3  1]\n",
      " [-2  4 -2 -1  4]\n",
      " [ 1 -2  0 -3  4]]\n",
      "[[ 1 -2  1 -1  1]\n",
      " [ 0  0 -1  1 -3]\n",
      " [ 0  0  0 -3  6]\n",
      " [ 0  0 -1 -2  3]]\n",
      "[[ 1 -2  1 -1  1]\n",
      " [ 0  0 -1  1 -3]\n",
      " [ 0  0  0 -3  6]\n",
      " [ 0  0  0  0  0]]\n",
      "[[ 1 -2  1 -1  1]\n",
      " [ 0  0  1 -1  3]\n",
      " [ 0  0  0  1 -2]\n",
      " [ 0  0  0  0  0]]\n"
     ]
    }
   ],
   "source": [
    "import numpy as np\n",
    "\n",
    "A = np.array([\n",
    "            [-2,4,-2,-1,4],\n",
    "            [4,-8,3,-3,1],\n",
    "            [1,-2,1,-1,1],\n",
    "            [1,-2,0,-3,4],\n",
    "             ])\n",
    "b = np.array([-3,2,0])\n",
    "\n",
    "def swap_row(matrix,idx1, idx2):\n",
    "    temp = np.array(matrix[idx1])    \n",
    "    matrix[idx1] = matrix[idx2]\n",
    "    matrix[idx2] = temp\n",
    "    return matrix\n",
    "\n",
    "print(A)\n",
    "A = swap_row(A,0,2)\n",
    "print(A)\n",
    "A[1] = A[1] -(4*A[0])\n",
    "A[2] = A[2] +(2*A[0])\n",
    "A[3] = A[3] -(A[0])\n",
    "print(A)\n",
    "A[3] = A[3] - (A[1])-(A[2])\n",
    "print(A)\n",
    "A[1] = A[1] * (-1)\n",
    "A[2] = A[2] * (-1/3)\n",
    "print(A)"
   ]
  }
 ],
 "metadata": {
  "kernelspec": {
   "display_name": "Python 3.9 (tensorflow)",
   "language": "python",
   "name": "tensorflow"
  },
  "language_info": {
   "codemirror_mode": {
    "name": "ipython",
    "version": 3
   },
   "file_extension": ".py",
   "mimetype": "text/x-python",
   "name": "python",
   "nbconvert_exporter": "python",
   "pygments_lexer": "ipython3",
   "version": "3.9.7"
  }
 },
 "nbformat": 4,
 "nbformat_minor": 5
}
