{
 "cells": [
  {
   "cell_type": "code",
   "execution_count": 1,
   "id": "12025bd2",
   "metadata": {},
   "outputs": [],
   "source": [
    "import matplotlib.pyplot as plt\n",
    "%matplotlib inline\n",
    "import numpy as np\n",
    "\n",
    "%reload_ext autoreload\n",
    "%autoreload 2"
   ]
  },
  {
   "cell_type": "markdown",
   "id": "d79fe244",
   "metadata": {},
   "source": [
    "# Vectors"
   ]
  },
  {
   "cell_type": "code",
   "execution_count": 2,
   "id": "cc183d7c",
   "metadata": {},
   "outputs": [
    {
     "data": {
      "text/plain": [
       "<matplotlib.quiver.Quiver at 0x11c25b430>"
      ]
     },
     "execution_count": 2,
     "metadata": {},
     "output_type": "execute_result"
    },
    {
     "data": {
      "image/png": "[encoded data removed]",
      "text/plain": [
       "<Figure size 360x288 with 1 Axes>"
      ]
     },
     "metadata": {
      "needs_background": "light"
     },
     "output_type": "display_data"
    }
   ],
   "source": [
    "fig_1 = plt.figure(figsize=(5,4))\n",
    "axes_1 = fig_1.add_axes([1, 1, 1, 1])\n",
    "axes_1.grid(b=True, which='major') #<-- plot grid lines\n",
    "axes_1.plot(0,0,'ok') #<-- plot a black point at the origin\n",
    "axes_1.axis('equal')  #<-- set the axes to the same scale\n",
    "axes_1.set_xlim(-5, 5)    #<-- set the x axis limits\n",
    "axes_1.set_ylim(-6, 6)    #<-- set the y axis limits\n",
    "axes_1.quiver(0,0,1,0, color='blue', angles='xy', scale_units='xy', scale=1)  \n",
    "axes_1.quiver(0,0,0,1, color='red',angles='xy', scale_units='xy', scale=1)  "
   ]
  },
  {
   "cell_type": "markdown",
   "id": "ff94d92b",
   "metadata": {},
   "source": [
    "# Line Equation: Vector Parametric\n",
    "## $\\vec{r} = \\vec{r_{0}} + t \\vec{d}$\n",
    "where:\n",
    "- $\\vec{r_{0}}$ is a vector representing the base point\n",
    "- $\\vec{d}$ is the directional vector\n"
   ]
  },
  {
   "cell_type": "code",
   "execution_count": 7,
   "id": "fc5de9a6",
   "metadata": {},
   "outputs": [
    {
     "data": {
      "application/vnd.jupyter.widget-view+json": {
       "model_id": "efad0093529e4611a22ed2d3b79ad319",
       "version_major": 2,
       "version_minor": 0
      },
      "text/plain": [
       "interactive(children=(IntSlider(value=1, description='r0_x', max=5, min=-5), IntSlider(value=1, description='r…"
      ]
     },
     "metadata": {},
     "output_type": "display_data"
    }
   ],
   "source": [
    "from vector import Vector\n",
    "import ipywidgets as widgets\n",
    "from IPython.display import display\n",
    "\n",
    "\n",
    "\n",
    "def plot_parametric_line(r0, d, t):\n",
    "    fig = plt.figure(figsize=(5,4))\n",
    "    axes = fig.add_axes([1, 1, 1, 1])\n",
    "    axes.clear()\n",
    "    axes.grid(b=True, which='major') #<-- plot grid lines\n",
    "    axes.plot(0,0,'ok') #<-- plot a black point at the origin\n",
    "    axes.axis('equal')  #<-- set the axes to the same scale\n",
    "    axes.set_xlim(-10, 10)    #<-- set the x axis limits\n",
    "    axes.set_ylim(-10, 10)    #<-- set the y axis limits\n",
    "    \n",
    "    #Set Vectors\n",
    "    print(int(r0.coordinates[0]))\n",
    "    #Base Point Vector\n",
    "    axes.quiver(0,0,\n",
    "                int(r0.coordinates[0]),\n",
    "                int(r0.coordinates[1]), \n",
    "                color='orange', angles='xy', \n",
    "                scale_units='xy', scale=1)  \n",
    "    #Direction Vector\n",
    "    axes.quiver(int(r0.coordinates[0]),int(r0.coordinates[1]),\n",
    "                int(t*d.coordinates[0]),int(t*d.coordinates[1]), \n",
    "                color='yellow',angles='xy', scale_units='xy', scale=1)  \n",
    "    \n",
    "    # Compute vector\n",
    "    line_vector = r0.plus(d)\n",
    "    axes.quiver(0,0,int(line_vector.coordinates[0]),int(line_vector.coordinates[1]), \n",
    "                color='red',angles='xy', scale_units='xy', scale=1)  \n",
    "    \n",
    "    #Plot line\n",
    "    x = np.linspace(-10,10,1)\n",
    "    \n",
    "    #m = float((d.coordinates[1] - r0.coordinates[1])) / float((d.coordinates[0] - r0.coordinates[0]))\n",
    "    #b = float(ro.coordinates[1])\n",
    "    #y = m*x + b\n",
    "    #axes.plot(x, y)\n",
    "    plt.show()\n",
    "    \n",
    "    \n",
    "def update_plot(r0_x, r0_y, dx, dy, t):\n",
    "    print(r0_x, r0_y, dx, dy)\n",
    "    r0_vector = Vector([r0_x, r0_y])\n",
    "    d_vector = Vector([dx, dy])\n",
    "    plot_parametric_line(r0_vector, d_vector, t)\n",
    "    \n",
    "\n",
    "r0_x = widgets.IntSlider(min=-5, \n",
    "                          max=5, \n",
    "                          value=1,\n",
    "                          description='r0_x')\n",
    "r0_y = widgets.IntSlider(min=-5, \n",
    "                          max=5, \n",
    "                          value=1,\n",
    "                          description='r0_j')\n",
    "dx = widgets.IntSlider(min=-5, \n",
    "                          max=5, \n",
    "                          value=1,\n",
    "                          description='dx')\n",
    "dy= widgets.IntSlider(min=-5, \n",
    "                          max=5, \n",
    "                          value=1,\n",
    "                          description='dy')\n",
    "t = widgets.IntSlider(min=-5, \n",
    "                          max=5, \n",
    "                          value=1,\n",
    "                          description='t')\n",
    "\n",
    "widgets.interactive(update_plot, \n",
    "                    r0_x=r0_x, \n",
    "                    r0_y=r0_y,\n",
    "                    dx=dx,\n",
    "                    dy=dy,\n",
    "                    t=t)"
   ]
  },
  {
   "cell_type": "code",
   "execution_count": null,
   "id": "e51a28cc",
   "metadata": {},
   "outputs": [],
   "source": []
  },
  {
   "cell_type": "code",
   "execution_count": null,
   "id": "b7553e85",
   "metadata": {},
   "outputs": [],
   "source": []
  },
  {
   "cell_type": "code",
   "execution_count": null,
   "id": "beef116a",
   "metadata": {},
   "outputs": [],
   "source": []
  },
  {
   "cell_type": "code",
   "execution_count": null,
   "id": "1375df4f",
   "metadata": {},
   "outputs": [],
   "source": []
  }
 ],
 "metadata": {
  "kernelspec": {
   "display_name": "Python 3.9 (tensorflow)",
   "language": "python",
   "name": "tensorflow"
  },
  "language_info": {
   "codemirror_mode": {
    "name": "ipython",
    "version": 3
   },
   "file_extension": ".py",
   "mimetype": "text/x-python",
   "name": "python",
   "nbconvert_exporter": "python",
   "pygments_lexer": "ipython3",
   "version": "3.9.7"
  }
 },
 "nbformat": 4,
 "nbformat_minor": 5
}
