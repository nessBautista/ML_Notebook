{
 "cells": [
  {
   "cell_type": "markdown",
   "id": "862e0cd3",
   "metadata": {},
   "source": [
    "# Resolution of a system of equations\n",
    "\n",
    "### Example of a system of equations\n",
    "\n",
    "$2x + y -z = 1$\n",
    "\n",
    "$3x + 4y + 2z = 13$\n",
    "\n",
    "$x - 5y - 2z = 0$\n",
    "\n",
    "To resolve this system of equations you need to find values for x, y, z that renders the results on the right side of the equations, in all 3 equations.\n",
    "\n",
    "Converting this system of equations into a Matrix system, makes easier to obtain the result, take it as a procedural phase in a solution framework.\n",
    "\n",
    "\n",
    "\n",
    "$\\begin{bmatrix} 2 &1 &-1 \\\\ 3& 4& 2 \\\\ 1 &-5&-2\\end{bmatrix} \n",
    "\\begin{bmatrix}x\\\\y\\\\z\\end{bmatrix} \n",
    "= \\begin{bmatrix}1\\\\13\\\\0\\end{bmatrix}$\n",
    "\n",
    "This system can be reduced to the expression below:\n",
    "\n",
    "$X \\beta = y$\n",
    "\n",
    "There are a number of methods to obtain the solution of a system of equation, lets focus for now in the **least-squares solution**:\n",
    "\n",
    "$\\beta = (X^{T}X)^{-1}X^{T}y$"
   ]
  },
  {
   "cell_type": "code",
   "execution_count": 9,
   "id": "08ed8be9",
   "metadata": {},
   "outputs": [
    {
     "name": "stdout",
     "output_type": "stream",
     "text": [
      "[ 3. -1.  4.]\n",
      "[ 3. -1.  4.]\n"
     ]
    }
   ],
   "source": [
    "import numpy as np\n",
    "import matplotlib.pyplot as plt\n",
    "\n",
    "X = np.array([[2,1,-1], [3,4,2], [1,-5,-2]])\n",
    "y = np.array([1,13,0])\n",
    "\n",
    "beta1 = np.linalg.inv(X.T@X) @ (X.T@y)\n",
    "print(beta1)\n",
    "\n",
    "# In practice this method is better because python figures out how to inverse without explicity calls to matrix inversion\n",
    "beta2 = np.linalg.solve(X, y)\n",
    "print(beta2)"
   ]
  },
  {
   "cell_type": "markdown",
   "id": "9ad887c3",
   "metadata": {},
   "source": [
    "# Examples\n",
    "## System 1\n",
    "\n",
    "$3x_{1} - y_{1} = 6 \\\\ -x_{1} + y_{1} = 2$\n",
    "\n",
    "Lets transform this into a matrix - vector expression\n",
    "\n",
    "$\\begin{bmatrix}3 & -1 \\\\ -1 & 1 \\end{bmatrix} \n",
    " \\begin{bmatrix}x_{1}\\\\ y_{1} \\end{bmatrix}  \n",
    "= \\begin{bmatrix}6\\\\ 2 \\end{bmatrix} $\n"
   ]
  },
  {
   "cell_type": "code",
   "execution_count": 13,
   "id": "bd2f6841",
   "metadata": {},
   "outputs": [
    {
     "name": "stdout",
     "output_type": "stream",
     "text": [
      "[4. 6.]\n"
     ]
    }
   ],
   "source": [
    "X1 = np.array([[3,-1], [-1,1]])\n",
    "y1 = np.array([6,2])\n",
    "b1 = np.linalg.solve(X1, y1)\n",
    "print(b1)"
   ]
  },
  {
   "cell_type": "markdown",
   "id": "65ed9651",
   "metadata": {},
   "source": [
    "Lets visualize the solution, but first we need to pass this equation into the form: $y = mx + b$\n",
    "\n",
    "For the first equation it would be something like:\n",
    "\n",
    "$y_{1} = 3x_{i} - 6 \\\\\n",
    "y_{2} = x_{i} + 2$\n",
    "\n",
    "Were $x_{i}$ is really the whole x axis"
   ]
  },
  {
   "cell_type": "code",
   "execution_count": 19,
   "id": "992b569c",
   "metadata": {},
   "outputs": [
    {
     "data": {
      "image/png": "[encoded data removed]",
      "text/plain": [
       "<Figure size 432x288 with 1 Axes>"
      ]
     },
     "metadata": {
      "needs_background": "light"
     },
     "output_type": "display_data"
    }
   ],
   "source": [
    "xlim = np.array([0, 10])\n",
    "yy1 = 3*xlim -6\n",
    "yy2 = xlim + 2\n",
    "\n",
    "plt.plot(xlim, yy1, 'b', label= 'eq 1')\n",
    "plt.plot(xlim, yy2, 'r', label= 'eq 2')\n",
    "plt.plot(b1[0], b1[1], 'ko', markersize=10, label='solution')\n",
    "plt.legend()\n",
    "plt.grid()\n",
    "plt.show()"
   ]
  },
  {
   "cell_type": "markdown",
   "id": "63dcb950",
   "metadata": {},
   "source": [
    "\n",
    "## System 2\n",
    "\n",
    "$3x_{2} - y_{2} = 6 \\\\ 1.5x_{2} - 0.5y_{2} = 3$\n",
    "\n",
    "Lets transform this into a matrix - vector expression\n",
    "\n",
    "$\\begin{bmatrix}3 & -1 \\\\ 1.5 & -0.5 \\end{bmatrix} \n",
    " \\begin{bmatrix}x_{2}\\\\ y_{2} \\end{bmatrix}  \n",
    "= \\begin{bmatrix}6\\\\ 3 \\end{bmatrix} $\n",
    "\n",
    "## System 3\n",
    "\n",
    "$3x_{3} - y_{3} = 6 \\\\ 1.5x_{3} - 0.5 y_{3} = 2$\n",
    "\n",
    "Lets transform this into a matrix - vector expression\n",
    "\n",
    "$\\begin{bmatrix}3 & -1 \\\\ 1.5 & -0.5 \\end{bmatrix} \n",
    " \\begin{bmatrix}x_{3}\\\\ y_{3} \\end{bmatrix}  \n",
    "= \\begin{bmatrix}6\\\\ 2 \\end{bmatrix} $"
   ]
  },
  {
   "cell_type": "code",
   "execution_count": null,
   "id": "b8f570b9",
   "metadata": {},
   "outputs": [],
   "source": []
  },
  {
   "cell_type": "code",
   "execution_count": 1,
   "id": "b05954c1",
   "metadata": {},
   "outputs": [
    {
     "name": "stdout",
     "output_type": "stream",
     "text": [
      "[[-2  4 -2 -1  4]\n",
      " [ 4 -8  3 -3  1]\n",
      " [ 1 -2  1 -1  1]\n",
      " [ 1 -2  0 -3  4]]\n",
      "[[ 1 -2  1 -1  1]\n",
      " [ 4 -8  3 -3  1]\n",
      " [-2  4 -2 -1  4]\n",
      " [ 1 -2  0 -3  4]]\n",
      "[[ 1 -2  1 -1  1]\n",
      " [ 0  0 -1  1 -3]\n",
      " [ 0  0  0 -3  6]\n",
      " [ 0  0 -1 -2  3]]\n",
      "[[ 1 -2  1 -1  1]\n",
      " [ 0  0 -1  1 -3]\n",
      " [ 0  0  0 -3  6]\n",
      " [ 0  0  0  0  0]]\n",
      "[[ 1 -2  1 -1  1]\n",
      " [ 0  0  1 -1  3]\n",
      " [ 0  0  0  1 -2]\n",
      " [ 0  0  0  0  0]]\n"
     ]
    }
   ],
   "source": [
    "\n",
    "\n",
    "A = np.array([\n",
    "            [-2,4,-2,-1,4],\n",
    "            [4,-8,3,-3,1],\n",
    "            [1,-2,1,-1,1],\n",
    "            [1,-2,0,-3,4],\n",
    "             ])\n",
    "b = np.array([-3,2,0])\n",
    "\n",
    "def swap_row(matrix,idx1, idx2):\n",
    "    temp = np.array(matrix[idx1])    \n",
    "    matrix[idx1] = matrix[idx2]\n",
    "    matrix[idx2] = temp\n",
    "    return matrix\n",
    "\n",
    "print(A)\n",
    "A = swap_row(A,0,2)\n",
    "print(A)\n",
    "A[1] = A[1] -(4*A[0])\n",
    "A[2] = A[2] +(2*A[0])\n",
    "A[3] = A[3] -(A[0])\n",
    "print(A)\n",
    "A[3] = A[3] - (A[1])-(A[2])\n",
    "print(A)\n",
    "A[1] = A[1] * (-1)\n",
    "A[2] = A[2] * (-1/3)\n",
    "print(A)"
   ]
  },
  {
   "cell_type": "code",
   "execution_count": null,
   "id": "60aa1102",
   "metadata": {},
   "outputs": [],
   "source": []
  },
  {
   "cell_type": "code",
   "execution_count": null,
   "id": "eb6716c2",
   "metadata": {},
   "outputs": [],
   "source": []
  }
 ],
 "metadata": {
  "kernelspec": {
   "display_name": "Python 3.9 (tensorflow)",
   "language": "python",
   "name": "tensorflow"
  },
  "language_info": {
   "codemirror_mode": {
    "name": "ipython",
    "version": 3
   },
   "file_extension": ".py",
   "mimetype": "text/x-python",
   "name": "python",
   "nbconvert_exporter": "python",
   "pygments_lexer": "ipython3",
   "version": "3.9.7"
  }
 },
 "nbformat": 4,
 "nbformat_minor": 5
}
