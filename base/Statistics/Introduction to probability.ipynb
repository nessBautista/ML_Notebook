{
 "cells": [
  {
   "cell_type": "markdown",
   "id": "57e0c37d",
   "metadata": {},
   "source": [
    "# Introduction to probability\n",
    "## Multiple independent observations\n",
    "\n",
    "Let's return to coin flipping to illustrate situations where we have an event consisting of multiple independent observations. For example, the probability of throwing thwo consecutive heads is:\n",
    "\n",
    "$P(HH) = \\frac{1} {4} = 0.25$\n",
    "\n",
    "Because there is one HH event in the sample set of four possible events\n",
    "\n",
    "$\\Omega = \\big\\{ HH, HT, TH, TT \\big\\} $\n",
    "\n",
    "The probability of throwing three consecutive heads is:\n",
    "$P(HHH) = \\frac{1} {8} = 0.125$\n",
    "This is because there is on HHH event in the sample set of eight possible events:\n",
    "\n",
    "$\\Omega = \\big\\{ HHH, HHT, HTH,HTT,THH,THT,TTH ,TTT \\big\\} $\n",
    "\n",
    "As  final example, the probability of throwing exactly two heads in three tosses is $P=\\frac{3}{8} = 0.375$ while the probability of throwing at least two heads in the tosses is $P=\\frac{4}{8} = 0.5$\n",
    "\n",
    "## Combining probabilities\n",
    "In order to combine probabilities, we can multiply them. So the probability of throwing five consecutive heads, for example, is the product of proababilities we've already calculated:\n",
    "\n",
    "$P(HHHHH) = P(HH)xP(HHH) = \\frac{1}{4} x \\frac{1}{8} = \\frac{1}{32} \\approx 0.031$\n",
    "\n",
    "## Factorial and combinatorics\n",
    "Combinatorics is a field of mathematics devoted to counting that can be helpful to studying probabilities. We can use factorials (e.g. $!4 = 4 x 3 x 2 x 1 = 24$) instead of going through the complicated process of determining all of the members of the sample space $\\Omega$ and counting subsets within $\\Omega$.\n",
    "\n",
    "We can calculate the number of outcomes (the dividend parth of the probability calculation) of an event using the **number of combination equation**:\n",
    "\n",
    "\n",
    "$\\begin{pmatrix}n \\\\ k\\end{pmatrix} = \\frac{n!}{k!(n-k)!}$\n",
    "\n",
    "left hand is read **n choose k**.  Where n is the number of events and k is the number of times our choosen event can happen.\n",
    "\n",
    "For example: We have three coin flips, $n=3$, and we are interested in the number of ways to get head flips (or two tail flips), then $k=2$. The equation would read: \"3 choose 2\"\n",
    "\n",
    "$$\n",
    "\\begin{pmatrix}3 \\\\ 2\\end{pmatrix} = \\frac{3!}{2!(3-2)!} = \\frac{3!}{2!(1!)} = \\frac{3x2x1}{(2x1)(1)} = \\frac{6}{2(1)} = 3\n",
    "$$\n",
    "\n",
    "This provide us with the numerator for the event-probability equation:\n",
    "\n",
    "$$\\frac{number of outcomes of event}{number of outcomes in \\Omega} = \\frac{3}{2^{n}} = \\frac{3}{2^{3}} = \\frac{3}{8} \\approx 0.375 $$\n",
    "\n",
    "Note that in the case of coin flipping the denominator can be calculated with $2^{n}$, where n is the number of coin flips."
   ]
  },
  {
   "cell_type": "code",
   "execution_count": 16,
   "id": "5238d049",
   "metadata": {},
   "outputs": [
    {
     "name": "stdout",
     "output_type": "stream",
     "text": [
      "probability of getting Zero heads in 5 coin flips: 0.03125\n",
      "probability of getting one heads in 5 coin flips: 0.15625\n",
      "probability of getting two heads in 5 coin flips: 0.3125\n",
      "probability of getting three heads in 5 coin flips: 0.3125\n",
      "probability of getting four heads in 5 coin flips: 0.15625\n",
      "probability of getting five heads in 5 coin flips: 0.03125\n"
     ]
    }
   ],
   "source": [
    "import numpy as np\n",
    "\n",
    "def n_choose_k(n, k):\n",
    "    num = np.math.factorial(n)\n",
    "    div = (np.math.factorial(k)) * np.math.factorial(n-k)\n",
    "    return num/div\n",
    "\n",
    "def get_probability(times_of_event, total_outcomes):\n",
    "    return times_of_event / total_outcomes\n",
    "\n",
    "def get_total_outcomes_in_flip_coin(coin_flips):\n",
    "    return np.power(2, coin_flips)\n",
    "\n",
    "# Get probability of throwing 3 heads in 5 coin tosses\n",
    "event_times = 3\n",
    "coin_tosses = 5\n",
    "\n",
    "times_of_event = n_choose_k(coin_tosses, event_times)\n",
    "total_outcomes = get_total_outcomes_in_flip_coin(coin_tosses)\n",
    "\n",
    "get_probability(times_of_event, total_outcomes)\n",
    "\n",
    "def get_coin_toss_probability(event_number,      # Getting Head, twice\n",
    "                              coin_toss_number): # Number of times we flip the coin\n",
    "   \n",
    "    \n",
    "    times_of_event = n_choose_k(coin_toss_number, event_number)\n",
    "    total_possible_outcomes = get_total_outcomes_in_flip_coin(coin_toss_number)\n",
    "    \n",
    "    return get_probability(times_of_event, total_possible_outcomes)\n",
    "    \n",
    "\n",
    "\n",
    "print(f'probability of getting Zero heads in 5 coin flips: {get_coin_toss_probability(0, 5)}')\n",
    "print(f'probability of getting one heads in 5 coin flips: {get_coin_toss_probability(1, 5)}')\n",
    "print(f'probability of getting two heads in 5 coin flips: {get_coin_toss_probability(2, 5)}')\n",
    "print(f'probability of getting three heads in 5 coin flips: {get_coin_toss_probability(3, 5)}')\n",
    "print(f'probability of getting four heads in 5 coin flips: {get_coin_toss_probability(4, 5)}')\n",
    "print(f'probability of getting five heads in 5 coin flips: {get_coin_toss_probability(5, 5)}')"
   ]
  },
  {
   "cell_type": "code",
   "execution_count": null,
   "id": "e2d9e3ab",
   "metadata": {},
   "outputs": [],
   "source": []
  }
 ],
 "metadata": {
  "interpreter": {
   "hash": "4bd624a0593993fe43ac4046b27b898fb2ef75c21c08f81e89e64ea0f51df676"
  },
  "kernelspec": {
   "display_name": "Python 3.9 (tensorflow)",
   "language": "python",
   "name": "python3"
  },
  "language_info": {
   "codemirror_mode": {
    "name": "ipython",
    "version": 3
   },
   "file_extension": ".py",
   "mimetype": "text/x-python",
   "name": "python",
   "nbconvert_exporter": "python",
   "pygments_lexer": "ipython3",
   "version": "3.9.7"
  }
 },
 "nbformat": 4,
 "nbformat_minor": 5
}
