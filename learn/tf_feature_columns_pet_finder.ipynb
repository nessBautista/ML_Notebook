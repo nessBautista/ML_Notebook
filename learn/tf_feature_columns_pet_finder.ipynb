{
 "cells": [
  {
   "cell_type": "markdown",
   "metadata": {},
   "source": [
    "# Feature Columns\n",
    "Tensorflow offers a Feature columns API, which is the way we can pre-process our incoming datasets to adopt the shape most appropiated for our model.\n"
   ]
  },
  {
   "cell_type": "code",
   "execution_count": 6,
   "metadata": {},
   "outputs": [],
   "source": [
    "import tensorflow as tf\n",
    "from tensorflow import feature_column\n",
    "from tensorflow.keras import layers"
   ]
  },
  {
   "cell_type": "code",
   "execution_count": 11,
   "metadata": {},
   "outputs": [
    {
     "name": "stdout",
     "output_type": "stream",
     "text": [
      "tf.Tensor([b'Cat' b'Cat' b'Cat' b'Cat' b'Dog'], shape=(5,), dtype=string)\n"
     ]
    }
   ],
   "source": [
    "\n",
    "\n",
    "dataset_url = 'http://storage.googleapis.com/download.tensorflow.org/data/petfinder-mini.zip'\n",
    "file_path = '../datasets/petfinder-mini/petfinder-mini.csv'\n",
    "\n",
    "# create dataset\n",
    "test_dataset = tf.data.experimental.make_csv_dataset(file_path, batch_size=5, \n",
    "label_name='Type')\n",
    "\n",
    "for features, target in test_dataset.take(1):\n",
    "    print(target)    "
   ]
  },
  {
   "cell_type": "code",
   "execution_count": 25,
   "metadata": {},
   "outputs": [
    {
     "name": "stdout",
     "output_type": "stream",
     "text": [
      "<class 'collections.OrderedDict'>\n",
      "<class 'tensorflow.python.framework.ops.EagerTensor'>\n",
      "[[4.]\n",
      " [7.]\n",
      " [4.]\n",
      " [4.]\n",
      " [6.]]\n"
     ]
    }
   ],
   "source": [
    "# Now lets define a demo function that will create a feature_layer\n",
    "# with the specified feature column.\n",
    "example_batch = next(iter(test_dataset))\n",
    "features, target_label = example_batch\n",
    "print(type(features))\n",
    "print(type(target_label))\n",
    "    \n",
    "def demo(feature_column):\n",
    "  feature_layer = layers.DenseFeatures(feature_column)\n",
    "  print(feature_layer(features).numpy())\n",
    "\n",
    "photo_count = feature_column.numeric_column('PhotoAmt')\n",
    "demo(photo_count)\n"
   ]
  },
  {
   "cell_type": "code",
   "execution_count": 26,
   "metadata": {},
   "outputs": [
    {
     "name": "stdout",
     "output_type": "stream",
     "text": [
      "[[0. 0. 0. 1.]\n",
      " [0. 0. 0. 1.]\n",
      " [0. 0. 0. 1.]\n",
      " [0. 1. 0. 0.]\n",
      " [0. 0. 0. 1.]]\n"
     ]
    }
   ],
   "source": [
    "# Bucketized Columns\n",
    "age = feature_column.numeric_column('Age')\n",
    "age_buckets = feature_column.bucketized_column(age, boundaries=[1,3,5])\n",
    "demo(age_buckets)"
   ]
  }
 ],
 "metadata": {
  "interpreter": {
   "hash": "4bd624a0593993fe43ac4046b27b898fb2ef75c21c08f81e89e64ea0f51df676"
  },
  "kernelspec": {
   "display_name": "Python 3.9.7 64-bit ('tensorflow': conda)",
   "name": "python3"
  },
  "language_info": {
   "codemirror_mode": {
    "name": "ipython",
    "version": 3
   },
   "file_extension": ".py",
   "mimetype": "text/x-python",
   "name": "python",
   "nbconvert_exporter": "python",
   "pygments_lexer": "ipython3",
   "version": "3.9.7"
  },
  "orig_nbformat": 4
 },
 "nbformat": 4,
 "nbformat_minor": 2
}
