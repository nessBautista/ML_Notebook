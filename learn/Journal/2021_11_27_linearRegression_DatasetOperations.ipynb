{
 "cells": [
  {
   "cell_type": "markdown",
   "metadata": {},
   "source": [
    "# lets start with the linear regression again\n",
    "\n",
    "You know that the formula of a line is\n",
    "$Y = mx + b$\n",
    "\n",
    "Lets substitute that for missing weights\n",
    "$Y = w0x + w1$\n",
    "\n"
   ]
  },
  {
   "cell_type": "code",
   "execution_count": 15,
   "metadata": {},
   "outputs": [
    {
     "name": "stdout",
     "output_type": "stream",
     "text": [
      "tf.Tensor([0. 1. 2. 3. 4. 5. 6. 7. 8. 9.], shape=(10,), dtype=float32)\n",
      "tf.Tensor([ 2.  6. 10. 14. 18. 22. 26. 30. 34. 38.], shape=(10,), dtype=float32)\n"
     ]
    },
    {
     "data": {
      "text/plain": [
       "[<matplotlib.lines.Line2D at 0x283b68250>]"
      ]
     },
     "execution_count": 15,
     "metadata": {},
     "output_type": "execute_result"
    },
    {
     "data": {
      "image/png": "[encoded data removed]",
      "text/plain": [
       "<Figure size 432x288 with 1 Axes>"
      ]
     },
     "metadata": {
      "needs_background": "light"
     },
     "output_type": "display_data"
    }
   ],
   "source": [
    "import tensorflow as tf\n",
    "import numpy as np\n",
    "import matplotlib.pyplot as plt\n",
    "\n",
    "# lets create data for points in the line using tensors\n",
    "m = 4\n",
    "b = 2\n",
    "X = tf.constant(range(10), dtype=tf.float32)\n",
    "Y = tf.constant(m*X + b, dtype=tf.float32)\n",
    "\n",
    "print(X)\n",
    "print(Y)\n",
    "plt.plot(X.numpy(), Y.numpy())\n"
   ]
  },
  {
   "cell_type": "markdown",
   "metadata": {},
   "source": [
    "# Create a model\n",
    "First we need to create a model to compare the accuracy of our predictions.\n",
    "Easy way to start is create a very simple model that will return the mean of the $Y$ array"
   ]
  },
  {
   "cell_type": "code",
   "execution_count": 16,
   "metadata": {},
   "outputs": [
    {
     "name": "stdout",
     "output_type": "stream",
     "text": [
      "The mean is:20.0\n",
      "Testing X: [0. 1. 2. 3. 4. 5. 6. 7. 8. 9.] in prediction_model 200.0\n"
     ]
    }
   ],
   "source": [
    "Y_mean = np.mean(Y.numpy())\n",
    "print(f'The mean is:{Y_mean}')\n",
    "def prediction_model(X):\n",
    "    #returns an array of the same length with all values equals to mean of the real Y\n",
    "    prediction = Y_mean * len(X)\n",
    "    return prediction\n",
    "\n",
    "# Test this model\n",
    "prediction = prediction_model(X)\n",
    "print(f'Testing X: {X} in prediction_model {prediction_model(X)}')\n"
   ]
  },
  {
   "cell_type": "markdown",
   "metadata": {},
   "source": [
    "# Create a loss Function\n",
    "We known that the Mean Square Error MSE is\n",
    "$$\\frac{1}{n}\\sum_{i}^{n}(\\bar{Y_{i}} - Y_{i})^{2}$$"
   ]
  },
  {
   "cell_type": "code",
   "execution_count": 17,
   "metadata": {},
   "outputs": [],
   "source": [
    "def compute_loss(X, Y, w0,w1):\n",
    "    Y_hat = w0*X + w1\n",
    "    error = (Y_hat - Y)**2\n",
    "    loss = tf.reduce_mean(error)\n",
    "    return loss\n",
    "\n"
   ]
  },
  {
   "cell_type": "markdown",
   "metadata": {},
   "source": [
    "# Create a function that computes the gradient"
   ]
  },
  {
   "cell_type": "code",
   "execution_count": 18,
   "metadata": {},
   "outputs": [],
   "source": [
    "def compute_gradient(X,Y,w0,w1):\n",
    "    with tf.GradientTape() as tape:\n",
    "        loss = compute_loss(X,Y,w0,w1)\n",
    "    return tape.gradient(loss, [w0,w1])"
   ]
  },
  {
   "cell_type": "markdown",
   "metadata": {},
   "source": [
    "# Create a Traning Loop"
   ]
  },
  {
   "cell_type": "code",
   "execution_count": 20,
   "metadata": {},
   "outputs": [
    {
     "name": "stdout",
     "output_type": "stream",
     "text": [
      "STEP 0 - loss: 15.626337051391602, w0: 4.919998645782471, w1: 0.7999998331069946\n",
      "\n",
      "STEP 100 - loss: 0.05150383710861206, w0: 4.067259311676025, w1: 1.578243613243103\n",
      "\n",
      "STEP 200 - loss: 0.005311555694788694, w0: 4.021599769592285, w1: 1.864558219909668\n",
      "\n",
      "STEP 300 - loss: 0.0005477849626913667, w0: 4.006936550140381, w1: 1.956504225730896\n",
      "\n",
      "STEP 400 - loss: 5.64910369575955e-05, w0: 4.002227306365967, w1: 1.9860317707061768\n",
      "\n",
      "STEP 500 - loss: 5.825835160067072e-06, w0: 4.000715255737305, w1: 1.9955145120620728\n",
      "\n",
      "STEP 600 - loss: 6.006603712194192e-07, w0: 4.000229835510254, w1: 1.9985593557357788\n",
      "\n",
      "STEP 700 - loss: 6.169471333805632e-08, w0: 4.000073432922363, w1: 1.9995381832122803\n",
      "\n",
      "STEP 800 - loss: 6.329773594160315e-09, w0: 4.000023365020752, w1: 1.999851942062378\n",
      "\n",
      "STEP 900 - loss: 6.623172565944913e-10, w0: 4.000007152557373, w1: 1.999952793121338\n",
      "\n",
      "STEP 1000 - loss: 6.869107366247462e-11, w0: 4.000002384185791, w1: 1.999984860420227\n",
      "\n"
     ]
    }
   ],
   "source": [
    "TRAINING_STEPS = 1000 \n",
    "LEARNING_RATE = 0.02\n",
    "MSG = \"STEP {step} - loss: {loss}, w0: {w0}, w1: {w1}\\n\"\n",
    "\n",
    "# Initialize values of w0 and w1\n",
    "w0 = tf.Variable(0, dtype=tf.float32)\n",
    "w1 = tf.Variable(0, dtype=tf.float32)\n",
    "\n",
    "for step in range(0, TRAINING_STEPS + 1):\n",
    "    dw0, dw1 = compute_gradient(X,Y, w0,w1)\n",
    "    w0.assign_sub(dw0 * LEARNING_RATE)\n",
    "    w1.assign_sub(dw1 * LEARNING_RATE)\n",
    "\n",
    "    if step % 100 == 0:\n",
    "        loss = compute_loss(X,Y,w0,w1)\n",
    "        print(MSG.format(step=step,loss=loss,w0=w0.numpy(),w1=w1.numpy()))\n",
    "\n"
   ]
  },
  {
   "cell_type": "markdown",
   "metadata": {},
   "source": [
    "# Create some test data"
   ]
  },
  {
   "cell_type": "code",
   "execution_count": 21,
   "metadata": {},
   "outputs": [
    {
     "data": {
      "text/plain": [
       "[<matplotlib.lines.Line2D at 0x17ee840a0>]"
      ]
     },
     "execution_count": 21,
     "metadata": {},
     "output_type": "execute_result"
    },
    {
     "data": {
      "image/png": "[encoded data removed]",
      "text/plain": [
       "<Figure size 432x288 with 1 Axes>"
      ]
     },
     "metadata": {
      "needs_background": "light"
     },
     "output_type": "display_data"
    }
   ],
   "source": [
    "X_test = tf.constant(range(10, 20), dtype=tf.float32)\n",
    "Y_test = tf.constant(m*X_test + b)\n",
    "plt.plot(X_test.numpy(), Y_test.numpy())"
   ]
  },
  {
   "cell_type": "markdown",
   "metadata": {},
   "source": [
    "# Test agains the error function"
   ]
  },
  {
   "cell_type": "code",
   "execution_count": 23,
   "metadata": {},
   "outputs": [
    {
     "name": "stdout",
     "output_type": "stream",
     "text": [
      "tf.Tensor(4.2928158e-10, shape=(), dtype=float32)\n"
     ]
    }
   ],
   "source": [
    "print(compute_loss(X_test, Y_test, w0, w1))"
   ]
  },
  {
   "cell_type": "markdown",
   "metadata": {},
   "source": [
    "# Exploring the Operations on datasets: Map, filter, batch, shuffle"
   ]
  },
  {
   "cell_type": "code",
   "execution_count": 65,
   "metadata": {},
   "outputs": [
    {
     "name": "stdout",
     "output_type": "stream",
     "text": [
      "tf.Tensor(\n",
      "[[1 2 3 4 5]\n",
      " [1 2 3 4 5]\n",
      " [1 2 3 4 5]], shape=(3, 5), dtype=int32)\n",
      "tf.Tensor([1 1 1 1 1], shape=(5,), dtype=int32)\n",
      "tf.Tensor([2 2 2 2 2], shape=(5,), dtype=int32)\n",
      "tf.Tensor([3 3 3 3 3], shape=(5,), dtype=int32)\n",
      "tf.Tensor([4 4 4 4 4], shape=(5,), dtype=int32)\n"
     ]
    }
   ],
   "source": [
    "def print_datasets(dataset):\n",
    "    for item in dataset:\n",
    "        print(item)\n",
    "\n",
    "ds_from_tensors = tf.data.Dataset.from_tensors([[1,2,3,4,5],[1,2,3,4,5],[1,2,3,4,5]])\n",
    "print_datasets(ds_from_tensors)\n",
    "\n",
    "ds_from_tensor_slices = tf.data.Dataset.from_tensor_slices([[1,1,1,1,1],[2,2,2,2,2],[3,3,3,3,3],[4,4,4,4,4]])\n",
    "print_datasets(ds_from_tensor_slices)"
   ]
  },
  {
   "cell_type": "markdown",
   "metadata": {},
   "source": [
    "# Batchs"
   ]
  },
  {
   "cell_type": "code",
   "execution_count": 67,
   "metadata": {},
   "outputs": [
    {
     "name": "stdout",
     "output_type": "stream",
     "text": [
      "tf.Tensor(\n",
      "[[1 1 1 1 1]\n",
      " [2 2 2 2 2]], shape=(2, 5), dtype=int32)\n",
      "tf.Tensor(\n",
      "[[3 3 3 3 3]\n",
      " [4 4 4 4 4]], shape=(2, 5), dtype=int32)\n"
     ]
    }
   ],
   "source": [
    "batch1 = ds_from_tensor_slices.batch(batch_size=2)\n",
    "print_datasets(batch1)"
   ]
  },
  {
   "cell_type": "code",
   "execution_count": 70,
   "metadata": {},
   "outputs": [
    {
     "name": "stdout",
     "output_type": "stream",
     "text": [
      "tf.Tensor(\n",
      "[[1 2 3 4 5]\n",
      " [1 2 3 4 5]\n",
      " [1 2 3 4 5]], shape=(3, 5), dtype=int32)\n",
      "tf.Tensor(\n",
      "[[[1 2 3 4 5]\n",
      "  [1 2 3 4 5]\n",
      "  [1 2 3 4 5]]], shape=(1, 3, 5), dtype=int32)\n"
     ]
    }
   ],
   "source": [
    "print_datasets(ds_from_tensors)\n",
    "batch2 = ds_from_tensors.batch(batch_size=2)\n",
    "print_datasets(batch2)"
   ]
  },
  {
   "cell_type": "markdown",
   "metadata": {},
   "source": [
    "# Map"
   ]
  },
  {
   "cell_type": "code",
   "execution_count": 75,
   "metadata": {},
   "outputs": [
    {
     "name": "stdout",
     "output_type": "stream",
     "text": [
      "tf.Tensor(\n",
      "[[1 2 3 4 5]\n",
      " [1 2 3 4 5]\n",
      " [1 2 3 4 5]], shape=(3, 5), dtype=int32)\n",
      "tf.Tensor(\n",
      "[[ 2  4  6  8 10]\n",
      " [ 2  4  6  8 10]\n",
      " [ 2  4  6  8 10]], shape=(3, 5), dtype=int32)\n"
     ]
    }
   ],
   "source": [
    "print_datasets(ds_from_tensors)\n",
    "map1 = ds_from_tensors.map(lambda x: x*2)\n",
    "print_datasets(map1)"
   ]
  },
  {
   "cell_type": "markdown",
   "metadata": {},
   "source": [
    "# Filtering text reviews"
   ]
  },
  {
   "cell_type": "code",
   "execution_count": 117,
   "metadata": {},
   "outputs": [
    {
     "name": "stdout",
     "output_type": "stream",
     "text": [
      "label: b'positive'\n",
      "review: b''\n",
      "label: b'negative'\n",
      "review: b''\n",
      "label: b'negative'\n",
      "review: b\"This show was an amazing, fresh & innovative idea in the 70's when it first aired. The first 7 or 8 years were brilliant, but things dropped off after that. By 1990, the show was not really funny anymore, and it's continued its decline further to the complete waste of time it is today.<br /><br />It's truly disgraceful how far this show has fallen. The writing is painfully bad, the performances are almost as bad - if not for the mildly entertaining respite of the guest-hosts, this show probably wouldn't still be on the air. I find it so hard to believe that the same creator that hand-selected the original cast also chose the band of hacks that followed. How can one recognize such brilliance and then see fit to replace it with such mediocrity? I felt I must give 2 stars out of respect for the original cast that made this show such a huge success. As it is now, the show is just awful. I can't believe it's still on the air.\\n\"\n",
      "label: b'positive'\n",
      "review: b'A wonderful little production. <br /><br />The filming technique is very unassuming- very old-time-BBC fashion and gives a comforting, and sometimes discomforting, sense of realism to the entire piece. <br /><br />The actors are extremely well chosen- Michael Sheen not only \"has got all the polari\" but he has all the voices down pat too! You can truly see the seamless editing guided by the references to Williams\\' diary entries, not only is it well worth the watching but it is a terrificly written and performed piece. A masterful production about one of the great master\\'s of comedy and his life. <br /><br />The realism really comes home with the little things: the fantasy of the guard which, rather than use the traditional \\'dream\\' techniques remains solid then disappears. It plays on our knowledge and our senses, particularly with the scenes concerning Orton and Halliwell and the sets (particularly of their flat with Halliwell\\'s murals decorating every surface) are terribly well done.\\n'\n",
      "label: b'positive'\n",
      "review: b\"One of the other reviewers has mentioned that after watching just 1 Oz episode you'll be hooked. They are right, as this is exactly what happened with me.<br /><br />The first thing that struck me about Oz was its brutality and unflinching scenes of violence, which set in right from the word GO. Trust me, this is not a show for the faint hearted or timid. This show pulls no punches with regards to drugs, sex or violence. Its is hardcore, in the classic use of the word.<br /><br />It is called OZ as that is the nickname given to the Oswald Maximum Security State Penitentary. It focuses mainly on Emerald City, an experimental section of the prison where all the cells have glass fronts and face inwards, so privacy is not high on the agenda. Em City is home to many..Aryans, Muslims, gangstas, Latinos, Christians, Italians, Irish and more....so scuffles, death stares, dodgy dealings and shady agreements are never far away.<br /><br />I would say the main appeal of the show is due to the fact that it goes where other shows wouldn't dare. Forget pretty pictures painted for mainstream audiences, forget charm, forget romance...OZ doesn't mess around. The first episode I ever saw struck me as so nasty it was surreal, I couldn't say I was ready for it, but as I watched more, I developed a taste for Oz, and got accustomed to the high levels of graphic violence. Not just violence, but injustice (crooked guards who'll be sold out for a nickel, inmates who'll kill on order and get away with it, well mannered, middle class inmates being turned into prison bitches due to their lack of street skills or prison experience) Watching Oz, you may become comfortable with what is uncomfortable viewing....thats if you can get in touch with your darker side.\\n\"\n",
      "label: b'negative'\n",
      "review: b\"Basically there's a family where a little boy (Jake) thinks there's a zombie in his closet & his parents are fighting all the time.<br /><br />This movie is slower than a soap opera... and suddenly, Jake decides to become Rambo and kill the zombie.<br /><br />OK, first of all when you're going to make a film you must Decide if its a thriller or a drama! As a drama the movie is watchable. Parents are divorcing & arguing like in real life. And then we have Jake with his closet which totally ruins all the film! I expected to see a BOOGEYMAN similar movie, and instead i watched a drama with some meaningless thriller spots.<br /><br />3 out of 10 just for the well playing parents & descent dialogs. As for the shots with Jake: just ignore them.\\n\"\n"
     ]
    }
   ],
   "source": [
    "import os\n",
    "def get_review(filepath):\n",
    "    review = tf.io.read_file(filepath)\n",
    "    return review\n",
    "\n",
    "def get_label(filepath):\n",
    "    label = tf.strings.split(filepath,os.path.sep)[-2]\n",
    "    return label\n",
    "\n",
    "def process_into_labels_reviews(filepath):\n",
    "    label = get_label(filepath)\n",
    "    review = get_review(filepath)\n",
    "    return (label, review)\n",
    "\n",
    "\n",
    "\n",
    "def print_labels_reviews(dataset):\n",
    "    log = \"label: {label}\\nreview: {review}\"\n",
    "    for (label, review) in dataset:\n",
    "        print(log.format(label=label, review= review))\n",
    "\n",
    "def print_reviews_dataset(dataset):\n",
    "    log = \"{filepath}\\n{label}\\n{review}\"\n",
    "    for filepath in dataset:        \n",
    "        label= get_label(filepath)\n",
    "        review = get_review(filepath)        \n",
    "        print(log.format(filepath=filepath,label=label, review=review))\n",
    "\n",
    "\n",
    "\n",
    "reviews_file_pattern = \"../../datasets/ex01/reviews/*/*.txt\"\n",
    "ds_text_reviews = tf.data.Dataset.list_files(reviews_file_pattern)\n",
    "ds_labels_reviews = ds_text_reviews.map(process_into_labels_reviews)\n",
    "print_labels_reviews(ds_labels_reviews)\n",
    "\n"
   ]
  },
  {
   "cell_type": "code",
   "execution_count": 132,
   "metadata": {},
   "outputs": [
    {
     "name": "stdout",
     "output_type": "stream",
     "text": [
      "label: b'positive'\n",
      "review: b\"One of the other reviewers has mentioned that after watching just 1 Oz episode you'll be hooked. They are right, as this is exactly what happened with me.<br /><br />The first thing that struck me about Oz was its brutality and unflinching scenes of violence, which set in right from the word GO. Trust me, this is not a show for the faint hearted or timid. This show pulls no punches with regards to drugs, sex or violence. Its is hardcore, in the classic use of the word.<br /><br />It is called OZ as that is the nickname given to the Oswald Maximum Security State Penitentary. It focuses mainly on Emerald City, an experimental section of the prison where all the cells have glass fronts and face inwards, so privacy is not high on the agenda. Em City is home to many..Aryans, Muslims, gangstas, Latinos, Christians, Italians, Irish and more....so scuffles, death stares, dodgy dealings and shady agreements are never far away.<br /><br />I would say the main appeal of the show is due to the fact that it goes where other shows wouldn't dare. Forget pretty pictures painted for mainstream audiences, forget charm, forget romance...OZ doesn't mess around. The first episode I ever saw struck me as so nasty it was surreal, I couldn't say I was ready for it, but as I watched more, I developed a taste for Oz, and got accustomed to the high levels of graphic violence. Not just violence, but injustice (crooked guards who'll be sold out for a nickel, inmates who'll kill on order and get away with it, well mannered, middle class inmates being turned into prison bitches due to their lack of street skills or prison experience) Watching Oz, you may become comfortable with what is uncomfortable viewing....thats if you can get in touch with your darker side.\\n\"\n",
      "label: b'positive'\n",
      "review: b'A wonderful little production. <br /><br />The filming technique is very unassuming- very old-time-BBC fashion and gives a comforting, and sometimes discomforting, sense of realism to the entire piece. <br /><br />The actors are extremely well chosen- Michael Sheen not only \"has got all the polari\" but he has all the voices down pat too! You can truly see the seamless editing guided by the references to Williams\\' diary entries, not only is it well worth the watching but it is a terrificly written and performed piece. A masterful production about one of the great master\\'s of comedy and his life. <br /><br />The realism really comes home with the little things: the fantasy of the guard which, rather than use the traditional \\'dream\\' techniques remains solid then disappears. It plays on our knowledge and our senses, particularly with the scenes concerning Orton and Halliwell and the sets (particularly of their flat with Halliwell\\'s murals decorating every surface) are terribly well done.\\n'\n",
      "label: b'negative'\n",
      "review: b\"Basically there's a family where a little boy (Jake) thinks there's a zombie in his closet & his parents are fighting all the time.<br /><br />This movie is slower than a soap opera... and suddenly, Jake decides to become Rambo and kill the zombie.<br /><br />OK, first of all when you're going to make a film you must Decide if its a thriller or a drama! As a drama the movie is watchable. Parents are divorcing & arguing like in real life. And then we have Jake with his closet which totally ruins all the film! I expected to see a BOOGEYMAN similar movie, and instead i watched a drama with some meaningless thriller spots.<br /><br />3 out of 10 just for the well playing parents & descent dialogs. As for the shots with Jake: just ignore them.\\n\"\n",
      "label: b'negative'\n",
      "review: b\"This show was an amazing, fresh & innovative idea in the 70's when it first aired. The first 7 or 8 years were brilliant, but things dropped off after that. By 1990, the show was not really funny anymore, and it's continued its decline further to the complete waste of time it is today.<br /><br />It's truly disgraceful how far this show has fallen. The writing is painfully bad, the performances are almost as bad - if not for the mildly entertaining respite of the guest-hosts, this show probably wouldn't still be on the air. I find it so hard to believe that the same creator that hand-selected the original cast also chose the band of hacks that followed. How can one recognize such brilliance and then see fit to replace it with such mediocrity? I felt I must give 2 stars out of respect for the original cast that made this show such a huge success. As it is now, the show is just awful. I can't believe it's still on the air.\\n\"\n"
     ]
    }
   ],
   "source": [
    "def remove_empty_reviews(label, review):\n",
    "    return review != ''\n",
    "\n",
    "ds_filtered = ds_labels_reviews.filter(remove_empty_reviews)\n",
    "print_labels_reviews(ds_filtered)"
   ]
  },
  {
   "cell_type": "markdown",
   "metadata": {},
   "source": [
    "# Everything in a single line"
   ]
  },
  {
   "cell_type": "code",
   "execution_count": 139,
   "metadata": {},
   "outputs": [
    {
     "name": "stdout",
     "output_type": "stream",
     "text": [
      "label: b'negative'\n",
      "review: b\"This show was an amazing, fresh & innovative idea in the 70's when it first aired. The first 7 or 8 years were brilliant, but things dropped off after that. By 1990, the show was not really funny anymore, and it's continued its decline further to the complete waste of time it is today.<br /><br />It's truly disgraceful how far this show has fallen. The writing is painfully bad, the performances are almost as bad - if not for the mildly entertaining respite of the guest-hosts, this show probably wouldn't still be on the air. I find it so hard to believe that the same creator that hand-selected the original cast also chose the band of hacks that followed. How can one recognize such brilliance and then see fit to replace it with such mediocrity? I felt I must give 2 stars out of respect for the original cast that made this show such a huge success. As it is now, the show is just awful. I can't believe it's still on the air.\\n\"\n",
      "label: b'positive'\n",
      "review: b'A wonderful little production. <br /><br />The filming technique is very unassuming- very old-time-BBC fashion and gives a comforting, and sometimes discomforting, sense of realism to the entire piece. <br /><br />The actors are extremely well chosen- Michael Sheen not only \"has got all the polari\" but he has all the voices down pat too! You can truly see the seamless editing guided by the references to Williams\\' diary entries, not only is it well worth the watching but it is a terrificly written and performed piece. A masterful production about one of the great master\\'s of comedy and his life. <br /><br />The realism really comes home with the little things: the fantasy of the guard which, rather than use the traditional \\'dream\\' techniques remains solid then disappears. It plays on our knowledge and our senses, particularly with the scenes concerning Orton and Halliwell and the sets (particularly of their flat with Halliwell\\'s murals decorating every surface) are terribly well done.\\n'\n",
      "label: b'positive'\n",
      "review: b\"One of the other reviewers has mentioned that after watching just 1 Oz episode you'll be hooked. They are right, as this is exactly what happened with me.<br /><br />The first thing that struck me about Oz was its brutality and unflinching scenes of violence, which set in right from the word GO. Trust me, this is not a show for the faint hearted or timid. This show pulls no punches with regards to drugs, sex or violence. Its is hardcore, in the classic use of the word.<br /><br />It is called OZ as that is the nickname given to the Oswald Maximum Security State Penitentary. It focuses mainly on Emerald City, an experimental section of the prison where all the cells have glass fronts and face inwards, so privacy is not high on the agenda. Em City is home to many..Aryans, Muslims, gangstas, Latinos, Christians, Italians, Irish and more....so scuffles, death stares, dodgy dealings and shady agreements are never far away.<br /><br />I would say the main appeal of the show is due to the fact that it goes where other shows wouldn't dare. Forget pretty pictures painted for mainstream audiences, forget charm, forget romance...OZ doesn't mess around. The first episode I ever saw struck me as so nasty it was surreal, I couldn't say I was ready for it, but as I watched more, I developed a taste for Oz, and got accustomed to the high levels of graphic violence. Not just violence, but injustice (crooked guards who'll be sold out for a nickel, inmates who'll kill on order and get away with it, well mannered, middle class inmates being turned into prison bitches due to their lack of street skills or prison experience) Watching Oz, you may become comfortable with what is uncomfortable viewing....thats if you can get in touch with your darker side.\\n\"\n",
      "label: b'negative'\n",
      "review: b\"Basically there's a family where a little boy (Jake) thinks there's a zombie in his closet & his parents are fighting all the time.<br /><br />This movie is slower than a soap opera... and suddenly, Jake decides to become Rambo and kill the zombie.<br /><br />OK, first of all when you're going to make a film you must Decide if its a thriller or a drama! As a drama the movie is watchable. Parents are divorcing & arguing like in real life. And then we have Jake with his closet which totally ruins all the film! I expected to see a BOOGEYMAN similar movie, and instead i watched a drama with some meaningless thriller spots.<br /><br />3 out of 10 just for the well playing parents & descent dialogs. As for the shots with Jake: just ignore them.\\n\"\n"
     ]
    }
   ],
   "source": [
    "path = \"../../datasets/ex01/reviews/*/*.txt\"\n",
    "ds_labels_and_reviews = tf.data.Dataset.list_files(path).map(process_into_labels_reviews).filter(remove_empty_reviews)\n",
    "print_labels_reviews(ds_labels_and_reviews)"
   ]
  }
 ],
 "metadata": {
  "interpreter": {
   "hash": "4bd624a0593993fe43ac4046b27b898fb2ef75c21c08f81e89e64ea0f51df676"
  },
  "kernelspec": {
   "display_name": "Python 3.9.7 64-bit ('tensorflow': conda)",
   "language": "python",
   "name": "python3"
  },
  "language_info": {
   "codemirror_mode": {
    "name": "ipython",
    "version": 3
   },
   "file_extension": ".py",
   "mimetype": "text/x-python",
   "name": "python",
   "nbconvert_exporter": "python",
   "pygments_lexer": "ipython3",
   "version": "3.9.7"
  },
  "orig_nbformat": 4
 },
 "nbformat": 4,
 "nbformat_minor": 2
}
