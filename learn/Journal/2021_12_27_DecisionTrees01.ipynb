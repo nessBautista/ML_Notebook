{
 "cells": [
  {
   "cell_type": "markdown",
   "metadata": {},
   "source": [
    "# Exploring Decision Trees\n",
    "\n",
    "## Entropy\n",
    "\n",
    "$Entropy = -\\frac{m}{m+n}log_{2}(\\frac{m}{m+n})-\\frac{m}{m+n}log_{2}(\\frac{n}{m+n})$"
   ]
  },
  {
   "cell_type": "code",
   "execution_count": 4,
   "metadata": {},
   "outputs": [
    {
     "data": {
      "text/plain": [
       "0.863120568566631"
      ]
     },
     "execution_count": 4,
     "metadata": {},
     "output_type": "execute_result"
    }
   ],
   "source": [
    "import numpy as np\n",
    "\n",
    "m = 10\n",
    "n = 4\n",
    "e = - ((m/(m+n))*np.log2(m/(m+n))) - ((n/(m+n))* np.log2(n/(m+n)))\n",
    "e"
   ]
  },
  {
   "cell_type": "code",
   "execution_count": 5,
   "metadata": {},
   "outputs": [
    {
     "data": {
      "text/plain": [
       "1.3346791410515946"
      ]
     },
     "execution_count": 5,
     "metadata": {},
     "output_type": "execute_result"
    }
   ],
   "source": [
    "#a bucket with eight red balls, three blue balls, and two yellow balls\n",
    "r = 8\n",
    "b = 3\n",
    "y = 2\n",
    "total = r + b + y \n",
    "p1 = r/total\n",
    "p2 = b/total\n",
    "p3 = y/total\n",
    "e = -(p1*np.log2(p1))-(p2*np.log2(p2))-(p3*np.log2(p3))\n",
    "e"
   ]
  },
  {
   "cell_type": "code",
   "execution_count": 34,
   "metadata": {},
   "outputs": [],
   "source": [
    "def getValue(option):\n",
    "    return option[1]\n",
    "\n",
    "def entropy(options):\n",
    "    total = sum(list(map(getValue, options)))\n",
    "    entropy = 0\n",
    "    for option in options:\n",
    "        p = option[1]/total\n",
    "        entropy = entropy - (p*np.log2(p))\n",
    "        \n",
    "    return entropy\n"
   ]
  },
  {
   "cell_type": "code",
   "execution_count": 12,
   "metadata": {},
   "outputs": [
    {
     "data": {
      "text/plain": [
       "2.0"
      ]
     },
     "execution_count": 12,
     "metadata": {},
     "output_type": "execute_result"
    }
   ],
   "source": [
    "#verify the maximum entropy is 2 if there are four different\n",
    "# possibilities, each with probability 0.25.\n",
    "options2 = [(\"red\",2), (\"blue\",2), (\"orange\",2),(\"yellow\",2)]\n",
    "entropy(options2)"
   ]
  },
  {
   "cell_type": "code",
   "execution_count": 13,
   "metadata": {},
   "outputs": [
    {
     "data": {
      "text/plain": [
       "1.459"
      ]
     },
     "execution_count": 13,
     "metadata": {},
     "output_type": "execute_result"
    }
   ],
   "source": [
    "options3 = [(\"pokemon\",3), (\"whatsapp\",2),(\"snapchat\",1)]\n",
    "entropy(options3)"
   ]
  },
  {
   "cell_type": "code",
   "execution_count": 14,
   "metadata": {},
   "outputs": [
    {
     "data": {
      "text/plain": [
       "<bound method NDFrame.head of    Species  Color  Length (mm)\n",
       "0    Mobug  Brown         11.6\n",
       "1    Mobug   Blue         16.3\n",
       "2    Lobug   Blue         15.1\n",
       "3    Lobug  Green         23.7\n",
       "4    Lobug   Blue         18.4\n",
       "5    Lobug  Brown         17.1\n",
       "6    Mobug  Brown         15.7\n",
       "7    Lobug  Green         18.6\n",
       "8    Lobug   Blue         22.9\n",
       "9    Lobug   Blue         21.0\n",
       "10   Lobug   Blue         20.5\n",
       "11   Mobug  Green         21.2\n",
       "12   Mobug  Brown         13.8\n",
       "13   Lobug   Blue         14.5\n",
       "14   Lobug  Green         24.8\n",
       "15   Mobug  Brown         18.2\n",
       "16   Lobug  Green         17.9\n",
       "17   Lobug  Green         22.7\n",
       "18   Mobug  Green         19.9\n",
       "19   Mobug   Blue         14.6\n",
       "20   Mobug   Blue         19.2\n",
       "21   Lobug  Brown         14.1\n",
       "22   Lobug  Green         18.8\n",
       "23   Mobug   Blue         13.1>"
      ]
     },
     "execution_count": 14,
     "metadata": {},
     "output_type": "execute_result"
    }
   ],
   "source": [
    "import pandas as pd\n",
    "df = pd.read_csv('../../datasets/Udacity/ml-bugs.csv')\n",
    "df.head"
   ]
  },
  {
   "cell_type": "code",
   "execution_count": 68,
   "metadata": {},
   "outputs": [
    {
     "name": "stdout",
     "output_type": "stream",
     "text": [
      "Mobugs:10, Lobugs:14\n",
      "parent_entropy= 0.9798687566511528, total_species:24\n",
      "Mobugs:6, Lobugs:3\n",
      "Mobugs:4, Lobugs:11\n",
      "e_17=0.9182958340544896, e_great_17=0.8366407419411672\n"
     ]
    },
    {
     "data": {
      "text/plain": [
       "0.11260735516748976"
      ]
     },
     "execution_count": 68,
     "metadata": {},
     "output_type": "execute_result"
    }
   ],
   "source": [
    "def getTotal(data):\n",
    "    return data['Species'].count()\n",
    "\n",
    "def get_group_entropy(data):\n",
    "    species_counts = data['Species'].value_counts()\n",
    "    mobugs = species_counts['Mobug']\n",
    "    lobugs = species_counts['Lobug']\n",
    "    print(f'Mobugs:{mobugs}, Lobugs:{lobugs}')\n",
    "    options = [('Lobug',lobugs), ('Mobug',mobugs)]    \n",
    "    node_entropy = entropy(options)    \n",
    "    return node_entropy\n",
    "\n",
    "#Parent Entropy: Total grouped by Species\n",
    "species_counts = df['Species'].value_counts()\n",
    "total_species = getTotal(df)\n",
    "parent_entropy = get_group_entropy(df)\n",
    "print(f'parent_entropy= {parent_entropy}, total_species:{total_species}')\n",
    "\n",
    "#by length < 17\n",
    "df_less_than_17 = df[(df['Length (mm)']<17.0)] \n",
    "total_less_than_17 = getTotal(df_less_than_17)\n",
    "e_17 = get_group_entropy(df_less_than_17)\n",
    "\n",
    "df_greater_than_17 = df[(df['Length (mm)']>=17.0)] \n",
    "total_great_than_17 = getTotal(df_greater_than_17)\n",
    "e_great_17 = get_group_entropy(df_greater_than_17)\n",
    "\n",
    "print(f'e_17={e_17}, e_great_17={e_great_17}')\n",
    "\n",
    "info_gain = parent_entropy - ((total_less_than_17/total_species * e_17) + (total_great_than_17/total_species * e_great_17))\n",
    "info_gain\n"
   ]
  },
  {
   "cell_type": "code",
   "execution_count": 61,
   "metadata": {},
   "outputs": [
    {
     "name": "stdout",
     "output_type": "stream",
     "text": [
      "0.9798687566511528\n",
      "0.9182958340544896\n",
      "0.8366407419411672\n"
     ]
    }
   ],
   "source": [
    "def two_group_ent(first, tot):                        \n",
    "    return -(first/tot*np.log2(first/tot) +           \n",
    "             (tot-first)/tot*np.log2((tot-first)/tot))\n",
    "\n",
    "tot_ent = two_group_ent(10, 24)                      \n",
    "print(tot_ent)\n",
    "print(two_group_ent(6,9))\n",
    "print(two_group_ent(11,15))"
   ]
  },
  {
   "cell_type": "code",
   "execution_count": 53,
   "metadata": {},
   "outputs": [
    {
     "name": "stdout",
     "output_type": "stream",
     "text": [
      "0.9182958340544896\n",
      "0.8366407419411672\n"
     ]
    }
   ],
   "source": [
    "\n",
    "\n"
   ]
  },
  {
   "cell_type": "code",
   "execution_count": 88,
   "metadata": {},
   "outputs": [
    {
     "name": "stdout",
     "output_type": "stream",
     "text": [
      "Blue     10\n",
      "Green     8\n",
      "Brown     6\n",
      "Name: Color, dtype: int64\n"
     ]
    },
    {
     "data": {
      "text/plain": [
       "1.5545851693377994"
      ]
     },
     "execution_count": 88,
     "metadata": {},
     "output_type": "execute_result"
    }
   ],
   "source": []
  },
  {
   "cell_type": "code",
   "execution_count": 102,
   "metadata": {},
   "outputs": [
    {
     "name": "stdout",
     "output_type": "stream",
     "text": [
      "entropy_species=0.9798687566511528, colors_entropy=1.5545851693377994, length_entropy=4.584962500721156\n"
     ]
    }
   ],
   "source": []
  }
 ],
 "metadata": {
  "interpreter": {
   "hash": "4bd624a0593993fe43ac4046b27b898fb2ef75c21c08f81e89e64ea0f51df676"
  },
  "kernelspec": {
   "display_name": "Python 3.9.7 64-bit ('tensorflow': conda)",
   "language": "python",
   "name": "python3"
  },
  "language_info": {
   "codemirror_mode": {
    "name": "ipython",
    "version": 3
   },
   "file_extension": ".py",
   "mimetype": "text/x-python",
   "name": "python",
   "nbconvert_exporter": "python",
   "pygments_lexer": "ipython3",
   "version": "3.9.7"
  },
  "orig_nbformat": 4
 },
 "nbformat": 4,
 "nbformat_minor": 2
}
