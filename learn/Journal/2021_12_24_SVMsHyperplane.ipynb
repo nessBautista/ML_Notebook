{
 "cells": [
  {
   "cell_type": "markdown",
   "metadata": {},
   "source": [
    "# Revisiting the line equation\n",
    "\n",
    "Specifically we want to analyze how the value $k$ will affect the position of the line.\n",
    "\n",
    "We are studying the Support Vector Machine version known as Maximal Margin Classifier,which uses the **hyperplane **\n",
    "\n",
    "$\\beta_{0} + \\beta_{1}x_{1} + \\beta_{2}x_{2} = 0$\n",
    "which can be rewrited as:\n",
    "$\\beta_{1}x_{1} + \\beta_{2}x_{2} = - \\beta_{0} $\n",
    "\n",
    "$\\begin{bmatrix}x_{1}\\\\x_{2}\\end{bmatrix}\\begin{bmatrix} \\beta_{1} \\\\ \\beta_{2}\\end{bmatrix}  = - \\beta_{0} $\n",
    "\n",
    "Where $x_{1}, x_{2}$ are the coordinates of a direction vector and the $\\beta_{1},\\beta_{2}$ is an orthogonal vector. We are interpreting the equation as the dot product of these vectors\n"
   ]
  },
  {
   "cell_type": "code",
   "execution_count": 14,
   "metadata": {},
   "outputs": [
    {
     "name": "stdout",
     "output_type": "stream",
     "text": [
      "The direction vector\n"
     ]
    },
    {
     "data": {
      "text/latex": [
       "$\\displaystyle \\left[\\begin{matrix}-1 & 1\\end{matrix}\\right]$"
      ],
      "text/plain": [
       "<IPython.core.display.Math object>"
      ]
     },
     "metadata": {},
     "output_type": "display_data"
    },
    {
     "name": "stdout",
     "output_type": "stream",
     "text": [
      "Its orthogonal vector\n"
     ]
    },
    {
     "data": {
      "text/latex": [
       "$\\displaystyle \\left[\\begin{matrix}1 & 1\\end{matrix}\\right]$"
      ],
      "text/plain": [
       "<IPython.core.display.Math object>"
      ]
     },
     "metadata": {},
     "output_type": "display_data"
    }
   ],
   "source": [
    "import numpy as np\n",
    "import matplotlib.pyplot as plt\n",
    "%matplotlib inline\n",
    "import sympy as sym\n",
    "from IPython.display import display, Math\n",
    "import ipywidgets as widgets\n",
    "\n",
    "\n",
    "direction_vector = np.array([-1,1])\n",
    "orthogonal_vector = np.array([1,1])\n",
    "\n",
    "print(\"The direction vector\")\n",
    "display(Math(sym.latex(sym.sympify(direction_vector))))\n",
    "print(\"Its orthogonal vector\")\n",
    "display(Math(sym.latex(sym.sympify(orthogonal_vector))))\n"
   ]
  },
  {
   "cell_type": "markdown",
   "metadata": {},
   "source": [
    "We can plug the values:\n",
    "\n",
    "$$\n",
    "\\beta_{0} = 0 \\\\\n",
    "\\beta_{1} = 1 \\\\\n",
    "\\beta_{2} = 1 \\\\\n",
    "$$\n",
    "We can transform to our classic form\n",
    "from:\n",
    "\n",
    "$\\beta_{0} + \\beta_{1}x_{1} + \\beta_{2}x_{2} = 0$\n",
    "\n",
    "to $y = mx + b $:\n",
    "\n",
    "$\\frac{\\beta_{0}}{\\beta_{2}} + \\frac{\\beta_{1}x_{1}}{\\beta_{2}}  = - x_{2}\\\\$\n",
    "$-\\frac{\\beta_{0}}{\\beta_{2}} - \\frac{\\beta_{1}x_{1}}{\\beta_{2}}  = x_{2}$\n",
    "\n",
    "where:\n",
    "\n",
    "$m = -\\frac{\\beta_{1}}{\\beta_{2}} \\\\ b = -\\frac{\\beta_{0}}{\\beta_{2}}$\n"
   ]
  },
  {
   "cell_type": "code",
   "execution_count": 24,
   "metadata": {},
   "outputs": [
    {
     "data": {
      "application/vnd.jupyter.widget-view+json": {
       "model_id": "fd9e523fe68940b6b69a2380701bbe68",
       "version_major": 2,
       "version_minor": 0
      },
      "text/plain": [
       "interactive(children=(IntSlider(value=0, description='b0', max=10, min=-10), Output()), _dom_classes=('widget-…"
      ]
     },
     "metadata": {},
     "output_type": "display_data"
    }
   ],
   "source": [
    "def plot_line_and_vectors(b0):\n",
    "    b1= 1.\n",
    "    b2 = 1.\n",
    "    m = -(b1/b2)\n",
    "    b = -(b0/b2)\n",
    "\n",
    "    x = np.arange(-10,10,1)\n",
    "    # y = mx + b\n",
    "    y = m*x+b\n",
    "    \n",
    "    #plot\n",
    "    fig_1 = plt.figure(figsize=(5,4))\n",
    "    axes_1 = fig_1.add_axes([1, 1, 1, 1])\n",
    "    axes_1.grid(b=True, which='major') #<-- plot grid lines\n",
    "    axes_1.plot(0,0,'ok') #<-- plot a black point at the origin\n",
    "    axes_1.axis('equal')  #<-- set the axes to the same scale\n",
    "    axes_1.set_xlim(-5, 5)    #<-- set the x axis limits\n",
    "    axes_1.set_ylim(-6, 6)    #<-- set the y axis limits\n",
    "    axes_1.quiver(0,0,direction_vector[0],direction_vector[1],\n",
    "              color='blue', angles='xy', scale_units='xy', scale=1)  \n",
    "    axes_1.quiver(0,0,orthogonal_vector[0], orthogonal_vector[1],\n",
    "              color='red',angles='xy', scale_units='xy', scale=1)  \n",
    "    axes_1.plot(x, y)\n",
    "\n",
    "\n",
    "b0_widget = widgets.IntSlider(min=-10, max=10, value=0, description='b0')\n",
    "widgets.interactive(plot_line_and_vectors, b0=b0_widget)\n",
    "\n"
   ]
  },
  {
   "cell_type": "markdown",
   "metadata": {},
   "source": []
  }
 ],
 "metadata": {
  "interpreter": {
   "hash": "4bd624a0593993fe43ac4046b27b898fb2ef75c21c08f81e89e64ea0f51df676"
  },
  "kernelspec": {
   "display_name": "Python 3.9.7 64-bit ('tensorflow': conda)",
   "language": "python",
   "name": "python3"
  },
  "language_info": {
   "codemirror_mode": {
    "name": "ipython",
    "version": 3
   },
   "file_extension": ".py",
   "mimetype": "text/x-python",
   "name": "python",
   "nbconvert_exporter": "python",
   "pygments_lexer": "ipython3",
   "version": "3.9.7"
  },
  "orig_nbformat": 4
 },
 "nbformat": 4,
 "nbformat_minor": 2
}
