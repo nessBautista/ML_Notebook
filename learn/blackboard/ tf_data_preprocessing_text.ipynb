{
 "cells": [
  {
   "cell_type": "markdown",
   "metadata": {},
   "source": [
    "# TextLineDataset\n",
    "Using TextLineDataset for loading custom text datasets."
   ]
  },
  {
   "cell_type": "code",
   "execution_count": 4,
   "metadata": {},
   "outputs": [],
   "source": [
    "import tensorflow as tf\n",
    "import pandas as pd\n",
    "import tensorflow_datasets as tfds\n",
    "from tensorflow import keras \n",
    "from tensorflow.keras import layers \n",
    "import pickle\n"
   ]
  },
  {
   "cell_type": "code",
   "execution_count": 8,
   "metadata": {},
   "outputs": [],
   "source": [
    "# Lets load and create our test and train datasets\n",
    "ds_train = tf.data.TextLineDataset(\"../../datasets/movies/imdb.csv\")\n",
    "ds_test = tf.data.TextLineDataset(\"../../datasets/movies/imdb.csv\") "
   ]
  },
  {
   "cell_type": "code",
   "execution_count": 21,
   "metadata": {},
   "outputs": [
    {
     "name": "stdout",
     "output_type": "stream",
     "text": [
      "tf.Tensor(\n",
      "[b'25001' b'train' b'neg' b'10000_4.txt'\n",
      " b'\"Airport \\'77 starts as a brand new luxury 747 plane is loaded up with valuable paintings & such belonging to rich businessman Philip Stevens (James Stewart) who is flying them & a bunch of VIP\\'s to his estate in preparation of it being opened to the public as a museum, also on board is Stevens daughter Julie (Kathleen Quinlan) & her son. The luxury jetliner takes off as planned but mid-air the plane is hi-jacked by the co-pilot Chambers (Robert Foxworth) & his two accomplice\\'s Banker (Monte Markham) & Wilson (Michael Pataki) who knock the passengers & crew out with sleeping gas, they plan to steal the valuable cargo & land on a disused plane strip on an isolated island but while making his descent Chambers almost hits an oil rig in the Ocean & loses control of the plane sending it crashing into the sea where it sinks to the bottom right bang in the middle of the Bermuda Triangle. With air in short supply, water leaking in & having flown over 200 miles off course the problems mount for the survivor\\'s as they await help with time fast running out...<br /><br />Also known under the slightly different tile Airport 1977 this second sequel to the smash-hit disaster thriller Airport (1970) was directed by Jerry Jameson & while once again like it\\'s predecessors I can\\'t say Airport \\'77 is any sort of forgotten classic it is entertaining although not necessarily for the right reasons. Out of the three Airport films I have seen so far I actually liked this one the best, just. It has my favourite plot of the three with a nice mid-air hi-jacking & then the crashing (didn\\'t he see the oil rig?) & sinking of the 747 (maybe the makers were trying to cross the original Airport with another popular disaster flick of the period The Poseidon Adventure (1972)) & submerged is where it stays until the end with a stark dilemma facing those trapped inside, either suffocate when the air runs out or drown as the 747 floods or if any of the doors are opened & it\\'s a decent idea that could have made for a great little disaster flick but bad unsympathetic character\\'s, dull dialogue, lethargic set-pieces & a real lack of danger or suspense or tension means this is a missed opportunity. While the rather sluggish plot keeps one entertained for 108 odd minutes not that much happens after the plane sinks & there\\'s not as much urgency as I thought there should have been. Even when the Navy become involved things don\\'t pick up that much with a few shots of huge ships & helicopters flying about but there\\'s just something lacking here. George Kennedy as the jinxed airline worker Joe Patroni is back but only gets a couple of scenes & barely even says anything preferring to just look worried in the background.<br /><br />The home video & theatrical version of Airport \\'77 run 108 minutes while the US TV versions add an extra hour of footage including a new opening credits sequence, many more scenes with George Kennedy as Patroni, flashbacks to flesh out character\\'s, longer rescue scenes & the discovery or another couple of dead bodies including the navigator. While I would like to see this extra footage I am not sure I could sit through a near three hour cut of Airport \\'77. As expected the film has dated badly with horrible fashions & interior design choices, I will say no more other than the toy plane model effects aren\\'t great either. Along with the other two Airport sequels this takes pride of place in the Razzie Award\\'s Hall of Shame although I can think of lots of worse films than this so I reckon that\\'s a little harsh. The action scenes are a little dull unfortunately, the pace is slow & not much excitement or tension is generated which is a shame as I reckon this could have been a pretty good film if made properly.<br /><br />The production values are alright if nothing spectacular. The acting isn\\'t great, two time Oscar winner Jack Lemmon has said since it was a mistake to star in this, one time Oscar winner James Stewart looks old & frail, also one time Oscar winner Lee Grant looks drunk while Sir Christopher Lee is given little to do & there are plenty of other familiar faces to look out for too.<br /><br />Airport \\'77 is the most disaster orientated of the three Airport films so far & I liked the ideas behind it even if they were a bit silly, the production & bland direction doesn\\'t help though & a film about a sunken plane just shouldn\\'t be this boring or lethargic. Followed by The Concorde ... Airport \\'79 (1979).\"'], shape=(5,), dtype=string)\n"
     ]
    }
   ],
   "source": [
    "# lets analyze the contents\n",
    "def describe_text_dataset(dataset,lines):\n",
    "    for line in dataset.skip(1).take(lines):    \n",
    "        print(tf.strings.split(line, \",\",maxsplit=4))\n",
    "\n",
    "describe_text_dataset(ds_train, 1)\n"
   ]
  },
  {
   "cell_type": "code",
   "execution_count": 24,
   "metadata": {},
   "outputs": [
    {
     "name": "stdout",
     "output_type": "stream",
     "text": [
      "tf.Tensor(\n",
      "[b'1' b'test' b'neg' b'10000_4.txt'\n",
      " b'\"This is an example of why the majority of action films are the same. Generic and boring, there\\'s really nothing worth watching here. A complete waste of the then barely-tapped talents of Ice-T and Ice Cube, who\\'ve each proven many times over that they are capable of acting, and acting well. Don\\'t bother with this one, go see New Jack City, Ricochet or watch New York Undercover for Ice-T, or Boyz n the Hood, Higher Learning or Friday for Ice Cube and see the real deal. Ice-T\\'s horribly cliched dialogue alone makes this film grate at the teeth, and I\\'m still wondering what the heck Bill Paxton was doing in this film? And why the heck does he always play the exact same character? From Aliens onward, every film I\\'ve seen with Bill Paxton has him playing the exact same irritating character, and at least in Aliens his character died, which made it somewhat gratifying...<br /><br />Overall, this is second-rate action trash. There are countless better films to see, and if you really want to see this one, watch Judgement Night, which is practically a carbon copy but has better acting and a better script. The only thing that made this at all worth watching was a decent hand on the camera - the cinematography was almost refreshing, which comes close to making up for the horrible film itself - but not quite. 4/10.\"'], shape=(5,), dtype=string)\n"
     ]
    }
   ],
   "source": [
    "def filter_text(line, type='test'):\n",
    "    split_line = tf.strings.split(line, \",\", maxsplit=4)\n",
    "    dataset_belonging = split_line[1] # train or test\n",
    "    sentiment_category = split_line[2] # pos, neg, unsup\n",
    "\n",
    "    return (\n",
    "        True\n",
    "        if dataset_belonging == type and sentiment_category != 'unsup'\n",
    "        else False\n",
    "    )\n",
    "\n",
    "# Filter the train and test data\n",
    "FILEPATH = \"../../datasets/movies/imdb.csv\"\n",
    "ds_train =  tf.data.TextLineDataset(FILEPATH).filter(lambda line: filter_text(line, 'train'))\n",
    "ds_test =  tf.data.TextLineDataset(FILEPATH).filter(lambda line: filter_text(line, 'test'))\n",
    "# Check that the filter works\n",
    "describe_text_dataset(ds_test, 1)"
   ]
  },
  {
   "cell_type": "markdown",
   "metadata": {},
   "source": [
    "1. Create Vocabulary\n",
    "2. Numericalize text str -> indices(TokenTextEncoder)\n",
    "3. Pad the batches so we can send as input of a RNN\n"
   ]
  },
  {
   "cell_type": "code",
   "execution_count": 29,
   "metadata": {},
   "outputs": [
    {
     "ename": "AttributeError",
     "evalue": "module 'tensorflow_datasets.core.features' has no attribute 'text'",
     "output_type": "error",
     "traceback": [
      "\u001b[0;31m---------------------------------------------------------------------------\u001b[0m",
      "\u001b[0;31mAttributeError\u001b[0m                            Traceback (most recent call last)",
      "\u001b[0;32m/var/folders/q1/g_dvb8cs1_3bs0f6sydvmwz80000gn/T/ipykernel_1900/2747127271.py\u001b[0m in \u001b[0;36m<module>\u001b[0;34m\u001b[0m\n\u001b[0;32m----> 1\u001b[0;31m \u001b[0mtokenizer\u001b[0m \u001b[0;34m=\u001b[0m \u001b[0mtfds\u001b[0m\u001b[0;34m.\u001b[0m\u001b[0mfeatures\u001b[0m\u001b[0;34m.\u001b[0m\u001b[0mtext\u001b[0m\u001b[0;34m.\u001b[0m\u001b[0mTokenizer\u001b[0m\u001b[0;34m(\u001b[0m\u001b[0;34m)\u001b[0m\u001b[0;34m\u001b[0m\u001b[0;34m\u001b[0m\u001b[0m\n\u001b[0m\u001b[1;32m      2\u001b[0m \u001b[0;31m# \"Tokenize my string\" -> ['Tokenize', 'my', 'string'] -> [0,1,2]\u001b[0m\u001b[0;34m\u001b[0m\u001b[0;34m\u001b[0m\u001b[0m\n\u001b[1;32m      3\u001b[0m \u001b[0;34m\u001b[0m\u001b[0m\n\u001b[1;32m      4\u001b[0m \u001b[0;32mdef\u001b[0m \u001b[0mbuild_vocabulary\u001b[0m\u001b[0;34m(\u001b[0m\u001b[0mdataset\u001b[0m\u001b[0;34m,\u001b[0m \u001b[0mthreshold\u001b[0m\u001b[0;34m=\u001b[0m\u001b[0;36m200\u001b[0m\u001b[0;34m)\u001b[0m\u001b[0;34m:\u001b[0m\u001b[0;34m\u001b[0m\u001b[0;34m\u001b[0m\u001b[0m\n\u001b[1;32m      5\u001b[0m     \u001b[0;34m\"\"\"Build a vocabulary\"\"\"\u001b[0m\u001b[0;34m\u001b[0m\u001b[0;34m\u001b[0m\u001b[0m\n",
      "\u001b[0;31mAttributeError\u001b[0m: module 'tensorflow_datasets.core.features' has no attribute 'text'"
     ]
    }
   ],
   "source": [
    "tokenizer = tfds.features.text.Tokenizer()\n",
    "# \"Tokenize my string\" -> ['Tokenize', 'my', 'string'] -> [0,1,2]\n",
    "\n",
    "def build_vocabulary(dataset, threshold=200):\n",
    "    \"\"\"Build a vocabulary\"\"\"\n",
    "    frequencies = {}\n",
    "    vocabulary=set()\n",
    "    vocabulary.update([\"sostoken\"])\n",
    "    vocabulary.update([\"eostoken\"])\n",
    "\n",
    "    for line in dataset.skip(1):\n",
    "        split_line = tf.strings.split(line, \",\", maxsplit=4)\n",
    "        review = split_line[4]\n",
    "        tokenized_text = tokenizer.tokenize(review.numpy().lower())\n",
    "\n",
    "        for word in tokenized_text:\n",
    "            if word not in frequencies:\n",
    "                frequencies[word] += 1\n",
    "            else:\n",
    "                frequencies[word] += 1\n",
    "            #if we've reached the threshold\n",
    "            if frequencies[word] == threshold:\n",
    "                vocabulary.update(tokenized_text)\n",
    "    return vocabulary\n",
    "\n",
    "# Build vocabulary and save it to vocabulary.obj\n",
    "vocabulary = build_vocabulary(ds_train)\n",
    "vocab_file = open('vocabulary.obj', 'wb') #wb=write byte\n",
    "pickle.dump(vocabulary, vocab_file)\n",
    "\n",
    "# loading the vocabulary object\n",
    "#vocab_file = open(\"vocabulary.obj\", \"rb\")\n",
    "#vocabulary = picke.load(vocab_file)\n",
    "#tfds.features.Text.encoder()  \n",
    "encoder = tfds.deprecated.text.TokenTextEncoder(\n",
    "    list(vocabulary), oov_token=\"<UNK>\", lowercase=True, tokenizer = tokenizer,\n",
    ")\n",
    "\n",
    "def my_encoder(text_tensor, label):\n",
    "    encoded_text = encoder.encode(text_tensor.numpy())\n",
    "    return encoded_text, label \n",
    "\n",
    "def encode_map_fn(line):\n",
    "    split_line = tf.strings.split(line, \",\", maxsplit=4)\n",
    "    label_str = split_line[2] #neg, pos\n",
    "    review = \"sostoken \" + split_line[4] + \" eostoken\"\n",
    "    label = 1 if label_str == \"pos\" else 0\n",
    "\n",
    "    (encoded_text, label) = tf.py_function(\n",
    "        my_encoder, inp=[review, label], Tout=(tf.int64, tf.int32)\n",
    "    )\n",
    "    encoded_text.set_shape([None])\n",
    "    label.set_shape([])\n",
    "    return encoded_text, label\n",
    "\n",
    "AUTOTUNE = tf.data.experimental.AUTOTUNE\n",
    "ds_train  = ds_train.map(encode_map_fn, num_parallel_calls=AUTOTUNE).cache()\n",
    "ds_train = ds_train.shuffle(25000)\n",
    "ds_train =  ds_train.padded_batch(32, padded_shapes=([None],()))\n",
    "\n",
    "ds_test = ds_test.map(encode_map_fn)\n",
    "ds_test = ds_test.padded_batch(32, padded_shapes=([None],()))\n",
    "\n",
    "\n",
    "# create model\n",
    "model = keras.Sequential(\n",
    "    [\n",
    "        layers.Masking(mask_value=0),\n",
    "        layers.Embedding(input_dim=len(vocabulary)+2, output_dim=32),\n",
    "        layers.GlobalAveragePooling1D(),\n",
    "        layers.Dense(64, activation='relu'),\n",
    "        layers.Dense(1),\n",
    "\n",
    "    ]\n",
    ")\n",
    "\n",
    "model.compile(\n",
    "    loss = keras.losses.BinaryCrossentropy(from_logits=True),\n",
    "    optimizer= keras.optimizers.Adam(3e-4, clipnorm=1),   \n",
    "    metrics=[\"accuracy\"],\n",
    ")\n",
    "\n",
    "model.fit(ds_train, epochs=15, verbose=2 )\n",
    "model.evaluate()\n"
   ]
  }
 ],
 "metadata": {
  "interpreter": {
   "hash": "4bd624a0593993fe43ac4046b27b898fb2ef75c21c08f81e89e64ea0f51df676"
  },
  "kernelspec": {
   "display_name": "Python 3.9.7 64-bit ('tensorflow': conda)",
   "language": "python",
   "name": "python3"
  },
  "language_info": {
   "codemirror_mode": {
    "name": "ipython",
    "version": 3
   },
   "file_extension": ".py",
   "mimetype": "text/x-python",
   "name": "python",
   "nbconvert_exporter": "python",
   "pygments_lexer": "ipython3",
   "version": "3.9.7"
  },
  "orig_nbformat": 4
 },
 "nbformat": 4,
 "nbformat_minor": 2
}
