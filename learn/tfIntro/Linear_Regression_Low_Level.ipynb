{
 "cells": [
  {
   "cell_type": "code",
   "execution_count": 17,
   "id": "abd7fc76",
   "metadata": {},
   "outputs": [
    {
     "data": {
      "text/plain": [
       "[<matplotlib.lines.Line2D at 0x17b4c1640>]"
      ]
     },
     "execution_count": 17,
     "metadata": {},
     "output_type": "execute_result"
    },
    {
     "data": {
      "image/png": "[encoded data removed]",
      "text/plain": [
       "<Figure size 432x288 with 1 Axes>"
      ]
     },
     "metadata": {
      "needs_background": "light"
     },
     "output_type": "display_data"
    }
   ],
   "source": [
    "import tensorflow as tf\n",
    "import numpy as np\n",
    "import matplotlib.pyplot as plt\n",
    "\n",
    "# Create some data representing a line equation\n",
    "m = 2\n",
    "b = 4\n",
    "X = tf.constant(range(10), dtype=tf.float32)\n",
    "Y = tf.constant(m*X + b)\n",
    "plt.plot(X.numpy(), Y.numpy())\n",
    "# Now create some test data\n",
    "X_test = tf.constant(range(10,20), dtype=tf.float32)\n",
    "Y_test = tf.constant(m*X_test+b)\n",
    "plt.plot(X_test.numpy(), Y_test.numpy())\n"
   ]
  },
  {
   "cell_type": "code",
   "execution_count": null,
   "id": "ffaffc2b",
   "metadata": {},
   "outputs": [],
   "source": []
  },
  {
   "cell_type": "markdown",
   "id": "b8fb8ada",
   "metadata": {},
   "source": [
    "# The loss function\n",
    "1. Create a test prediction model to compare with.\n",
    "2. Define the Error function to be train against"
   ]
  },
  {
   "cell_type": "code",
   "execution_count": null,
   "id": "7bbe1792",
   "metadata": {},
   "outputs": [],
   "source": [
    "# Define a model to compare with: We will use the mean\n",
    "Y_mean = Y.numpy().mean()\n",
    "def prediction_mean(X):\n",
    "    y_hat = Y_mean * len(X)\n",
    "    return y_hat"
   ]
  },
  {
   "cell_type": "markdown",
   "id": "ac782642",
   "metadata": {},
   "source": [
    "We will use the MSE as error function\n",
    "$\\frac{1}{m}\\sum(\\bar{Y_{i}}-Y_{i})^{2}$\n",
    "\n",
    "where $\\bar{Y} =  w_{0}x + w_{1}$"
   ]
  },
  {
   "cell_type": "code",
   "execution_count": 13,
   "id": "94c29519",
   "metadata": {},
   "outputs": [],
   "source": [
    "def loss_mse(X,Y, w0,w1):\n",
    "    Y_hat = w0 * X + w1 \n",
    "    square_error = (Y_hat - Y)**2\n",
    "    loss = tf.reduce_mean(square_error)\n",
    "    return loss"
   ]
  },
  {
   "cell_type": "markdown",
   "id": "0a63a7d6",
   "metadata": {},
   "source": [
    "# Gradient calculation"
   ]
  },
  {
   "cell_type": "code",
   "execution_count": 14,
   "id": "06f52853",
   "metadata": {},
   "outputs": [],
   "source": [
    "def compute_gradient(X, Y, w0, w1):\n",
    "    with tf.GradientTape() as tape:\n",
    "        loss = loss_mse(X,Y, w0, w1)\n",
    "    return tape.gradient(loss,[w0,w1])"
   ]
  },
  {
   "cell_type": "markdown",
   "id": "b148573e",
   "metadata": {},
   "source": [
    "# Training loop"
   ]
  },
  {
   "cell_type": "code",
   "execution_count": 18,
   "id": "64ad3af9",
   "metadata": {},
   "outputs": [
    {
     "name": "stdout",
     "output_type": "stream",
     "text": [
      "STEP 0 - loss: 9.290387153625488, w0: 2.999999523162842, w1: 0.5199999213218689\n",
      "\n",
      "STEP 100 - loss: 0.37615299224853516, w0: 2.181767463684082, w1: 2.86021089553833\n",
      "\n",
      "STEP 200 - loss: 0.03879265859723091, w0: 2.0583724975585938, w1: 3.633969783782959\n",
      "\n",
      "STEP 300 - loss: 0.004000724758952856, w0: 2.0187456607818604, w1: 3.882453203201294\n",
      "\n",
      "STEP 400 - loss: 0.0004125874547753483, w0: 2.0060198307037354, w1: 3.9622514247894287\n",
      "\n",
      "STEP 500 - loss: 4.255077146808617e-05, w0: 2.0019330978393555, w1: 3.987877368927002\n",
      "\n",
      "STEP 600 - loss: 4.388386059872573e-06, w0: 2.0006208419799805, w1: 3.9961068630218506\n",
      "\n",
      "STEP 700 - loss: 4.5260603087626805e-07, w0: 2.000199317932129, w1: 3.9987499713897705\n",
      "\n",
      "STEP 800 - loss: 4.66923744113501e-08, w0: 2.0000641345977783, w1: 3.999598741531372\n",
      "\n",
      "STEP 900 - loss: 4.8035495581189025e-09, w0: 2.0000205039978027, w1: 3.999871015548706\n",
      "\n",
      "STEP 1000 - loss: 5.125004309824988e-10, w0: 2.000006675720215, w1: 3.999958038330078\n",
      "\n"
     ]
    }
   ],
   "source": [
    "# define parameters of training\n",
    "TRAINING_RATE = 0.02\n",
    "STEPS = 1000\n",
    "MSG = \"STEP {step} - loss: {loss}, w0: {w0}, w1: {w1}\\n\"\n",
    "#Initial weight values\n",
    "w0 = tf.Variable(0.0)\n",
    "w1 = tf.Variable(0.0)\n",
    "\n",
    "for step in range(0, STEPS + 1):\n",
    "    #Perform update of weights  \n",
    "    dw0, dw1 = compute_gradient(X,Y, w0, w1)    \n",
    "    w0.assign_sub(TRAINING_RATE * dw0)\n",
    "    w1.assign_sub(TRAINING_RATE * dw1)\n",
    "\n",
    "    #Log loss every 100 steps\n",
    "    if step % 100 == 0:\n",
    "        loss = loss_mse(X, Y, w0, w1)\n",
    "        print(MSG.format(step=step, loss=loss, w0=w0.numpy(), w1=w1.numpy()))\n",
    "\n"
   ]
  },
  {
   "cell_type": "markdown",
   "id": "19559c90",
   "metadata": {},
   "source": [
    "# Use our test data to validate (use the loss function)"
   ]
  },
  {
   "cell_type": "code",
   "execution_count": 19,
   "id": "a17a0701",
   "metadata": {},
   "outputs": [
    {
     "name": "stdout",
     "output_type": "stream",
     "text": [
      "tf.Tensor(3.4142438e-09, shape=(), dtype=float32)\n"
     ]
    }
   ],
   "source": [
    "# Check how much loss you get now with the w0, w1\n",
    "loss = loss_mse(X_test, Y_test, w0,w1)\n",
    "print(loss)"
   ]
  }
 ],
 "metadata": {
  "interpreter": {
   "hash": "4bd624a0593993fe43ac4046b27b898fb2ef75c21c08f81e89e64ea0f51df676"
  },
  "kernelspec": {
   "display_name": "Python 3.9.7 64-bit ('tensorflow': conda)",
   "language": "python",
   "name": "python3"
  },
  "language_info": {
   "codemirror_mode": {
    "name": "ipython",
    "version": 3
   },
   "file_extension": ".py",
   "mimetype": "text/x-python",
   "name": "python",
   "nbconvert_exporter": "python",
   "pygments_lexer": "ipython3",
   "version": "3.9.7"
  }
 },
 "nbformat": 4,
 "nbformat_minor": 5
}
